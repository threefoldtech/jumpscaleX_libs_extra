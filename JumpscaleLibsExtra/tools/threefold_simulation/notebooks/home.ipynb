{
 "cells": [
  {
   "cell_type": "markdown",
   "metadata": {},
   "source": [
    "# Simulator for ThreeFold Grid\n",
    "\n",
    "## Simulator (Interactive)\n",
    "\n",
    "- [Token simulation](threefold_simulator.ipynb)\n",
    "- [Farming simulation over time, efficiency of farming equipment](nodebatch_simulator.ipynb)\n",
    "\n",
    "## Simulator Rendered\n",
    "\n",
    "- [Token simulation](/voila/render/threefold_simulator.ipynb)\n",
    "- [Farming simulation over time, efficiency of farming equipment](/voila/render/nodebatch_simulator.ipynb)\n",
    "- [reality checks](/voila/render/realitychecks.ipynb)\n",
    "\n",
    "the others don't seem to render well.\n",
    "\n",
    "## how to change main params & chose token creator\n",
    "\n",
    "edit [parameters](params/)\n",
    "\n",
    "## How to change the token minting rules\n",
    "\n",
    "edit [token creators](token_creators/)\n",
    "\n",
    "don't forget to chose the right token creator in the main params file \n",
    "the one used by default is optimized \n",
    "\n",
    "## How to change the bill of material for the grid\n",
    "\n",
    "edit [params bill of material for hardware](hardware/)\n",
    "\n",
    "## Code\n",
    "\n",
    "edit [code](code/)\n",
    "\n"
   ]
  },
  {
   "cell_type": "markdown",
   "metadata": {},
   "source": [
    "## current simulator changes with today's rules\n",
    "\n",
    "- requested feature: limit nr of TFT (today 100 Billion)\n",
    "- make the farming more predictable and remove human component (difficulty level)\n",
    "\n",
    "\n",
    "## Suggested Solution\n",
    "\n",
    "- 2 billion TFT maximum\n",
    "    - difficulty level gets adjusted in line with nr of total TFT to make sure we can never get above 2billion\n",
    "    - 50% of cultivated tokens (means capacity bought by users): get's burned\n",
    "        - this means that by using the capcacity tokens get destroyed leaving more room for new farmers\n",
    "- farming rules are +- same as today only changes: \n",
    "    - TFT price is of point of farming & difficulty level gets also recalculated as we go.\n",
    "\n",
    "## easy to understand\n",
    "\n",
    "- if value of the grid becomes 4 billion which is less than 1% of the current cloud market\n",
    "- then our TFT should be worth at least 2 USD\n",
    "- lets not forget cloud market still needs to grow X times (edge cloud did not even get started)"
   ]
  },
  {
   "cell_type": "code",
   "execution_count": null,
   "metadata": {},
   "outputs": [],
   "source": []
  }
 ],
 "metadata": {
  "kernelspec": {
   "display_name": "Python 3",
   "language": "python",
   "name": "python3"
  },
  "language_info": {
   "codemirror_mode": {
    "name": "ipython",
    "version": 3
   },
   "file_extension": ".py",
   "mimetype": "text/x-python",
   "name": "python",
   "nbconvert_exporter": "python",
   "pygments_lexer": "ipython3",
   "version": "3.7.5"
  }
 },
 "nbformat": 4,
 "nbformat_minor": 4
}
