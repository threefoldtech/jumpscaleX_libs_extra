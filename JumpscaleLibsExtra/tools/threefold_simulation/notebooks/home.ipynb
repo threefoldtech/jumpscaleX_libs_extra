{
 "cells": [
  {
   "cell_type": "markdown",
   "metadata": {},
   "source": [
    "# Simulator for ThreeFold Grid\n",
    "\n",
    "## Simulator\n",
    "\n",
    "- [Token simulation](threefold_simulator.ipynb)\n",
    "- [Farming simulation over time, efficiency of farming equipment](nodebatch_simulator.ipynb)\n",
    "- [Hardware Overview = Bill of Material](hardware_bill_of_material.ipynb)\n",
    "\n",
    "## how to change main params & chose token creator\n",
    "\n",
    "edit [params](params/params.py)\n",
    "\n",
    "## How to change the token minting rules\n",
    "\n",
    "edit [token creators](token_creators/)\n",
    "\n",
    "don't forget to chose the right token creator in the main params file \n",
    "\n",
    "## How to change the bill of material for the grid\n",
    "\n",
    "edit [params_bom_hardware_components](params/params_bom_hardware_components.py)\n",
    "\n",
    "\n"
   ]
  }
 ],
 "metadata": {
  "kernelspec": {
   "display_name": "Python 3",
   "language": "python",
   "name": "python3"
  },
  "language_info": {
   "codemirror_mode": {
    "name": "ipython",
    "version": 3
   },
   "file_extension": ".py",
   "mimetype": "text/x-python",
   "name": "python",
   "nbconvert_exporter": "python",
   "pygments_lexer": "ipython3",
   "version": "3.7.6"
  }
 },
 "nbformat": 4,
 "nbformat_minor": 4
}
