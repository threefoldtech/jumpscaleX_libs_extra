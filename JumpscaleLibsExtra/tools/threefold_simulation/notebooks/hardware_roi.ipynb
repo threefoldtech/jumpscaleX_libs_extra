{
 "cells": [
  {
   "cell_type": "markdown",
   "metadata": {},
   "source": [
    "# Grid Valuation Check\n"
   ]
  },
  {
   "cell_type": "markdown",
   "metadata": {},
   "source": [
    "## Input arguments"
   ]
  },
  {
   "cell_type": "code",
   "execution_count": 1,
   "metadata": {},
   "outputs": [],
   "source": [
    "\n",
    "from lib import *\n",
    "\n",
    "config = j.tools.tfgrid_simulator.simulator_config\n",
    "hwchoice_default = config.hardwareconfig\n",
    "startmonth = config.startmonth\n",
    "\n",
    "config.load();"
   ]
  },
  {
   "cell_type": "code",
   "execution_count": 2,
   "metadata": {},
   "outputs": [
    {
     "name": "stdout",
     "output_type": "stream",
     "text": [
      " - tft_price_5y: 3.0\n",
      " - node_growth: 0:5,6:150,12:1000,18:2000,24:8000,36:12000,48:20000,60:20000\n",
      " - price_cu: 15.0\n",
      " - price_su: 10.0\n",
      " - price_nu: 0.05\n"
     ]
    }
   ],
   "source": [
    "#parameters for simulation\n",
    "# choose your hardware profile (other choices in stead of amd or supermicro or hpe)\n",
    "\n",
    "simulation = j.tools.tfgrid_simulator.simulation_get(name=\"default\", hardware_config_name=\"amd\", reload=True)\n",
    "\n",
    "nb = simulation.nodesbatch_simulate(month=startmonth, hardware_config_name=hwchoice_default)\n",
    "node_normalized=nb.node_normalized\n",
    "environment2 = nb.environment;"
   ]
  },
  {
   "cell_type": "code",
   "execution_count": 5,
   "metadata": {},
   "outputs": [
    {
     "data": {
      "text/plain": [
       "\u001b[1;34m # dict: \n",
       "\n",
       "\u001b[0;37m - tft_farmed\n",
       " - tft_farmed_usd\n",
       " - tft_cultivated\n",
       " - tft_cultivated_usd\n",
       " - tft_sold\n",
       " - tft_burned\n",
       " - tft_farmer_income\n",
       " - tft_farmer_income_cumul\n",
       " - difficulty_level\n",
       " - tft_price\n",
       " - cost_rackspace\n",
       " - cost_power\n",
       " - cost_hardware\n",
       " - cost_maintenance\n",
       " - cost_network\n",
       " - rackspace_u\n",
       " - power\n",
       " - mbit_sec_used\n",
       " - tft_movement_usd\n",
       " - tft_farmer_income_cumul_usd\n",
       " - roi\n",
       "\u001b[0;0m"
      ]
     },
     "execution_count": 5,
     "metadata": {},
     "output_type": "execute_result"
    }
   ],
   "source": [
    "nb.rows"
   ]
  },
  {
   "cell_type": "code",
   "execution_count": 7,
   "metadata": {},
   "outputs": [
    {
     "data": {
      "application/vnd.jupyter.widget-view+json": {
       "model_id": "732b2ee843e24813a63343ff6280878d",
       "version_major": 2,
       "version_minor": 0
      },
      "text/plain": [
       "FigureWidget({\n",
       "    'data': [{'connectgaps': False,\n",
       "              'name': 'tft_farmed',\n",
       "              'type': '…"
      ]
     },
     "metadata": {},
     "output_type": "display_data"
    }
   ],
   "source": [
    "nb.graph([\"tft_farmed\",\"tft_cultivated\"])"
   ]
  },
  {
   "cell_type": "markdown",
   "metadata": {},
   "source": [
    "## Normalized Node Details"
   ]
  },
  {
   "cell_type": "code",
   "execution_count": 4,
   "metadata": {},
   "outputs": [
    {
     "data": {
      "text/plain": [
       "\u001b[0;0m\n",
       "\u001b[0;33m## threefold.simulation.device_or_environment\n",
       "\u001b[0;0m - \u001b[0;33mname                : normalized_device_a.dc.rack\n",
       "\u001b[0;0m - description         : \n",
       " - device_template_name: normalized\n",
       "\n",
       "    \u001b[0;33m## threefold.simulation.bom.production\n",
       "    \u001b[0;0m - cpr                 : 450\n",
       "     - cru                 : 54\n",
       "     - sru                 : 7,080\n",
       "     - hru                 : 276,000\n",
       "     - mru                 : 432\n",
       "     - su                  : 289.00\n",
       "     - cu                  : 107.75\n",
       "     - nu_used_month       : 12,637\n",
       "     - cu_perc             : 2.00%\n",
       "     - su_perc             : 4.25%\n",
       "     - cu_passmark         : 312\n",
       "     - cost_nu_month       : 159\n",
       "    \u001b[0;0m\n",
       "\n",
       "\n",
       "    \u001b[0;33m## threefold.simulation.bom.total\n",
       "    \u001b[0;0m - cost_hardware       : 31,761\n",
       "     - power               : 806\n",
       "     - power_kwh_month     : 580,410\n",
       "     - rackspace_u         : 2.75\n",
       "     - cost_hardware_month : 529\n",
       "     - cost_rack_month     : 33\n",
       "     - cost_power_month    : 87.1\n",
       "     - cost_maintenance_month: 52.9\n",
       "     - cost_total_month    : 702\n",
       "    \u001b[0;0m\n",
       "\n",
       "\n",
       "    \u001b[0;33m## threefold.simulation.bom.costunits\n",
       "    \u001b[0;0m - cost_cu_month       : 2.09\n",
       "     - cost_su_month       : 1.65\n",
       "     - cost_nu_month       : 0.01\n",
       "     - cost_su_capex       : 74.66\n",
       "     - cost_cu_capex       : 94.53\n",
       "    \u001b[0;0m\n",
       "\n",
       "\n",
       "    \u001b[0;33m## threefold.simulation.bom.layout\n",
       "    \u001b[0;0m - nr_devices_overhead : 0\n",
       "     - nr_devices_production: 1\n",
       "     - devices_production  : []\n",
       "     - devices_overhead    : []\n",
       "    \u001b[0;0m\n",
       "\n",
       "\n",
       "    \u001b[0;33m## threefold.simulation.bom.params\n",
       "    \u001b[0;0m - cost_power_kwh      : 0.15\n",
       "     - cost_rack_unit      : 12\n",
       "     - cost_mbitsec_month  : 2\n",
       "     - cost_maintenance_percent_of_hw: 10\n",
       "     - months_writeoff     : 60\n",
       "    \u001b[0;0m\n",
       "\n",
       "\u001b[0;0m"
      ]
     },
     "execution_count": 4,
     "metadata": {},
     "output_type": "execute_result"
    }
   ],
   "source": [
    "node_normalized"
   ]
  },
  {
   "cell_type": "code",
   "execution_count": null,
   "metadata": {},
   "outputs": [],
   "source": []
  },
  {
   "cell_type": "markdown",
   "metadata": {},
   "source": [
    "## Environment Details\n"
   ]
  }
 ],
 "metadata": {
  "kernelspec": {
   "display_name": "Python 3",
   "language": "python",
   "name": "python3"
  },
  "language_info": {
   "codemirror_mode": {
    "name": "ipython",
    "version": 3
   },
   "file_extension": ".py",
   "mimetype": "text/x-python",
   "name": "python",
   "nbconvert_exporter": "python",
   "pygments_lexer": "ipython3",
   "version": "3.7.5"
  }
 },
 "nbformat": 4,
 "nbformat_minor": 4
}
