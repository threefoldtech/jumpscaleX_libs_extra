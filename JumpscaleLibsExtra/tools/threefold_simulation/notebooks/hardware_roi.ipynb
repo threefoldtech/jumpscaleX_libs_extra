{
 "cells": [
  {
   "cell_type": "markdown",
   "metadata": {},
   "source": [
    "# Simulation Customized Node Batch\n"
   ]
  },
  {
   "cell_type": "markdown",
   "metadata": {},
   "source": [
    "## input arguments"
   ]
  },
  {
   "cell_type": "code",
   "execution_count": 1,
   "metadata": {},
   "outputs": [],
   "source": [
    "startmonth = 1\n",
    "\n",
    "#define how the nodes will grow\n",
    "# node_growth=\"0:5,6:150,12:1000,18:2000,24:8000,36:12000,48:20000,60:20000\"\n",
    "# node_growth=\"0:5,6:150,12:1000,24:5000\"\n",
    "# node_growth=\"0:1000\"\n",
    "\n",
    "from lib import *\n",
    "\n",
    "simulation = j.tools.tfgrid_simulator.simulation_get(\n",
    "            name=\"a_dc\",\n",
    "            tokencreator_name=\"optimized\",\n",
    "            bom_name=\"amd\", #dont change here, this is the growth calc\n",
    "            node_growth=None,\n",
    "            tft_growth=None,\n",
    "            reload=True,\n",
    "        )\n",
    "\n",
    "###################################################\n",
    "## NOW THE NODES BATCH WE WANT TO SIMULATE FOR\n",
    "\n",
    "#bill of material name\n",
    "# bom_name = \"CH_archive\"\n",
    "bom_name = \"A_dc_rack\"\n",
    "# bom_name = \"hpe_dl385_amd\"\n",
    "# bom_name = \"amd\"\n",
    "\n",
    "\n",
    "#parameters for simulation\n",
    "# choose your hardware profile (other choices in stead of amd or supermicro or hpe)\n",
    "bom, environment2 = j.tools.tfgrid_simulator.bom_environment_get(bom_name)\n",
    "nb = simulation.nodesbatch_get_environment(month=startmonth, environment=environment2)\n",
    "node_normalized=environment2.node_normalized\n",
    "\n",
    "\n"
   ]
  },
  {
   "cell_type": "markdown",
   "metadata": {},
   "source": [
    "- To change token creation params [default.py](/edit/params/default.py)\n",
    "- To edit token creation open [token_creators](/tree/token_creators)"
   ]
  },
  {
   "cell_type": "markdown",
   "metadata": {},
   "source": [
    "## Node Overview (= 1 server)"
   ]
  },
  {
   "cell_type": "code",
   "execution_count": 2,
   "metadata": {},
   "outputs": [
    {
     "data": {
      "text/plain": [
       "\u001b[0;0m\n",
       "\u001b[0;33m## threefold.simulation.device\n",
       "\u001b[0;0m - \u001b[0;33mname                : normalized_device_ch.archive\n",
       "\u001b[0;0m - description         : \n",
       " - device_template_name: \n",
       " - cost                : 10,607\n",
       " - power               : 395\n",
       " - rackspace_u         : 4\n",
       " - cru                 : 8\n",
       " - sru                 : 2015\n",
       " - hru                 : 196050\n",
       " - mru                 : 64\n",
       " - su                  : 180\n",
       " - cu                  : 15\n",
       " - cu_passmark         : 341\n",
       " - su_perc             : 82.71%\n",
       " - cu_perc             : 17.29%\n",
       " - cpr                 : 202\n",
       " - cost_su_capex       : 48.8\n",
       " - cost_cu_capex       : 115\n",
       " - cost_power          : 42.7\n",
       " - cost_rack           : 49.1\n",
       " - cost_month          : 268\n",
       " - cost_cu_month       : 2.9219314151434888\n",
       " - cost_su_month       : 1.2356445105860872\n",
       "\u001b[0;0m"
      ]
     },
     "execution_count": 2,
     "metadata": {},
     "output_type": "execute_result"
    }
   ],
   "source": [
    "node_normalized"
   ]
  },
  {
   "cell_type": "code",
   "execution_count": 3,
   "metadata": {},
   "outputs": [
    {
     "data": {
      "text/plain": [
       "(29,\n",
       " \u001b[0;0m\n",
       " \u001b[0;33m## threefold.simulation.device\n",
       " \u001b[0;0m - \u001b[0;33mname                : archive_compute_frontend\n",
       " \u001b[0;0m - description         : \n",
       "  - device_template_name: archive_compute_frontend\n",
       "  - cost                : 7,505\n",
       "  - power               : 287\n",
       "  - rackspace_u         : 4\n",
       "  - cru                 : 8\n",
       "  - sru                 : 12000\n",
       "  - hru                 : 0\n",
       "  - mru                 : 64\n",
       "  - su                  : 100\n",
       "  - cu                  : 15\n",
       "  - cu_passmark         : 341\n",
       "  - su_perc             : 76.77%\n",
       "  - cu_perc             : 23.23%\n",
       "  - cpr                 : 123\n",
       "  - cost_su_capex       : 57.6\n",
       "  - cost_cu_capex       : 110\n",
       "  - cost_power          : 31.0\n",
       "  - cost_rack           : 48\n",
       "  - cost_month          : 204\n",
       "  - cost_cu_month       : 3.010160994610295\n",
       "  - cost_su_month       : 1.5666929766822117\n",
       " \u001b[0;0m,\n",
       " 'n')"
      ]
     },
     "execution_count": 3,
     "metadata": {},
     "output_type": "execute_result"
    }
   ],
   "source": [
    "environment2.devices.compute"
   ]
  },
  {
   "cell_type": "code",
   "execution_count": 4,
   "metadata": {},
   "outputs": [
    {
     "data": {
      "text/plain": [
       "(285,\n",
       " \u001b[0;0m\n",
       " \u001b[0;33m## threefold.simulation.device\n",
       " \u001b[0;0m - \u001b[0;33mname                : storage_server\n",
       " \u001b[0;0m - description         : \n",
       "  - device_template_name: storage_server\n",
       "  - cost                : 10,450\n",
       "  - power               : 396\n",
       "  - rackspace_u         : 4\n",
       "  - cru                 : 8\n",
       "  - sru                 : 1000\n",
       "  - hru                 : 216000\n",
       "  - mru                 : 64\n",
       "  - su                  : 188\n",
       "  - cu                  : 15\n",
       "  - cu_passmark         : 341\n",
       "  - su_perc             : 83.32%\n",
       "  - cu_perc             : 16.68%\n",
       "  - cpr                 : 211\n",
       "  - cost_su_capex       : 46.2\n",
       "  - cost_cu_capex       : 110\n",
       "  - cost_power          : 42.8\n",
       "  - cost_rack           : 48\n",
       "  - cost_month          : 264\n",
       "  - cost_cu_month       : 2.806492542467279\n",
       "  - cost_su_month       : 1.1720304909175594\n",
       " \u001b[0;0m,\n",
       " 'n')"
      ]
     },
     "execution_count": 4,
     "metadata": {},
     "output_type": "execute_result"
    }
   ],
   "source": [
    "try:\n",
    "    a= environment2.devices.storage\n",
    "except:\n",
    "    a=\"\"\n",
    "a"
   ]
  },
  {
   "cell_type": "code",
   "execution_count": 5,
   "metadata": {},
   "outputs": [
    {
     "data": {
      "text/plain": [
       "\u001b[0;0m\n",
       "\u001b[0;33m## threefold.simulation.environment\n",
       "\u001b[0;0m - \u001b[0;33mname                : CH_archive\n",
       "\u001b[0;0m - description         : \n",
       " - cost_power_kwh      : 0.15\n",
       " - cost_rack_unit      : 12\n",
       " - cost                : 3,330,895\n",
       " - power               : 124,183\n",
       " - rackspace_u         : 1286\n",
       " - cru                 : 2512\n",
       " - sru                 : 633000\n",
       " - hru                 : 61560000\n",
       " - mru                 : 20096\n",
       " - su                  : 56575\n",
       " - cu                  : 4945\n",
       " - cu_passmark         : 107,074\n",
       " - su_perc             : 82.87%\n",
       " - cu_perc             : 17.13%\n",
       " - cpr                 : 63,993\n",
       " - cost_su_capex       : 48.8\n",
       " - cost_cu_capex       : 115\n",
       " - cost_power          : 13,411\n",
       " - cost_rack           : 15,432\n",
       " - cost_month          : 84,357\n",
       " - cost_cu_month       : 2.9219314151434888\n",
       " - cost_su_month       : 1.2356445105860872\n",
       " - nr_devices          : 344\n",
       " - nr_nodes            : 314\n",
       " - sales_price_total   : 0\n",
       "\u001b[0;0m"
      ]
     },
     "execution_count": 5,
     "metadata": {},
     "output_type": "execute_result"
    }
   ],
   "source": [
    "environment2"
   ]
  },
  {
   "cell_type": "code",
   "execution_count": 6,
   "metadata": {},
   "outputs": [
    {
     "ename": "NameError",
     "evalue": "name 'normalized' is not defined",
     "output_type": "error",
     "traceback": [
      "\u001b[0;31m---------------------------------------------------------------------------\u001b[0m",
      "\u001b[0;31mNameError\u001b[0m                                 Traceback (most recent call last)",
      "\u001b[0;32m<ipython-input-6-710f381ce795>\u001b[0m in \u001b[0;36m<module>\u001b[0;34m\u001b[0m\n\u001b[1;32m      7\u001b[0m \u001b[0;34m-\u001b[0m \u001b[0mperformance\u001b[0m \u001b[0;32min\u001b[0m \u001b[0mpassmark\u001b[0m \u001b[0;34m=\u001b[0m \u001b[0;34m{\u001b[0m\u001b[0mround\u001b[0m\u001b[0;34m(\u001b[0m\u001b[0mnormalized\u001b[0m\u001b[0;34m.\u001b[0m\u001b[0mcu_passmark\u001b[0m\u001b[0;34m*\u001b[0m\u001b[0mnode_normalized\u001b[0m\u001b[0;34m.\u001b[0m\u001b[0mcu\u001b[0m\u001b[0;34m)\u001b[0m\u001b[0;34m}\u001b[0m\u001b[0;34m\u001b[0m\u001b[0;34m\u001b[0m\u001b[0m\n\u001b[1;32m      8\u001b[0m \u001b[0;34m\u001b[0m\u001b[0m\n\u001b[0;32m----> 9\u001b[0;31m \"\"\")\n\u001b[0m",
      "\u001b[0;31mNameError\u001b[0m: name 'normalized' is not defined"
     ]
    }
   ],
   "source": [
    "md(f\"\"\"\n",
    "### Normalized Node Details\n",
    "\n",
    "- nr of TB netto usable = {round(node_normalized.su,0)} TB\n",
    "- nr of cpu cores = {round(node_normalized.cru,1)} Cores\n",
    "- power used = {node_normalized.power} watt\n",
    "- performance in passmark = {round(node_normalized.cu_passmark*node_normalized.cu)}\n",
    "\n",
    "\"\"\")"
   ]
  },
  {
   "cell_type": "code",
   "execution_count": null,
   "metadata": {},
   "outputs": [],
   "source": [
    "nb.simulated_months=[]\n",
    "nb._data"
   ]
  },
  {
   "cell_type": "code",
   "execution_count": null,
   "metadata": {},
   "outputs": [],
   "source": [
    "md(f\"\"\"\n",
    "- Hardware Investment Cost for the node batch : USD {nb.cost_hardware}\n",
    "- ROI In Months                 : {nb.roi_months}\n",
    "\"\"\")"
   ]
  },
  {
   "cell_type": "code",
   "execution_count": null,
   "metadata": {},
   "outputs": [],
   "source": [
    "nb.graph_tft(single=True)"
   ]
  },
  {
   "cell_type": "code",
   "execution_count": null,
   "metadata": {},
   "outputs": [],
   "source": [
    "nb.graph_usd(single=True)"
   ]
  },
  {
   "cell_type": "code",
   "execution_count": null,
   "metadata": {},
   "outputs": [],
   "source": [
    "nb.graph_usd(single=True,cumul=True)"
   ]
  },
  {
   "cell_type": "code",
   "execution_count": null,
   "metadata": {},
   "outputs": [],
   "source": [
    "\n",
    "md(f\"\"\"\n",
    "- The Return On investment is compared to cost to buy all the hardware.\n",
    "- The costs of the rackspace and power have been paid with income of TFT, so its the net result which is shown.\n",
    "- ROI is in **{nb.roi_months}** months (starting month:{startmonth}).\n",
    "- the ROI after 60 months' is:  **{round(nb.roi_end,1)}**\n",
    "\"\"\")"
   ]
  },
  {
   "cell_type": "markdown",
   "metadata": {},
   "source": [
    "### Token price per month"
   ]
  },
  {
   "cell_type": "code",
   "execution_count": null,
   "metadata": {},
   "outputs": [],
   "source": [
    "simulation.graph_token_price()"
   ]
  },
  {
   "cell_type": "code",
   "execution_count": null,
   "metadata": {},
   "outputs": [],
   "source": [
    "simulation.graph_nr_nodes()"
   ]
  }
 ],
 "metadata": {
  "kernelspec": {
   "display_name": "Python 3",
   "language": "python",
   "name": "python3"
  },
  "language_info": {
   "codemirror_mode": {
    "name": "ipython",
    "version": 3
   },
   "file_extension": ".py",
   "mimetype": "text/x-python",
   "name": "python",
   "nbconvert_exporter": "python",
   "pygments_lexer": "ipython3",
   "version": "3.7.5"
  }
 },
 "nbformat": 4,
 "nbformat_minor": 4
}
