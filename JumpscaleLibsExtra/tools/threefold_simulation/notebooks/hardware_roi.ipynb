{
 "cells": [
  {
   "cell_type": "markdown",
   "metadata": {},
   "source": [
    "# Simulation Normalized Node Batch\n"
   ]
  },
  {
   "cell_type": "markdown",
   "metadata": {},
   "source": [
    "## input arguments"
   ]
  },
  {
   "cell_type": "code",
   "execution_count": 2,
   "metadata": {},
   "outputs": [],
   "source": [
    "startmonth = 10\n",
    "\n",
    "from lib import *\n",
    "simulation = j.tools.tfgrid_simulator.simulation_get(\n",
    "            name=\"default\",\n",
    "            tokencreator_name=\"optimized\",\n",
    "            bom_name=\"amd\",\n",
    "            node_growth=None,\n",
    "            tft_growth=None,\n",
    "            reload=False,\n",
    "        )\n",
    "\n",
    "#parameters for simulation\n",
    "# choose your hardware profile (other choices in stead of amd or supermicro or hpe)\n",
    "bom, environment2 = j.tools.tfgrid_simulator.bom_environment_get(\"supermicro_compute\")\n",
    "nb = simulation.nodesbatch_get_environment(month=1, environment=environment2)\n",
    "server=environment2.node_normalized\n"
   ]
  },
  {
   "cell_type": "markdown",
   "metadata": {},
   "source": [
    "- To change token creation params [default.py](/edit/params/default.py)\n",
    "- To edit token creation open [token_creators](/tree/token_creators)"
   ]
  },
  {
   "cell_type": "markdown",
   "metadata": {},
   "source": [
    "## Node Overview (= 1 server)"
   ]
  },
  {
   "cell_type": "code",
   "execution_count": 3,
   "metadata": {},
   "outputs": [
    {
     "data": {
      "text/plain": [
       "\u001b[0;0m\n",
       "\u001b[0;33m## threefold.simulation.device\n",
       "\u001b[0;0m - \u001b[0;33mname                : server\n",
       "\u001b[0;0m - description         : \n",
       " - device_template_name: server\n",
       " - cost                : 12,725\n",
       " - power               : 287\n",
       " - rackspace_u         : 4\n",
       " - cru                 : 8\n",
       " - sru                 : 24000\n",
       " - hru                 : 0\n",
       " - mru                 : 64\n",
       " - su                  : 200\n",
       " - cu                  : 15\n",
       " - cu_passmark         : 341\n",
       " - su_perc             : 71.62%\n",
       " - cu_perc             : 28.38%\n",
       " - cpr                 : 223\n",
       " - cost_su_capex       : 45.5675\n",
       " - cost_cu_capex       : 229.30158730158732\n",
       " - cost_power          : 30.995999999999995\n",
       " - cost_rack           : 48\n",
       " - cost_month          : 291.07933333333335\n",
       " - cost_cu_month       : 5.2451829598444935\n",
       " - cost_su_month       : 1.042338508578913\n",
       "\u001b[0;0m"
      ]
     },
     "execution_count": 3,
     "metadata": {},
     "output_type": "execute_result"
    }
   ],
   "source": [
    "server"
   ]
  },
  {
   "cell_type": "code",
   "execution_count": 3,
   "metadata": {},
   "outputs": [
    {
     "data": {
      "text/markdown": [
       "\n",
       "### Device Details\n",
       "\n",
       "- nr of TB netto usable = 58.3 TB\n",
       "- nr of cpu cores = 16.0 Cores\n",
       "- power used = 232 watt\n",
       "- performance in passmark = 24460\n",
       "\n"
      ],
      "text/plain": [
       "<IPython.core.display.Markdown object>"
      ]
     },
     "execution_count": 3,
     "metadata": {},
     "output_type": "execute_result"
    }
   ],
   "source": [
    "md(f\"\"\"\n",
    "### Device Details\n",
    "\n",
    "- nr of TB netto usable = {round(server.su,1)} TB\n",
    "- nr of cpu cores = {round(server.cru,1)} Cores\n",
    "- power used = {server.power} watt\n",
    "- performance in passmark = {round(server.cu_passmark*server.cu)}\n",
    "\n",
    "\"\"\")"
   ]
  },
  {
   "cell_type": "code",
   "execution_count": 10,
   "metadata": {},
   "outputs": [
    {
     "data": {
      "text/plain": [
       "\u001b[0;33m## threefold.simulation.nodesbatch\n",
       "\u001b[0;0m - \u001b[0;33mname                : custom\n",
       "\u001b[0;0m - batch_nr            : 1\n",
       " - nrnodes             : 20\n",
       " - month_start         : 1\n",
       " - months_left         : 60\n",
       " - tft_farmed_before_simulation: 0\n",
       "\n",
       "    \u001b[0;33m## threefold.simulation.nodesbatch.node\n",
       "    \u001b[0;0m - rackspace_u         : 4\n",
       "     - cost_hardware       : 12,725\n",
       "     - cpr                 : 204\n",
       "     - power               : 287\n",
       "    \u001b[0;0m\n",
       "\n",
       " - simulated_months    : []\n",
       "\u001b[0;0m"
      ]
     },
     "execution_count": 10,
     "metadata": {},
     "output_type": "execute_result"
    }
   ],
   "source": [
    "nb.simulated_months=[]\n",
    "nb._data"
   ]
  },
  {
   "cell_type": "code",
   "execution_count": 11,
   "metadata": {},
   "outputs": [
    {
     "data": {
      "text/markdown": [
       "\n",
       "- Hardware Investment Cost for the node batch : USD 254,500\n",
       "- ROI In Months                 : 12\n"
      ],
      "text/plain": [
       "<IPython.core.display.Markdown object>"
      ]
     },
     "execution_count": 11,
     "metadata": {},
     "output_type": "execute_result"
    }
   ],
   "source": [
    "md(f\"\"\"\n",
    "- Hardware Investment Cost for the node batch : USD {nb.cost_hardware}\n",
    "- ROI In Months                 : {nb.roi_months}\n",
    "\"\"\")"
   ]
  },
  {
   "cell_type": "code",
   "execution_count": 12,
   "metadata": {},
   "outputs": [
    {
     "data": {
      "application/vnd.jupyter.widget-view+json": {
       "model_id": "039ff81847334b42a7d612847b149c4a",
       "version_major": 2,
       "version_minor": 0
      },
      "text/plain": [
       "FigureWidget({\n",
       "    'data': [{'name': 'farmed',\n",
       "              'type': 'scatter',\n",
       "              'uid': 'c1c196e5…"
      ]
     },
     "metadata": {},
     "output_type": "display_data"
    }
   ],
   "source": [
    "nb.graph_tft(single=True)"
   ]
  },
  {
   "cell_type": "code",
   "execution_count": 8,
   "metadata": {},
   "outputs": [
    {
     "data": {
      "application/vnd.jupyter.widget-view+json": {
       "model_id": "b17fd508dc4241709a36097a0ee417a0",
       "version_major": 2,
       "version_minor": 0
      },
      "text/plain": [
       "FigureWidget({\n",
       "    'data': [{'connectgaps': False,\n",
       "              'name': 'farmed',\n",
       "              'type': 'scat…"
      ]
     },
     "metadata": {},
     "output_type": "display_data"
    }
   ],
   "source": [
    "nb.graph_usd(single=True)"
   ]
  },
  {
   "cell_type": "code",
   "execution_count": 9,
   "metadata": {},
   "outputs": [
    {
     "data": {
      "application/vnd.jupyter.widget-view+json": {
       "model_id": "d719f5d142af42fcae089d118e883522",
       "version_major": 2,
       "version_minor": 0
      },
      "text/plain": [
       "FigureWidget({\n",
       "    'data': [{'connectgaps': False,\n",
       "              'name': 'farmed',\n",
       "              'type': 'scat…"
      ]
     },
     "metadata": {},
     "output_type": "display_data"
    }
   ],
   "source": [
    "nb.graph_usd(single=True,cumul=True)"
   ]
  },
  {
   "cell_type": "code",
   "execution_count": 10,
   "metadata": {},
   "outputs": [
    {
     "data": {
      "text/markdown": [
       "\n",
       "- The Return On investment is compared to cost to buy all the hardware.\n",
       "- The costs of the rackspace and power have been paid with income of TFT, so its the net result which is shown.\n",
       "- ROI is in **11** months (starting month:10).\n",
       "- the ROI after 60 months' is:  **16.0**\n"
      ],
      "text/plain": [
       "<IPython.core.display.Markdown object>"
      ]
     },
     "execution_count": 10,
     "metadata": {},
     "output_type": "execute_result"
    }
   ],
   "source": [
    "\n",
    "md(f\"\"\"\n",
    "- The Return On investment is compared to cost to buy all the hardware.\n",
    "- The costs of the rackspace and power have been paid with income of TFT, so its the net result which is shown.\n",
    "- ROI is in **{nb.roi_months}** months (starting month:{startmonth}).\n",
    "- the ROI after 60 months' is:  **{round(nb.roi_end,1)}**\n",
    "\"\"\")"
   ]
  },
  {
   "cell_type": "code",
   "execution_count": 11,
   "metadata": {},
   "outputs": [
    {
     "data": {
      "application/vnd.jupyter.widget-view+json": {
       "model_id": "18f353853c994a278786dd7767ce4bcb",
       "version_major": 2,
       "version_minor": 0
      },
      "text/plain": [
       "FigureWidget({\n",
       "    'data': [{'connectgaps': False,\n",
       "              'name': 'batch_1',\n",
       "              'type': 'sca…"
      ]
     },
     "metadata": {},
     "output_type": "display_data"
    }
   ],
   "source": [
    "simulation.graph_nodesbatches_usd_simulation()"
   ]
  }
 ],
 "metadata": {
  "kernelspec": {
   "display_name": "Python 3",
   "language": "python",
   "name": "python3"
  },
  "language_info": {
   "codemirror_mode": {
    "name": "ipython",
    "version": 3
   },
   "file_extension": ".py",
   "mimetype": "text/x-python",
   "name": "python",
   "nbconvert_exporter": "python",
   "pygments_lexer": "ipython3",
   "version": "3.7.5"
  }
 },
 "nbformat": 4,
 "nbformat_minor": 4
}
