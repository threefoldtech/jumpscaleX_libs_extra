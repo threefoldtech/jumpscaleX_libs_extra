{
 "cells": [
  {
   "cell_type": "markdown",
   "metadata": {},
   "source": [
    "# Simulation Customized Node Batch\n"
   ]
  },
  {
   "cell_type": "markdown",
   "metadata": {},
   "source": [
    "## input arguments"
   ]
  },
  {
   "cell_type": "code",
   "execution_count": 5,
   "metadata": {},
   "outputs": [],
   "source": [
    "startmonth = 1\n",
    "\n",
    "#define how the nodes will grow\n",
    "#can also change this in your simulation file, which is recommended\n",
    "# node_growth=\"0:5,6:150,12:1000,18:2000,24:8000,36:12000,48:20000,60:20000\"\n",
    "# node_growth=\"0:5,6:150,12:1000,24:5000\"\n",
    "# node_growth=\"0:1000\"\n",
    "\n",
    "from lib import *\n",
    "\n",
    "simulation = j.tools.tfgrid_simulator.simulation_get(\n",
    "            name=\"a_dc\",\n",
    "            tokencreator_name=\"optimized\",\n",
    "            hardware_config_name=\"amd\", #dont change here, this simulates the baseline\n",
    "            node_growth=None,\n",
    "            tft_growth=None,\n",
    "            reload=True,\n",
    "        )\n",
    "\n",
    "###################################################\n",
    "## NOW THE NODES BATCH WE WANT TO SIMULATE FOR\n",
    "\n",
    "# bill of material name\n",
    "# hardware_config_name = \"CH_archive\"\n",
    "hardware_config_name = \"A_dc_rack\"\n",
    "# hardware_config_name = \"hpe_dl385_amd\"\n",
    "# hardware_config_name = \"amd\"\n",
    "\n",
    "\n",
    "\n",
    "#parameters for simulation\n",
    "# choose your hardware profile (other choices in stead of amd or supermicro or hpe)\n",
    "nb = simulation.nodesbatch_simulate(month=startmonth, hardware_config_name=hardware_config_name)\n",
    "node_normalized=nb.node_normalized\n",
    "environment2 = nb.environment\n",
    "\n"
   ]
  },
  {
   "cell_type": "markdown",
   "metadata": {},
   "source": [
    "- To change token creation params [default.py](/edit/params/default.py)\n",
    "- To edit token creation open [token_creators](/tree/token_creators)"
   ]
  },
  {
   "cell_type": "markdown",
   "metadata": {},
   "source": [
    "## Node Overview (= 1 server)"
   ]
  },
  {
   "cell_type": "code",
   "execution_count": 6,
   "metadata": {},
   "outputs": [
    {
     "data": {
      "text/plain": [
       "\u001b[0;0m\n",
       "\u001b[0;33m## threefold.simulation.device\n",
       "\u001b[0;0m - \u001b[0;33mname                : normalized_device_a.dc.rack\n",
       "\u001b[0;0m - description         : \n",
       " - device_template_name: \n",
       " - cost                : 31,761\n",
       " - power               : 806\n",
       " - rackspace_u         : 2\n",
       " - cru                 : 54\n",
       " - sru                 : 7080\n",
       " - hru                 : 276000\n",
       " - mru                 : 432\n",
       " - su                  : 289\n",
       " - cu                  : 107\n",
       " - cu_passmark         : 312\n",
       " - su_perc             : 67.93%\n",
       " - cu_perc             : 32.07%\n",
       " - cpr                 : 450\n",
       " - cost_su_capex       : 83.7\n",
       " - cost_cu_capex       : 70.4\n",
       " - cost_power          : 87.1\n",
       " - cost_rack           : 33\n",
       " - cost_month          : 649\n",
       " - cost_cu_month       : 1.4394545381615664\n",
       " - cost_su_month       : 1.7102898737477206\n",
       "\u001b[0;0m"
      ]
     },
     "execution_count": 6,
     "metadata": {},
     "output_type": "execute_result"
    }
   ],
   "source": [
    "node_normalized"
   ]
  },
  {
   "cell_type": "code",
   "execution_count": 7,
   "metadata": {},
   "outputs": [
    {
     "data": {
      "text/plain": [
       "(11,\n",
       " \u001b[0;0m\n",
       " \u001b[0;33m## threefold.simulation.device\n",
       " \u001b[0;0m - \u001b[0;33mname                : hpe_compute_server\n",
       " \u001b[0;0m - description         : \n",
       "  - device_template_name: hpe_compute_server\n",
       "  - cost                : 20,120\n",
       "  - power               : 698\n",
       "  - rackspace_u         : 2\n",
       "  - cru                 : 64\n",
       "  - sru                 : 7680\n",
       "  - hru                 : 96000\n",
       "  - mru                 : 512\n",
       "  - su                  : 144\n",
       "  - cu                  : 127\n",
       "  - cu_passmark         : 283\n",
       "  - su_perc             : 57.46%\n",
       "  - cu_perc             : 42.54%\n",
       "  - cpr                 : 335\n",
       "  - cost_su_capex       : 80.3\n",
       "  - cost_cu_capex       : 67.0\n",
       "  - cost_power          : 75.4\n",
       "  - cost_rack           : 24\n",
       "  - cost_month          : 434\n",
       "  - cost_cu_month       : 1.4477442092390211\n",
       "  - cost_su_month       : 1.7345000736322804\n",
       " \u001b[0;0m,\n",
       " 'n')"
      ]
     },
     "execution_count": 7,
     "metadata": {},
     "output_type": "execute_result"
    }
   ],
   "source": [
    "environment2.devices.compute"
   ]
  },
  {
   "cell_type": "code",
   "execution_count": 8,
   "metadata": {},
   "outputs": [
    {
     "data": {
      "text/plain": [
       "(5,\n",
       " \u001b[0;0m\n",
       " \u001b[0;33m## threefold.simulation.device\n",
       " \u001b[0;0m - \u001b[0;33mname                : hpe_storage_server\n",
       " \u001b[0;0m - description         : \n",
       "  - device_template_name: hpe_storage_server\n",
       "  - cost                : 55,574\n",
       "  - power               : 1,004\n",
       "  - rackspace_u         : 4\n",
       "  - cru                 : 32\n",
       "  - sru                 : 5760\n",
       "  - hru                 : 672000\n",
       "  - mru                 : 256\n",
       "  - su                  : 608\n",
       "  - cu                  : 63\n",
       "  - cu_passmark         : 377\n",
       "  - su_perc             : 90.98%\n",
       "  - cu_perc             : 9.02%\n",
       "  - cpr                 : 703\n",
       "  - cost_su_capex       : 83.2\n",
       "  - cost_cu_capex       : 78.7\n",
       "  - cost_power          : 108\n",
       "  - cost_rack           : 48\n",
       "  - cost_month          : 1,082\n",
       "  - cost_cu_month       : 1.5322397146735522\n",
       "  - cost_su_month       : 1.6200412031626554\n",
       " \u001b[0;0m,\n",
       " 'n')"
      ]
     },
     "execution_count": 8,
     "metadata": {},
     "output_type": "execute_result"
    }
   ],
   "source": [
    "try:\n",
    "    a= environment2.devices.storage\n",
    "except:\n",
    "    a=\"\"\n",
    "a"
   ]
  },
  {
   "cell_type": "code",
   "execution_count": 9,
   "metadata": {},
   "outputs": [
    {
     "data": {
      "text/plain": [
       "\u001b[0;0m\n",
       "\u001b[0;33m## threefold.simulation.environment\n",
       "\u001b[0;0m - \u001b[0;33mname                : A_dc_rack\n",
       "\u001b[0;0m - description         : \n",
       " - cost_power_kwh      : 0.15\n",
       " - cost_rack_unit      : 12\n",
       " - cost                : 508,190\n",
       " - power               : 12,898\n",
       " - rackspace_u         : 44\n",
       " - cru                 : 864\n",
       " - sru                 : 113280\n",
       " - hru                 : 4416000\n",
       " - mru                 : 6912\n",
       " - su                  : 4624\n",
       " - cu                  : 1724\n",
       " - cu_passmark         : 4,998\n",
       " - su_perc             : 76.12%\n",
       " - cu_perc             : 23.88%\n",
       " - cpr                 : 7,210\n",
       " - cost_su_capex       : 83.7\n",
       " - cost_cu_capex       : 70.4\n",
       " - cost_power          : 1,392\n",
       " - cost_rack           : 528\n",
       " - cost_month          : 10,390\n",
       " - cost_cu_month       : 1.4394545381615664\n",
       " - cost_su_month       : 1.7102898737477206\n",
       " - nr_devices          : 18\n",
       " - nr_nodes            : 16\n",
       " - sales_price_total   : 0\n",
       "\u001b[0;0m"
      ]
     },
     "execution_count": 9,
     "metadata": {},
     "output_type": "execute_result"
    }
   ],
   "source": [
    "environment2"
   ]
  },
  {
   "cell_type": "code",
   "execution_count": 10,
   "metadata": {},
   "outputs": [
    {
     "data": {
      "text/markdown": [
       "\n",
       "### Normalized Node Details\n",
       "\n",
       "- nr of TB netto usable = 289.0 TB\n",
       "- nr of cpu cores = 54.0 Cores\n",
       "- power used = 806 watt\n",
       "- performance in passmark = 33618\n",
       "\n"
      ],
      "text/plain": [
       "<IPython.core.display.Markdown object>"
      ]
     },
     "execution_count": 10,
     "metadata": {},
     "output_type": "execute_result"
    }
   ],
   "source": [
    "md(f\"\"\"\n",
    "### Normalized Node Details\n",
    "\n",
    "- nr of TB netto usable = {round(node_normalized.su,0)} TB\n",
    "- nr of cpu cores = {round(node_normalized.cru,1)} Cores\n",
    "- power used = {node_normalized.power} watt\n",
    "- performance in passmark = {round(node_normalized.cu_passmark*node_normalized.cu)}\n",
    "\n",
    "\"\"\")"
   ]
  },
  {
   "cell_type": "code",
   "execution_count": 11,
   "metadata": {},
   "outputs": [
    {
     "data": {
      "text/plain": [
       "\u001b[0;33m## threefold.simulation.nodesbatch\n",
       "\u001b[0;0m - \u001b[0;33mname                : nodesbatch_simulate_A_dc_rack_1\n",
       "\u001b[0;0m - batch_nr            : 1\n",
       " - nrnodes             : 16\n",
       " - month_start         : 1\n",
       " - months_left         : 60\n",
       " - tft_farmed_before_simulation: 0\n",
       "\n",
       "    \u001b[0;33m## threefold.simulation.nodesbatch.node\n",
       "    \u001b[0;0m - rackspace_u         : 2\n",
       "     - cost_hardware       : 31,761\n",
       "     - cpr                 : 403\n",
       "     - power               : 806\n",
       "    \u001b[0;0m\n",
       "\n",
       " - simulated_months    : []\n",
       "\u001b[0;0m"
      ]
     },
     "execution_count": 11,
     "metadata": {},
     "output_type": "execute_result"
    }
   ],
   "source": [
    "nb.simulated_months=[]\n",
    "nb._data"
   ]
  },
  {
   "cell_type": "code",
   "execution_count": 12,
   "metadata": {},
   "outputs": [
    {
     "data": {
      "text/markdown": [
       "\n",
       "- Hardware Investment Cost for the node batch : USD 508,176\n",
       "- ROI In Months                 : 15\n"
      ],
      "text/plain": [
       "<IPython.core.display.Markdown object>"
      ]
     },
     "execution_count": 12,
     "metadata": {},
     "output_type": "execute_result"
    }
   ],
   "source": [
    "md(f\"\"\"\n",
    "- Hardware Investment Cost for the node batch : USD {nb.cost_hardware}\n",
    "- ROI In Months                 : {nb.roi_months}\n",
    "\"\"\")"
   ]
  },
  {
   "cell_type": "code",
   "execution_count": 13,
   "metadata": {},
   "outputs": [
    {
     "data": {
      "application/vnd.jupyter.widget-view+json": {
       "model_id": "d40dca9bb5f441cebaa6863fa7b1b880",
       "version_major": 2,
       "version_minor": 0
      },
      "text/plain": [
       "FigureWidget({\n",
       "    'data': [{'name': 'farmed',\n",
       "              'type': 'scatter',\n",
       "              'uid': 'bfd100e8…"
      ]
     },
     "metadata": {},
     "output_type": "display_data"
    }
   ],
   "source": [
    "nb.graph_tft(single=True)"
   ]
  },
  {
   "cell_type": "code",
   "execution_count": 14,
   "metadata": {},
   "outputs": [
    {
     "data": {
      "application/vnd.jupyter.widget-view+json": {
       "model_id": "bb980132c71e4203b4e58d25464c8fa2",
       "version_major": 2,
       "version_minor": 0
      },
      "text/plain": [
       "FigureWidget({\n",
       "    'data': [{'connectgaps': False,\n",
       "              'name': 'farmed',\n",
       "              'type': 'scat…"
      ]
     },
     "metadata": {},
     "output_type": "display_data"
    }
   ],
   "source": [
    "nb.graph_usd(single=True)"
   ]
  },
  {
   "cell_type": "code",
   "execution_count": 15,
   "metadata": {},
   "outputs": [
    {
     "data": {
      "application/vnd.jupyter.widget-view+json": {
       "model_id": "3b566be380aa4a19ab98a8883ea73c57",
       "version_major": 2,
       "version_minor": 0
      },
      "text/plain": [
       "FigureWidget({\n",
       "    'data': [{'connectgaps': False,\n",
       "              'name': 'farmed',\n",
       "              'type': 'scat…"
      ]
     },
     "metadata": {},
     "output_type": "display_data"
    }
   ],
   "source": [
    "nb.graph_usd(single=True,cumul=True)"
   ]
  },
  {
   "cell_type": "code",
   "execution_count": 16,
   "metadata": {},
   "outputs": [
    {
     "data": {
      "text/markdown": [
       "\n",
       "- The Return On investment is compared to cost to buy all the hardware.\n",
       "- The costs of the rackspace and power have been paid with income of TFT, so its the net result which is shown.\n",
       "- ROI is in **15** months (starting month:1).\n",
       "- the ROI after 60 months' is:  **8.3**\n"
      ],
      "text/plain": [
       "<IPython.core.display.Markdown object>"
      ]
     },
     "execution_count": 16,
     "metadata": {},
     "output_type": "execute_result"
    }
   ],
   "source": [
    "\n",
    "md(f\"\"\"\n",
    "- The Return On investment is compared to cost to buy all the hardware.\n",
    "- The costs of the rackspace and power have been paid with income of TFT, so its the net result which is shown.\n",
    "- ROI is in **{nb.roi_months}** months (starting month:{startmonth}).\n",
    "- the ROI after 60 months' is:  **{round(nb.roi_end,1)}**\n",
    "\"\"\")"
   ]
  },
  {
   "cell_type": "markdown",
   "metadata": {},
   "source": [
    "### Token price per month"
   ]
  },
  {
   "cell_type": "code",
   "execution_count": 17,
   "metadata": {},
   "outputs": [
    {
     "data": {
      "application/vnd.jupyter.widget-view+json": {
       "model_id": "9bff702856c44261a5f48bfb4b31e578",
       "version_major": 2,
       "version_minor": 0
      },
      "text/plain": [
       "FigureWidget({\n",
       "    'data': [{'type': 'scatter',\n",
       "              'uid': 'b236ca2f-8033-4299-ba3a-f99549435087',\n",
       " …"
      ]
     },
     "metadata": {},
     "output_type": "display_data"
    }
   ],
   "source": [
    "simulation.graph_token_price()"
   ]
  },
  {
   "cell_type": "code",
   "execution_count": 18,
   "metadata": {},
   "outputs": [
    {
     "data": {
      "application/vnd.jupyter.widget-view+json": {
       "model_id": "d8adf93c9b714435b53213b376758d0e",
       "version_major": 2,
       "version_minor": 0
      },
      "text/plain": [
       "FigureWidget({\n",
       "    'data': [{'name': 'new nodes',\n",
       "              'type': 'scatter',\n",
       "              'uid': 'f25b2…"
      ]
     },
     "metadata": {},
     "output_type": "display_data"
    }
   ],
   "source": [
    "simulation.graph_nr_nodes()"
   ]
  }
 ],
 "metadata": {
  "kernelspec": {
   "display_name": "Python 3",
   "language": "python",
   "name": "python3"
  },
  "language_info": {
   "codemirror_mode": {
    "name": "ipython",
    "version": 3
   },
   "file_extension": ".py",
   "mimetype": "text/x-python",
   "name": "python",
   "nbconvert_exporter": "python",
   "pygments_lexer": "ipython3",
   "version": "3.7.5"
  }
 },
 "nbformat": 4,
 "nbformat_minor": 4
}
