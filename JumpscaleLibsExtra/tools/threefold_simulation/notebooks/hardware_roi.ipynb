{
 "cells": [
  {
   "cell_type": "markdown",
   "metadata": {},
   "source": [
    "# Simulation Normalized Node Batch\n"
   ]
  },
  {
   "cell_type": "markdown",
   "metadata": {},
   "source": [
    "## input arguments"
   ]
  },
  {
   "cell_type": "code",
   "execution_count": 1,
   "metadata": {},
   "outputs": [],
   "source": [
    "startmonth = 1\n",
    "\n",
    "#define how the nodes will grow\n",
    "node_growth=\"0:5,6:150,12:1000,18:2000,24:8000,36:12000,48:20000,60:20000\"\n",
    "# node_growth=\"0:5,6:150,12:1000,24:5000\"\n",
    "# node_growth=\"0:1000\"\n",
    "\n",
    "#tft price in 5 years, has impact on return\n",
    "tft_price=1\n",
    "\n",
    "#bill of material name\n",
    "# bom_name = \"supermicro_compute\"\n",
    "bom_name = \"CH_archive\"\n",
    "\n",
    "from lib import *\n",
    "simulation = j.tools.tfgrid_simulator.simulation_get(\n",
    "            name=\"default\",\n",
    "            tokencreator_name=\"optimized\",\n",
    "            bom_name=\"amd\", #dont change here, this is the growth calc\n",
    "            node_growth=node_growth,\n",
    "            tft_growth=tft_price,\n",
    "            reload=False,\n",
    "        )\n",
    "\n",
    "#parameters for simulation\n",
    "# choose your hardware profile (other choices in stead of amd or supermicro or hpe)\n",
    "bom, environment2 = j.tools.tfgrid_simulator.bom_environment_get(bom_name)\n",
    "nb = simulation.nodesbatch_get_environment(month=startmonth, environment=environment2)\n",
    "server=environment2.node_normalized\n"
   ]
  },
  {
   "cell_type": "markdown",
   "metadata": {},
   "source": [
    "- To change token creation params [default.py](/edit/params/default.py)\n",
    "- To edit token creation open [token_creators](/tree/token_creators)"
   ]
  },
  {
   "cell_type": "markdown",
   "metadata": {},
   "source": [
    "## Node Overview (= 1 server)"
   ]
  },
  {
   "cell_type": "code",
   "execution_count": 2,
   "metadata": {},
   "outputs": [
    {
     "data": {
      "text/plain": [
       "\u001b[0;0m\n",
       "\u001b[0;33m## threefold.simulation.device\n",
       "\u001b[0;0m - \u001b[0;33mname                : storage_server\n",
       "\u001b[0;0m - description         : \n",
       " - device_template_name: storage_server\n",
       " - cost                : 10,450\n",
       " - power               : 396\n",
       " - rackspace_u         : 4\n",
       " - cru                 : 8\n",
       " - sru                 : 1000\n",
       " - hru                 : 216000\n",
       " - mru                 : 64\n",
       " - su                  : 188\n",
       " - cu                  : 15\n",
       " - cu_passmark         : 341\n",
       " - su_perc             : 83.32%\n",
       " - cu_perc             : 16.68%\n",
       " - cpr                 : 211\n",
       " - cost_su_capex       : 46.229203539823004\n",
       " - cost_cu_capex       : 110.69841269841271\n",
       " - cost_power          : 42.768\n",
       " - cost_rack           : 48\n",
       " - cost_month          : 264.93466666666666\n",
       " - cost_cu_month       : 2.806492542467279\n",
       " - cost_su_month       : 1.1720304909175594\n",
       "\u001b[0;0m"
      ]
     },
     "execution_count": 2,
     "metadata": {},
     "output_type": "execute_result"
    }
   ],
   "source": [
    "server"
   ]
  },
  {
   "cell_type": "code",
   "execution_count": 13,
   "metadata": {},
   "outputs": [
    {
     "data": {
      "text/plain": [
       "(29,\n",
       " \u001b[0;0m\n",
       " \u001b[0;33m## threefold.simulation.device\n",
       " \u001b[0;0m - \u001b[0;33mname                : archive_compute_frontend\n",
       " \u001b[0;0m - description         : \n",
       "  - device_template_name: archive_compute_frontend\n",
       "  - cost                : 7,505\n",
       "  - power               : 287\n",
       "  - rackspace_u         : 4\n",
       "  - cru                 : 8\n",
       "  - sru                 : 12000\n",
       "  - hru                 : 0\n",
       "  - mru                 : 64\n",
       "  - su                  : 100\n",
       "  - cu                  : 15\n",
       "  - cu_passmark         : 341\n",
       "  - su_perc             : 76.77%\n",
       "  - cu_perc             : 23.23%\n",
       "  - cpr                 : 123\n",
       "  - cost_su_capex       : 57.614999999999995\n",
       "  - cost_cu_capex       : 110.6984126984127\n",
       "  - cost_power          : 30.995999999999995\n",
       "  - cost_rack           : 48\n",
       "  - cost_month          : 204.07933333333332\n",
       "  - cost_cu_month       : 3.010160994610295\n",
       "  - cost_su_month       : 1.5666929766822117\n",
       " \u001b[0;0m,\n",
       " 'n')"
      ]
     },
     "execution_count": 13,
     "metadata": {},
     "output_type": "execute_result"
    }
   ],
   "source": [
    "environment2.devices.compute"
   ]
  },
  {
   "cell_type": "code",
   "execution_count": 14,
   "metadata": {},
   "outputs": [
    {
     "data": {
      "text/plain": [
       "(285,\n",
       " \u001b[0;0m\n",
       " \u001b[0;33m## threefold.simulation.device\n",
       " \u001b[0;0m - \u001b[0;33mname                : storage_server\n",
       " \u001b[0;0m - description         : \n",
       "  - device_template_name: storage_server\n",
       "  - cost                : 10,450\n",
       "  - power               : 396\n",
       "  - rackspace_u         : 4\n",
       "  - cru                 : 8\n",
       "  - sru                 : 1000\n",
       "  - hru                 : 216000\n",
       "  - mru                 : 64\n",
       "  - su                  : 188\n",
       "  - cu                  : 15\n",
       "  - cu_passmark         : 341\n",
       "  - su_perc             : 83.32%\n",
       "  - cu_perc             : 16.68%\n",
       "  - cpr                 : 211\n",
       "  - cost_su_capex       : 46.229203539823004\n",
       "  - cost_cu_capex       : 110.69841269841271\n",
       "  - cost_power          : 42.768\n",
       "  - cost_rack           : 48\n",
       "  - cost_month          : 264.93466666666666\n",
       "  - cost_cu_month       : 2.806492542467279\n",
       "  - cost_su_month       : 1.1720304909175594\n",
       " \u001b[0;0m,\n",
       " 'n')"
      ]
     },
     "execution_count": 14,
     "metadata": {},
     "output_type": "execute_result"
    }
   ],
   "source": [
    "environment2.devices.storage"
   ]
  },
  {
   "cell_type": "code",
   "execution_count": 15,
   "metadata": {},
   "outputs": [
    {
     "data": {
      "text/plain": [
       "\u001b[0;0m\n",
       "\u001b[0;33m## threefold.simulation.environment\n",
       "\u001b[0;0m - \u001b[0;33mname                : CH_archive\n",
       "\u001b[0;0m - description         : \n",
       " - cost_power_kwh      : 0.15\n",
       " - cost_rack_unit      : 12\n",
       " - cost                : 3,330,895\n",
       " - power               : 124,183\n",
       " - rackspace_u         : 1286\n",
       " - cru                 : 2512\n",
       " - sru                 : 633000\n",
       " - hru                 : 61560000\n",
       " - mru                 : 20096\n",
       " - su                  : 56575\n",
       " - cu                  : 4945\n",
       " - cu_passmark         : 107,074\n",
       " - su_perc             : 82.87%\n",
       " - cu_perc             : 17.13%\n",
       " - cpr                 : 63,993\n",
       " - cost_su_capex       : 48.790285596792735\n",
       " - cost_cu_capex       : 115.37450052804594\n",
       " - cost_power          : 13,411\n",
       " - cost_rack           : 15,432\n",
       " - cost_month          : 84,357\n",
       " - cost_cu_month       : 2.9219314151434888\n",
       " - cost_su_month       : 1.2356445105860872\n",
       " - nr_devices          : 344\n",
       " - nr_nodes            : 314\n",
       " - sales_price_total   : 0\n",
       " - sales_price_cpr_unit: 0\n",
       "\u001b[0;0m"
      ]
     },
     "execution_count": 15,
     "metadata": {},
     "output_type": "execute_result"
    }
   ],
   "source": [
    "environment2"
   ]
  },
  {
   "cell_type": "code",
   "execution_count": 3,
   "metadata": {},
   "outputs": [
    {
     "data": {
      "text/markdown": [
       "\n",
       "### Device Details\n",
       "\n",
       "- nr of TB netto usable = 188.0 TB\n",
       "- nr of cpu cores = 8.0 Cores\n",
       "- power used = 396 watt\n",
       "- performance in passmark = 5371\n",
       "\n"
      ],
      "text/plain": [
       "<IPython.core.display.Markdown object>"
      ]
     },
     "execution_count": 3,
     "metadata": {},
     "output_type": "execute_result"
    }
   ],
   "source": [
    "md(f\"\"\"\n",
    "### Device Details\n",
    "\n",
    "- nr of TB netto usable = {round(server.su,0)} TB\n",
    "- nr of cpu cores = {round(server.cru,1)} Cores\n",
    "- power used = {server.power} watt\n",
    "- performance in passmark = {round(server.cu_passmark*server.cu)}\n",
    "\n",
    "\"\"\")"
   ]
  },
  {
   "cell_type": "code",
   "execution_count": 4,
   "metadata": {},
   "outputs": [
    {
     "data": {
      "text/plain": [
       "\u001b[0;33m## threefold.simulation.nodesbatch\n",
       "\u001b[0;0m - \u001b[0;33mname                : custom\n",
       "\u001b[0;0m - batch_nr            : 1\n",
       " - nrnodes             : 314\n",
       " - month_start         : 1\n",
       " - months_left         : 60\n",
       " - tft_farmed_before_simulation: 0\n",
       "\n",
       "    \u001b[0;33m## threefold.simulation.nodesbatch.node\n",
       "    \u001b[0;0m - rackspace_u         : 4\n",
       "     - cost_hardware       : 10,450\n",
       "     - cpr                 : 187\n",
       "     - power               : 396\n",
       "    \u001b[0;0m\n",
       "\n",
       " - simulated_months    : []\n",
       "\u001b[0;0m"
      ]
     },
     "execution_count": 4,
     "metadata": {},
     "output_type": "execute_result"
    }
   ],
   "source": [
    "nb.simulated_months=[]\n",
    "nb._data"
   ]
  },
  {
   "cell_type": "code",
   "execution_count": 5,
   "metadata": {},
   "outputs": [
    {
     "data": {
      "text/markdown": [
       "\n",
       "- Hardware Investment Cost for the node batch : USD 3,281,300\n",
       "- ROI In Months                 : 12\n"
      ],
      "text/plain": [
       "<IPython.core.display.Markdown object>"
      ]
     },
     "execution_count": 5,
     "metadata": {},
     "output_type": "execute_result"
    }
   ],
   "source": [
    "md(f\"\"\"\n",
    "- Hardware Investment Cost for the node batch : USD {nb.cost_hardware}\n",
    "- ROI In Months                 : {nb.roi_months}\n",
    "\"\"\")"
   ]
  },
  {
   "cell_type": "code",
   "execution_count": 6,
   "metadata": {},
   "outputs": [
    {
     "data": {
      "application/vnd.jupyter.widget-view+json": {
       "model_id": "03f10514086f4421b8106a0f887e4640",
       "version_major": 2,
       "version_minor": 0
      },
      "text/plain": [
       "FigureWidget({\n",
       "    'data': [{'name': 'farmed',\n",
       "              'type': 'scatter',\n",
       "              'uid': 'fc8a978f…"
      ]
     },
     "metadata": {},
     "output_type": "display_data"
    }
   ],
   "source": [
    "nb.graph_tft(single=True)"
   ]
  },
  {
   "cell_type": "code",
   "execution_count": 7,
   "metadata": {},
   "outputs": [
    {
     "data": {
      "application/vnd.jupyter.widget-view+json": {
       "model_id": "c5e729d0fbd14460a544c7c3742a6b10",
       "version_major": 2,
       "version_minor": 0
      },
      "text/plain": [
       "FigureWidget({\n",
       "    'data': [{'connectgaps': False,\n",
       "              'name': 'farmed',\n",
       "              'type': 'scat…"
      ]
     },
     "metadata": {},
     "output_type": "display_data"
    }
   ],
   "source": [
    "nb.graph_usd(single=True)"
   ]
  },
  {
   "cell_type": "code",
   "execution_count": 8,
   "metadata": {},
   "outputs": [
    {
     "data": {
      "application/vnd.jupyter.widget-view+json": {
       "model_id": "7cd13f3dd6524d5386c668a4143ce3c7",
       "version_major": 2,
       "version_minor": 0
      },
      "text/plain": [
       "FigureWidget({\n",
       "    'data': [{'connectgaps': False,\n",
       "              'name': 'farmed',\n",
       "              'type': 'scat…"
      ]
     },
     "metadata": {},
     "output_type": "display_data"
    }
   ],
   "source": [
    "nb.graph_usd(single=True,cumul=True)"
   ]
  },
  {
   "cell_type": "code",
   "execution_count": 9,
   "metadata": {},
   "outputs": [
    {
     "data": {
      "text/markdown": [
       "\n",
       "- The Return On investment is compared to cost to buy all the hardware.\n",
       "- The costs of the rackspace and power have been paid with income of TFT, so its the net result which is shown.\n",
       "- ROI is in **12** months (starting month:1).\n",
       "- the ROI after 60 months' is:  **9.9**\n"
      ],
      "text/plain": [
       "<IPython.core.display.Markdown object>"
      ]
     },
     "execution_count": 9,
     "metadata": {},
     "output_type": "execute_result"
    }
   ],
   "source": [
    "\n",
    "md(f\"\"\"\n",
    "- The Return On investment is compared to cost to buy all the hardware.\n",
    "- The costs of the rackspace and power have been paid with income of TFT, so its the net result which is shown.\n",
    "- ROI is in **{nb.roi_months}** months (starting month:{startmonth}).\n",
    "- the ROI after 60 months' is:  **{round(nb.roi_end,1)}**\n",
    "\"\"\")"
   ]
  },
  {
   "cell_type": "markdown",
   "metadata": {},
   "source": [
    "### Token price per month"
   ]
  },
  {
   "cell_type": "code",
   "execution_count": 10,
   "metadata": {},
   "outputs": [
    {
     "data": {
      "application/vnd.jupyter.widget-view+json": {
       "model_id": "232ca4c434474cea9a34e8feecfaa2b1",
       "version_major": 2,
       "version_minor": 0
      },
      "text/plain": [
       "FigureWidget({\n",
       "    'data': [{'type': 'scatter',\n",
       "              'uid': 'e220e90f-2ea8-418c-82ed-bd8b6d1f5d1a',\n",
       " …"
      ]
     },
     "metadata": {},
     "output_type": "display_data"
    }
   ],
   "source": [
    "simulation.graph_token_price()"
   ]
  },
  {
   "cell_type": "code",
   "execution_count": 11,
   "metadata": {},
   "outputs": [
    {
     "data": {
      "application/vnd.jupyter.widget-view+json": {
       "model_id": "765820be87104a43909db69b07bbb842",
       "version_major": 2,
       "version_minor": 0
      },
      "text/plain": [
       "FigureWidget({\n",
       "    'data': [{'name': 'new nodes',\n",
       "              'type': 'scatter',\n",
       "              'uid': 'a7ba0…"
      ]
     },
     "metadata": {},
     "output_type": "display_data"
    }
   ],
   "source": [
    "simulation.graph_nr_nodes()"
   ]
  }
 ],
 "metadata": {
  "kernelspec": {
   "display_name": "Python 3",
   "language": "python",
   "name": "python3"
  },
  "language_info": {
   "codemirror_mode": {
    "name": "ipython",
    "version": 3
   },
   "file_extension": ".py",
   "mimetype": "text/x-python",
   "name": "python",
   "nbconvert_exporter": "python",
   "pygments_lexer": "ipython3",
   "version": "3.7.5"
  }
 },
 "nbformat": 4,
 "nbformat_minor": 4
}
