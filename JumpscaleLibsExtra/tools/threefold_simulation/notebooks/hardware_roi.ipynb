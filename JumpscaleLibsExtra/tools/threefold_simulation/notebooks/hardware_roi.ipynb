{
 "cells": [
  {
   "cell_type": "markdown",
   "metadata": {},
   "source": [
    "# Simulation Customized Node Batch\n"
   ]
  },
  {
   "cell_type": "markdown",
   "metadata": {},
   "source": [
    "## input arguments"
   ]
  },
  {
   "cell_type": "code",
   "execution_count": 1,
   "metadata": {},
   "outputs": [],
   "source": [
    "startmonth = 0\n",
    "\n",
    "#define how the nodes will grow\n",
    "#can also change this in your simulation file, which is recommended\n",
    "# node_growth=\"0:5,6:150,12:1000,18:2000,24:8000,36:12000,48:20000,60:20000\"\n",
    "# node_growth=\"0:5,6:150,12:1000,24:5000\"\n",
    "# node_growth=\"0:1000\"\n",
    "\n",
    "from lib import *\n",
    "\n",
    "simulation = j.tools.tfgrid_simulator.simulation_get(\n",
    "            name=\"a_dc\",\n",
    "            tokencreator_name=\"optimized\",\n",
    "            hardware_config_name=\"amd\", #dont change here, this simulates the baseline\n",
    "            node_growth=None,\n",
    "            tft_growth=None,\n",
    "            reload=True,\n",
    "        )\n",
    "\n",
    "###################################################\n",
    "## NOW THE NODES BATCH WE WANT TO SIMULATE FOR\n",
    "\n",
    "# bill of material name\n",
    "# hardware_config_name = \"CH_archive\"\n",
    "hardware_config_name = \"A_dc_rack\"\n",
    "# hardware_config_name = \"hpe_dl385_amd\"\n",
    "# hardware_config_name = \"amd\"\n",
    "\n",
    "\n",
    "\n",
    "#parameters for simulation\n",
    "# choose your hardware profile (other choices in stead of amd or supermicro or hpe)\n",
    "nb = simulation.nodesbatch_simulate(month=startmonth, hardware_config_name=hardware_config_name)\n",
    "node_normalized=nb.node_normalized\n",
    "environment2 = nb.environment\n",
    "\n"
   ]
  },
  {
   "cell_type": "markdown",
   "metadata": {},
   "source": [
    "- To change token creation params [default.py](/edit/params/default.py)\n",
    "- To edit token creation open [token_creators](/tree/token_creators)"
   ]
  },
  {
   "cell_type": "markdown",
   "metadata": {},
   "source": [
    "## Node Overview (= 1 server)"
   ]
  },
  {
   "cell_type": "code",
   "execution_count": 2,
   "metadata": {},
   "outputs": [
    {
     "data": {
      "text/plain": [
       "\u001b[0;0m\n",
       "\u001b[0;33m## threefold.simulation.device\n",
       "\u001b[0;0m - \u001b[0;33mname                : normalized_device_a.dc.rack\n",
       "\u001b[0;0m - description         : \n",
       " - device_template_name: \n",
       " - cost                : 31,761\n",
       " - power               : 806\n",
       " - rackspace_u         : 2\n",
       " - cru                 : 54\n",
       " - sru                 : 7080\n",
       " - hru                 : 276000\n",
       " - mru                 : 432\n",
       " - su                  : 289\n",
       " - cu                  : 107\n",
       " - cu_passmark         : 312\n",
       " - su_perc             : 67.93%\n",
       " - cu_perc             : 32.07%\n",
       " - cpr                 : 450\n",
       " - cost_su_capex       : 83.7\n",
       " - cost_cu_capex       : 70.4\n",
       " - cost_power          : 87.1\n",
       " - cost_rack           : 33\n",
       " - cost_month          : 649\n",
       " - cost_cu_month       : 1.4394545381615664\n",
       " - cost_su_month       : 1.7102898737477206\n",
       "\u001b[0;0m"
      ]
     },
     "execution_count": 2,
     "metadata": {},
     "output_type": "execute_result"
    }
   ],
   "source": [
    "node_normalized"
   ]
  },
  {
   "cell_type": "code",
   "execution_count": 3,
   "metadata": {},
   "outputs": [
    {
     "data": {
      "text/plain": [
       "(11,\n",
       " \u001b[0;0m\n",
       " \u001b[0;33m## threefold.simulation.device\n",
       " \u001b[0;0m - \u001b[0;33mname                : hpe_compute_server\n",
       " \u001b[0;0m - description         : \n",
       "  - device_template_name: hpe_compute_server\n",
       "  - cost                : 20,120\n",
       "  - power               : 698\n",
       "  - rackspace_u         : 2\n",
       "  - cru                 : 64\n",
       "  - sru                 : 7680\n",
       "  - hru                 : 96000\n",
       "  - mru                 : 512\n",
       "  - su                  : 144\n",
       "  - cu                  : 127\n",
       "  - cu_passmark         : 283\n",
       "  - su_perc             : 57.46%\n",
       "  - cu_perc             : 42.54%\n",
       "  - cpr                 : 335\n",
       "  - cost_su_capex       : 80.3\n",
       "  - cost_cu_capex       : 67.0\n",
       "  - cost_power          : 75.4\n",
       "  - cost_rack           : 24\n",
       "  - cost_month          : 434\n",
       "  - cost_cu_month       : 1.4477442092390211\n",
       "  - cost_su_month       : 1.7345000736322804\n",
       " \u001b[0;0m,\n",
       " 'n')"
      ]
     },
     "execution_count": 3,
     "metadata": {},
     "output_type": "execute_result"
    }
   ],
   "source": [
    "environment2.devices.compute"
   ]
  },
  {
   "cell_type": "code",
   "execution_count": 4,
   "metadata": {},
   "outputs": [
    {
     "data": {
      "text/plain": [
       "(5,\n",
       " \u001b[0;0m\n",
       " \u001b[0;33m## threefold.simulation.device\n",
       " \u001b[0;0m - \u001b[0;33mname                : hpe_storage_server\n",
       " \u001b[0;0m - description         : \n",
       "  - device_template_name: hpe_storage_server\n",
       "  - cost                : 55,574\n",
       "  - power               : 1,004\n",
       "  - rackspace_u         : 4\n",
       "  - cru                 : 32\n",
       "  - sru                 : 5760\n",
       "  - hru                 : 672000\n",
       "  - mru                 : 256\n",
       "  - su                  : 608\n",
       "  - cu                  : 63\n",
       "  - cu_passmark         : 377\n",
       "  - su_perc             : 90.98%\n",
       "  - cu_perc             : 9.02%\n",
       "  - cpr                 : 703\n",
       "  - cost_su_capex       : 83.2\n",
       "  - cost_cu_capex       : 78.7\n",
       "  - cost_power          : 108\n",
       "  - cost_rack           : 48\n",
       "  - cost_month          : 1,082\n",
       "  - cost_cu_month       : 1.5322397146735522\n",
       "  - cost_su_month       : 1.6200412031626554\n",
       " \u001b[0;0m,\n",
       " 'n')"
      ]
     },
     "execution_count": 4,
     "metadata": {},
     "output_type": "execute_result"
    }
   ],
   "source": [
    "try:\n",
    "    a= environment2.devices.storage\n",
    "except:\n",
    "    a=\"\"\n",
    "a"
   ]
  },
  {
   "cell_type": "code",
   "execution_count": 5,
   "metadata": {},
   "outputs": [
    {
     "data": {
      "text/plain": [
       "\u001b[0;0m\n",
       "\u001b[0;33m## threefold.simulation.environment\n",
       "\u001b[0;0m - \u001b[0;33mname                : A_dc_rack\n",
       "\u001b[0;0m - description         : \n",
       " - cost_power_kwh      : 0.15\n",
       " - cost_rack_unit      : 12\n",
       " - cost                : 508,190\n",
       " - power               : 12,898\n",
       " - rackspace_u         : 44\n",
       " - cru                 : 864\n",
       " - sru                 : 113280\n",
       " - hru                 : 4416000\n",
       " - mru                 : 6912\n",
       " - su                  : 4624\n",
       " - cu                  : 1724\n",
       " - cu_passmark         : 4,998\n",
       " - su_perc             : 76.12%\n",
       " - cu_perc             : 23.88%\n",
       " - cpr                 : 7,210\n",
       " - cost_su_capex       : 83.7\n",
       " - cost_cu_capex       : 70.4\n",
       " - cost_power          : 1,392\n",
       " - cost_rack           : 528\n",
       " - cost_month          : 10,390\n",
       " - cost_cu_month       : 1.4394545381615664\n",
       " - cost_su_month       : 1.7102898737477206\n",
       " - nr_devices          : 18\n",
       " - nr_nodes            : 16\n",
       " - sales_price_total   : 0\n",
       "\u001b[0;0m"
      ]
     },
     "execution_count": 5,
     "metadata": {},
     "output_type": "execute_result"
    }
   ],
   "source": [
    "environment2"
   ]
  },
  {
   "cell_type": "code",
   "execution_count": 6,
   "metadata": {},
   "outputs": [
    {
     "data": {
      "text/markdown": [
       "\n",
       "### Normalized Node Details\n",
       "\n",
       "- nr of TB netto usable = 289.0 TB\n",
       "- nr of cpu cores = 54.0 Cores\n",
       "- power used = 806 watt\n",
       "- performance in passmark = 33618\n",
       "\n"
      ],
      "text/plain": [
       "<IPython.core.display.Markdown object>"
      ]
     },
     "execution_count": 6,
     "metadata": {},
     "output_type": "execute_result"
    }
   ],
   "source": [
    "md(f\"\"\"\n",
    "### Normalized Node Details\n",
    "\n",
    "- nr of TB netto usable = {round(node_normalized.su,0)} TB\n",
    "- nr of cpu cores = {round(node_normalized.cru,1)} Cores\n",
    "- power used = {node_normalized.power} watt\n",
    "- performance in passmark = {round(node_normalized.cu_passmark*node_normalized.cu)}\n",
    "\n",
    "\"\"\")"
   ]
  },
  {
   "cell_type": "code",
   "execution_count": 7,
   "metadata": {},
   "outputs": [
    {
     "data": {
      "text/plain": [
       "\u001b[0;0m\n",
       "\u001b[0;33m## threefold.simulation.nodesbatch\n",
       "\u001b[0;0m - \u001b[0;33mname                : nodesbatch_simulate_A_dc_rack_0\n",
       "\u001b[0;0m - batch_nr            : 0\n",
       " - nrnodes             : 16\n",
       " - month_start         : 0\n",
       " - months_left         : 60\n",
       " - tft_farmed_before_simulation: 0\n",
       "\n",
       "    \u001b[0;33m## threefold.simulation.nodesbatch.node\n",
       "    \u001b[0;0m - rackspace_u         : 2\n",
       "     - cost_hardware       : 31,761\n",
       "     - cpr                 : 400\n",
       "     - power               : 806\n",
       "    \u001b[0;0m\n",
       "\n",
       " - simulated_months    : []\n",
       "\u001b[0;0m\n",
       " - cost_hardware                8.5k|  8.5k|  8.5k|  8.5k|  8.5k|  8.5k|  8.5k|  8.5k|  8.5k|  8.5k|  8.5k|   8.5k\n",
       " - cost_maintenance            1,693| 1,693| 1,693| 1,693| 1,693| 1,693| 1,693| 1,693| 1,693| 1,693| 1,693|  1,693\n",
       " - cost_power                    278|   278|   278|   278|   278|   334|   401|   467|   534|   601|   668|    735\n",
       " - cost_rackspace                528|   528|   528|   528|   528|   528|   528|   528|   528|   528|   528|    528\n",
       " - difficulty_level                3|     3|     3|     3|     3|     3|     3|     3|     3|     3|     3|      3\n",
       " - power                       2,579| 2,579| 2,579| 2,579| 2,579| 3,095| 3,714|  4.3k|  5.0k|  5.6k|  6.2k|   6.8k\n",
       " - rackspace_u                    44|    44|    44|    44|    44|    44|    44|    44|    44|    44|    44|     44\n",
       " - roi                          0.02|  0.05|  0.08|  0.12|  0.16|   0.2|  0.25|  0.31|  0.37|  0.43|  0.49|   0.57\n",
       " - tft_burned                       | -6.4k|  -11k|  -15k|  -19k|  -23k|  -26k|  -28k|  -31k|  -33k|  -35k|   -36k\n",
       " - tft_cultivated                   |  8.0k|   14k|   19k|   24k|   29k|   33k|   35k|   38k|   41k|   44k|    45k\n",
       " - tft_cultivated_usd               | 1,273| 2,529| 3,769|  5.0k|  6.2k|  7.4k|  8.6k|  9.7k|   10k|   12k|    13k\n",
       " - tft_farmed                    94k|   89k|   83k|   74k|   71k|   67k|   64k|   59k|   56k|   54k|   52k|    49k\n",
       " - tft_farmed_usd                14k|   14k|   14k|   14k|   14k|   14k|   14k|   14k|   14k|   14k|   14k|    14k\n",
       " - tft_farmer_income             78k|   81k|   83k|   81k|   83k|   85k|   86k|   83k|   84k|   85k|   86k|    84k\n",
       " - tft_farmer_income_cumul       78k|  159k|  243k|  325k|  408k|  494k|  580k|  664k|  749k|  835k|  921k| 1,005k\n",
       " - tft_farmer_income_cumul_usd   11k|   25k|   41k|   61k|   81k|  103k|  127k|  159k|  187k|  217k|  248k|   291k\n",
       " - tft_movement_usd              11k|   13k|   14k|   15k|   16k|   17k|   19k|   20k|   21k|   22k|   23k|    24k\n",
       " - tft_price                    0.15|  0.16|  0.17|  0.19|   0.2|  0.21|  0.22|  0.24|  0.25|  0.26|  0.27|   0.29\n",
       " - tft_sold                     -16k|  -15k|  -14k|  -13k|  -12k|  -12k|  -11k|  -11k|  -11k|  -10k|  -10k|   -10k"
      ]
     },
     "execution_count": 7,
     "metadata": {},
     "output_type": "execute_result"
    }
   ],
   "source": [
    "nb.simulated_months=[]\n",
    "nb"
   ]
  },
  {
   "cell_type": "code",
   "execution_count": 15,
   "metadata": {},
   "outputs": [
    {
     "data": {
      "text/markdown": [
       "\n",
       "- Hardware Investment Cost for the node batch : USD 508,176\n",
       "- ROI In Months                 : 16\n",
       "- the ROI after 60 months' is:  **13.2**\n"
      ],
      "text/plain": [
       "<IPython.core.display.Markdown object>"
      ]
     },
     "execution_count": 15,
     "metadata": {},
     "output_type": "execute_result"
    }
   ],
   "source": [
    "md(f\"\"\"\n",
    "- Hardware Investment Cost for the node batch : USD {nb.cost_hardware}\n",
    "- ROI In Months                 : {nb.roi_months}\n",
    "- the ROI after 60 months' is:  **{round(nb.roi_end,1)}**\n",
    "\"\"\")"
   ]
  },
  {
   "cell_type": "code",
   "execution_count": 9,
   "metadata": {},
   "outputs": [
    {
     "data": {
      "application/vnd.jupyter.widget-view+json": {
       "model_id": "6e10c7702dfb469c85c6c1d7449a8e5a",
       "version_major": 2,
       "version_minor": 0
      },
      "text/plain": [
       "FigureWidget({\n",
       "    'data': [{'name': 'farmed',\n",
       "              'type': 'scatter',\n",
       "              'uid': 'c10a4da1…"
      ]
     },
     "metadata": {},
     "output_type": "display_data"
    }
   ],
   "source": [
    "nb.graph_tft(single=True)"
   ]
  },
  {
   "cell_type": "code",
   "execution_count": 10,
   "metadata": {},
   "outputs": [
    {
     "data": {
      "application/vnd.jupyter.widget-view+json": {
       "model_id": "077d18cfb9414107858b50fc57561481",
       "version_major": 2,
       "version_minor": 0
      },
      "text/plain": [
       "FigureWidget({\n",
       "    'data': [{'connectgaps': False,\n",
       "              'name': 'farmed',\n",
       "              'type': 'scat…"
      ]
     },
     "metadata": {},
     "output_type": "display_data"
    }
   ],
   "source": [
    "nb.graph_usd(single=True)"
   ]
  },
  {
   "cell_type": "code",
   "execution_count": 17,
   "metadata": {},
   "outputs": [
    {
     "data": {
      "application/vnd.jupyter.widget-view+json": {
       "model_id": "b192ecfdbe4f4d0ea2da324de67ea2df",
       "version_major": 2,
       "version_minor": 0
      },
      "text/plain": [
       "FigureWidget({\n",
       "    'data': [{'connectgaps': False,\n",
       "              'name': 'farmed',\n",
       "              'type': 'scat…"
      ]
     },
     "metadata": {},
     "output_type": "display_data"
    }
   ],
   "source": [
    "nb.graph_usd(single=True,cumul=True)"
   ]
  },
  {
   "cell_type": "code",
   "execution_count": 12,
   "metadata": {},
   "outputs": [
    {
     "data": {
      "text/markdown": [
       "\n",
       "- The Return On investment is compared to cost to buy all the hardware.\n",
       "- The costs of the rackspace and power have been paid with income of TFT, so its the net result which is shown.\n",
       "- ROI is in **16** months (starting month:0).\n",
       "- the ROI after 60 months' is:  **13.2**\n"
      ],
      "text/plain": [
       "<IPython.core.display.Markdown object>"
      ]
     },
     "execution_count": 12,
     "metadata": {},
     "output_type": "execute_result"
    }
   ],
   "source": [
    "\n",
    "md(f\"\"\"\n",
    "- The Return On investment is compared to cost to buy all the hardware.\n",
    "- The costs of the rackspace and power have been paid with income of TFT, so its the net result which is shown.\n",
    "- ROI is in **{nb.roi_months}** months (starting month:{startmonth}).\n",
    "- the ROI after 60 months' is:  **{round(nb.roi_end,1)}**\n",
    "\"\"\")"
   ]
  },
  {
   "cell_type": "markdown",
   "metadata": {},
   "source": [
    "### Token price per month"
   ]
  },
  {
   "cell_type": "code",
   "execution_count": 13,
   "metadata": {},
   "outputs": [
    {
     "data": {
      "application/vnd.jupyter.widget-view+json": {
       "model_id": "a094d6c3601b409582c3e33ff23147a1",
       "version_major": 2,
       "version_minor": 0
      },
      "text/plain": [
       "FigureWidget({\n",
       "    'data': [{'type': 'scatter',\n",
       "              'uid': 'c176d1ca-5385-4a7a-868c-e2479007ea86',\n",
       " …"
      ]
     },
     "metadata": {},
     "output_type": "display_data"
    }
   ],
   "source": [
    "simulation.graph_token_price()"
   ]
  },
  {
   "cell_type": "code",
   "execution_count": 14,
   "metadata": {},
   "outputs": [
    {
     "data": {
      "application/vnd.jupyter.widget-view+json": {
       "model_id": "8ca30f744eb7464ba439a6e789c9023f",
       "version_major": 2,
       "version_minor": 0
      },
      "text/plain": [
       "FigureWidget({\n",
       "    'data': [{'name': 'new nodes',\n",
       "              'type': 'scatter',\n",
       "              'uid': '9c595…"
      ]
     },
     "metadata": {},
     "output_type": "display_data"
    }
   ],
   "source": [
    "simulation.graph_nr_nodes()"
   ]
  }
 ],
 "metadata": {
  "kernelspec": {
   "display_name": "Python 3",
   "language": "python",
   "name": "python3"
  },
  "language_info": {
   "codemirror_mode": {
    "name": "ipython",
    "version": 3
   },
   "file_extension": ".py",
   "mimetype": "text/x-python",
   "name": "python",
   "nbconvert_exporter": "python",
   "pygments_lexer": "ipython3",
   "version": "3.7.5"
  }
 },
 "nbformat": 4,
 "nbformat_minor": 4
}
