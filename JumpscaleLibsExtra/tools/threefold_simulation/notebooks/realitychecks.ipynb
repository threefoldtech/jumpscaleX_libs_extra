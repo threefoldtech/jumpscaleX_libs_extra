{
 "cells": [
  {
   "cell_type": "markdown",
   "metadata": {},
   "source": [
    "# Reality Checks"
   ]
  },
  {
   "cell_type": "code",
   "execution_count": 1,
   "metadata": {},
   "outputs": [
    {
     "data": {
      "text/markdown": [
       "```python\n",
       "# initialization\n",
       "\n",
       "\n",
       "# sales parameters\n",
       "# these are enduser prices for people buying capacity\n",
       "# following prices are very aggressive\n",
       "# compute unit = 4 GB memory and 2 virtual CPU, in market price between 40 and USD120\n",
       "simulation.sales_price_cu = \"8 USD\"\n",
       "# storage unit = 1 TB of netto usable storage, in market prices between 20 and USD120\n",
       "simulation.sales_price_su = \"5 USD\"\n",
       "\n",
       "# choose your hardware profile (other choices in stead of amd or supermicro or hpe)\n",
       "\n",
       "bom, environment = bom_calc(simulation)\n",
       "\n",
       "# costs for environment\n",
       "# is the cost of 1 kwh\n",
       "environment.cost_power_kwh = \"0.15 USD\"\n",
       "# is the cost of 1U rackspace per month in USD\n",
       "environment.cost_rack_unit = \"12 USD\"\n",
       "\n",
       "\n",
       "# choose your token simulation !!!\n",
       "\n",
       "simulation.token_creator = TokenCreator(simulation=simulation, environment=environment)\n",
       "\n",
       "\n",
       "# means at end of period we produce 40% more cpr (*1.4)\n",
       "# cpr = cloud production rate (is like hashrate of bitcoin)\n",
       "simulation.cpr_improve_set(\"0:0,60:40\")\n",
       "\n",
       "# price of a capacity unit goes down over time, here we say it will go down 40%\n",
       "# means we expect price to be lowered by X e.g. 40 (/1.4)\n",
       "simulation.cpr_sales_price_decline_set(\"0:0,60:40\")\n",
       "\n",
       "# utilization of the nodes, starting with 0, after 20 months starting March 2020 we go to 80% utilization\n",
       "simulation.utilization_set(\"20:80,40:90\")\n",
       "\n",
       "# super important factor, how does token price goes up\n",
       "# this is ofcourse complete speculation, no-one knows\n",
       "simulation.tokenprice_set_5years(3)\n",
       "\n",
       "##if you want to do it more specific\n",
       "# 0:0 means month 0 we have value 0\n",
       "# 60:3 means month 60: value is 3\n",
       "# interpolation will happen between the values\n",
       "# so below will let the price go from 0.15 first month to 3 over 60 months\n",
       "# 119 is the last month we need to set (10 years from now, the relevant one is 5 years but simulator needs a further one\n",
       "# simulation.tokenprice_set(\"0:0.15,60:3,119:6\")\n",
       "\n",
       "# month:growth_percent of nodes being added\n",
       "# this means month 1 (is 0 in this file) we add 5 nodes, month 12 we add 1000 new nodes\n",
       "simulation.nrnodes_new_set(\"0:5,6:150,12:1000,18:2000,24:8000,36:12000,48:20000,60:20000\")\n",
       "# simulation.nrnodes_new_set(\"0:5,6:150,20:5000\")\n",
       "\n",
       "# first batch of nodes added is 1500 nodes\n",
       "# each node is +-4.5k usd (check the bill of material sheet)\n",
       "# and we start the simulation with 800m tokens already farmed by the TF Farmers\n",
       "simulation.nodesbatch_start_set(\n",
       "    environment=environment, nrnodes=1500, months_left=36, tft_farmed_before_simulation=800 * 1000 * 1000\n",
       ")\n",
       "# we can get the simulator to add the batches automatically based on chosen environment\n",
       "simulation.nodesbatches_add_auto(environment)\n",
       "simulation.calc(environment)\n",
       "\n",
       "\n",
       "```"
      ],
      "text/plain": [
       "<IPython.core.display.Markdown object>"
      ]
     },
     "execution_count": 1,
     "metadata": {},
     "output_type": "execute_result"
    }
   ],
   "source": [
    "from params.default import *\n",
    "server=environment.node_normalized\n",
    "md_code(\"params/default.py\")\n"
   ]
  },
  {
   "cell_type": "code",
   "execution_count": 2,
   "metadata": {},
   "outputs": [
    {
     "data": {
      "text/markdown": [
       "\n",
       "## Simulation Arguments \n",
       "\n",
       "- nr of nodes at start: 1500\n",
       "- nr of months left (avg out) for farming of startingnodes: 36\n",
       "- nr of TFT already farmed: 800,000,000 \n",
       "\n"
      ],
      "text/plain": [
       "<IPython.core.display.Markdown object>"
      ]
     },
     "execution_count": 2,
     "metadata": {},
     "output_type": "execute_result"
    }
   ],
   "source": [
    "md(f\"\"\"\n",
    "## Simulation Arguments \n",
    "\n",
    "- nr of nodes at start: {simulation.nodebatches[0].nrnodes}\n",
    "- nr of months left (avg out) for farming of startingnodes: {simulation.nodebatches[0].months_left}\n",
    "- nr of TFT already farmed: { j.data.types.numeric.clean(simulation.nodebatches[0].tft_farmed_before_simulation)} \n",
    "\n",
    "\"\"\")"
   ]
  },
  {
   "cell_type": "markdown",
   "metadata": {},
   "source": [
    "## Device Details"
   ]
  },
  {
   "cell_type": "code",
   "execution_count": 3,
   "metadata": {},
   "outputs": [
    {
     "data": {
      "text/markdown": [
       "\n",
       "### Device Details\n",
       "\n",
       "- nr of TB netto usable = 58.3 TB\n",
       "- nr of cpu cores = 16.0 Cores\n",
       "- power used = 232 watt\n",
       "- performance in passmark = 24460\n",
       "\n"
      ],
      "text/plain": [
       "<IPython.core.display.Markdown object>"
      ]
     },
     "execution_count": 3,
     "metadata": {},
     "output_type": "execute_result"
    }
   ],
   "source": [
    "\n",
    "md(f\"\"\"\n",
    "### Device Details\n",
    "\n",
    "- nr of TB netto usable = {round(server.su,1)} TB\n",
    "- nr of cpu cores = {round(server.cru,1)} Cores\n",
    "- power used = {server.power} watt\n",
    "- performance in passmark = {round(server.cu_passmark*server.cu)}\n",
    "\n",
    "\"\"\")"
   ]
  },
  {
   "cell_type": "code",
   "execution_count": 4,
   "metadata": {
    "scrolled": true
   },
   "outputs": [
    {
     "data": {
      "text/markdown": [
       "## Some Checks (1 month mark)\n",
       "\n",
       "- nrnodes: 1529\n",
       "- nrtokens cultivated: 82,853\n",
       "- tft price: 0.2 USD\n",
       "- USD cultivated in that month: 16,570 USD\n",
       "- USD farmed in that month: 194,395 USD\n",
       "\n",
       "### per node per month\n",
       "\n",
       "- USD cultivated per node:  10.837148463047743 USD\n",
       "- USD farmed per node:  127.13865271419228 USD    \n",
       "- USD burned per node:  -8.669718770438195 USD  \n",
       "- USD sold per node (to pay for rackspace/power/mgmt):  -41.6592544146501 USD  \n",
       "- USD profit for farmer per node (profit from token income):  96.31654676258992 USD\n",
       "\n"
      ],
      "text/plain": [
       "<IPython.core.display.Markdown object>"
      ]
     },
     "execution_count": 4,
     "metadata": {},
     "output_type": "execute_result"
    }
   ],
   "source": [
    "md(simulation.markdown_reality_check(1))"
   ]
  },
  {
   "cell_type": "code",
   "execution_count": 5,
   "metadata": {},
   "outputs": [
    {
     "data": {
      "text/markdown": [
       "## Some Checks (10 month mark)\n",
       "\n",
       "- nrnodes: 4054\n",
       "- nrtokens cultivated: 690,180\n",
       "- tft price: 0.62 USD\n",
       "- USD cultivated in that month: 427,911 USD\n",
       "- USD farmed in that month: 1,029,821 USD\n",
       "\n",
       "### per node per month\n",
       "\n",
       "- USD cultivated per node:  105.55278737049828 USD\n",
       "- USD farmed per node:  254.02590034533793 USD    \n",
       "- USD burned per node:  -84.44203256043414 USD  \n",
       "- USD sold per node (to pay for rackspace/power/mgmt):  -52.431425752343365 USD  \n",
       "- USD profit for farmer per node (profit from token income):  307.14775530340404 USD\n",
       "\n"
      ],
      "text/plain": [
       "<IPython.core.display.Markdown object>"
      ]
     },
     "execution_count": 5,
     "metadata": {},
     "output_type": "execute_result"
    }
   ],
   "source": [
    "md(simulation.markdown_reality_check(10))"
   ]
  },
  {
   "cell_type": "code",
   "execution_count": 6,
   "metadata": {},
   "outputs": [
    {
     "data": {
      "text/markdown": [
       "## Some Checks (20 month mark)\n",
       "\n",
       "- nrnodes: 22412\n",
       "- nrtokens cultivated: 4,384,634\n",
       "- tft price: 1.08 USD\n",
       "- USD cultivated in that month: 4,735,404 USD\n",
       "- USD farmed in that month: 5,697,335 USD\n",
       "\n",
       "### per node per month\n",
       "\n",
       "- USD cultivated per node:  211.28877387114045 USD\n",
       "- USD farmed per node:  254.20912903801536 USD    \n",
       "- USD burned per node:  -169.03087631625914 USD  \n",
       "- USD sold per node (to pay for rackspace/power/mgmt):  -60.48505265036587 USD  \n",
       "- USD profit for farmer per node (profit from token income):  405.01316259146887 USD\n",
       "\n"
      ],
      "text/plain": [
       "<IPython.core.display.Markdown object>"
      ]
     },
     "execution_count": 6,
     "metadata": {},
     "output_type": "execute_result"
    }
   ],
   "source": [
    "md(simulation.markdown_reality_check(20))"
   ]
  },
  {
   "cell_type": "code",
   "execution_count": 7,
   "metadata": {},
   "outputs": [
    {
     "data": {
      "text/markdown": [
       "## Some Checks (50 month mark)\n",
       "\n",
       "- nrnodes: 406412\n",
       "- nrtokens cultivated: 37,525,000\n",
       "- tft price: 2.48 USD\n",
       "- USD cultivated in that month: 93,062,000 USD\n",
       "- USD farmed in that month: 77,217,364 USD\n",
       "\n",
       "### per node per month\n",
       "\n",
       "- USD cultivated per node:  228.98438038246903 USD\n",
       "- USD farmed per node:  189.99774612954343 USD    \n",
       "- USD burned per node:  -206.08594726533664 USD  \n",
       "- USD sold per node (to pay for rackspace/power/mgmt):  -62.77229756995364 USD  \n",
       "- USD profit for farmer per node (profit from token income):  356.2099249037922 USD\n",
       "\n"
      ],
      "text/plain": [
       "<IPython.core.display.Markdown object>"
      ]
     },
     "execution_count": 7,
     "metadata": {},
     "output_type": "execute_result"
    }
   ],
   "source": [
    "md(simulation.markdown_reality_check(50))"
   ]
  },
  {
   "cell_type": "code",
   "execution_count": null,
   "metadata": {},
   "outputs": [],
   "source": []
  }
 ],
 "metadata": {
  "kernelspec": {
   "display_name": "Python 3",
   "language": "python",
   "name": "python3"
  },
  "language_info": {
   "codemirror_mode": {
    "name": "ipython",
    "version": 3
   },
   "file_extension": ".py",
   "mimetype": "text/x-python",
   "name": "python",
   "nbconvert_exporter": "python",
   "pygments_lexer": "ipython3",
   "version": "3.7.5"
  }
 },
 "nbformat": 4,
 "nbformat_minor": 4
}
