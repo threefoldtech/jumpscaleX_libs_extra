{
 "cells": [
  {
   "cell_type": "markdown",
   "metadata": {},
   "source": [
    "# Reality Checks"
   ]
  },
  {
   "cell_type": "code",
   "execution_count": 1,
   "metadata": {},
   "outputs": [
    {
     "data": {
      "text/markdown": [
       "```python\n",
       "from lib import *\n",
       "from params.params_environment import *\n",
       "\n",
       "# choose your token simulation !!!\n",
       "\n",
       "\n",
       "## like a bitcoin with halving, TFT price has no influence on farming\n",
       "# from token_creators.token_creator_halving import TokenCreator\n",
       "\n",
       "## close to current rules but some important improvements\n",
       "# from token_creators.token_creator_classic_predefined_difficultylevel import TokenCreator\n",
       "from token_creators.token_creator_classic_2billionTFT import TokenCreator\n",
       "\n",
       "simulation.token_creator = TokenCreator(simulation)\n",
       "\n",
       "# super important factor, how does token price goes up\n",
       "# this is ofcourse complete speculation, no-one knows\n",
       "simulation.tokenprice_set(\"0:0.15,60:1\")\n",
       "\n",
       "# month:growth_percent of nodes being added\n",
       "simulation.nrnodes_new_set(\"0:5,6:150,12:1000,18:2000,24:8000,36:12000,48:20000,60:20000\")\n",
       "# simulation.nrnodes_new_set(\"0:5,6:150,12:500,12:1000\")\n",
       "simulation.nodesbatch_start_set(nrnodes=1500, months_left=36, tft_farmed_before_simulation=700 * 1000 * 1000)\n",
       "\n",
       "\n",
       "simulation.calc()\n",
       "\n",
       "\n",
       "```"
      ],
      "text/plain": [
       "<IPython.core.display.Markdown object>"
      ]
     },
     "execution_count": 1,
     "metadata": {},
     "output_type": "execute_result"
    }
   ],
   "source": [
    "from params.params import *\n",
    "md_code(\"params/params.py\")\n"
   ]
  },
  {
   "cell_type": "code",
   "execution_count": 2,
   "metadata": {},
   "outputs": [
    {
     "data": {
      "text/markdown": [
       "\n",
       "## Simulation Arguments \n",
       "\n",
       "- nr of nodes at start: 1500\n",
       "- nr of months left (avg out) for farming of startingnodes: 36\n",
       "- nr of TFT already farmed: 700,000,000 \n",
       "\n"
      ],
      "text/plain": [
       "<IPython.core.display.Markdown object>"
      ]
     },
     "execution_count": 2,
     "metadata": {},
     "output_type": "execute_result"
    }
   ],
   "source": [
    "md(f\"\"\"\n",
    "## Simulation Arguments \n",
    "\n",
    "- nr of nodes at start: {simulation.nodebatches[0].nrnodes}\n",
    "- nr of months left (avg out) for farming of startingnodes: {simulation.nodebatches[0].months_left}\n",
    "- nr of TFT already farmed: { j.data.types.numeric.clean(simulation.nodebatches[0].tft_farmed_before_simulation)} \n",
    "\n",
    "\"\"\")"
   ]
  },
  {
   "cell_type": "markdown",
   "metadata": {},
   "source": [
    "## Device Details"
   ]
  },
  {
   "cell_type": "code",
   "execution_count": 3,
   "metadata": {},
   "outputs": [
    {
     "data": {
      "text/markdown": [
       "\n",
       "### Device Details\n",
       "\n",
       "- nr of TB netto usable = 58.3 TB\n",
       "- nr of cpu cores = 16.0 Cores\n",
       "- power used = 232 watt\n",
       "- performance in passmark = 24460\n",
       "\n"
      ],
      "text/plain": [
       "<IPython.core.display.Markdown object>"
      ]
     },
     "execution_count": 3,
     "metadata": {},
     "output_type": "execute_result"
    }
   ],
   "source": [
    "\n",
    "md(f\"\"\"\n",
    "### Device Details\n",
    "\n",
    "- nr of TB netto usable = {round(server.su,1)} TB\n",
    "- nr of cpu cores = {round(server.cru,1)} Cores\n",
    "- power used = {server.power} watt\n",
    "- performance in passmark = {round(server.cu_passmark*server.cu)}\n",
    "\n",
    "\"\"\")"
   ]
  },
  {
   "cell_type": "code",
   "execution_count": 4,
   "metadata": {
    "scrolled": true
   },
   "outputs": [
    {
     "data": {
      "text/markdown": [
       "## Some Checks (1 month mark)\n",
       "\n",
       "- nrnodes: 1529\n",
       "- nrtokens cultivated: 80,443\n",
       "- tft price: 0.16 USD\n",
       "- USD cultivated in that month: 12,870 USD\n",
       "- USD farmed in that month: 124,674 USD\n",
       "\n",
       "### per node per month\n",
       "\n",
       "- USD cultivated per node:  8.417266187050359 USD\n",
       "- USD farmed per node:  81.5 USD    \n",
       "- USD burned per node:  -8.417266187050359 USD  \n",
       "- USD sold per node (to pay for rackspace/power/mgmt):  -40.0 USD  \n",
       "- USD profit for farmer per node (profit from token income):  50.0 USD\n",
       "\n"
      ],
      "text/plain": [
       "<IPython.core.display.Markdown object>"
      ]
     },
     "execution_count": 4,
     "metadata": {},
     "output_type": "execute_result"
    }
   ],
   "source": [
    "md(simulation.markdown_reality_check(1))"
   ]
  },
  {
   "cell_type": "code",
   "execution_count": 5,
   "metadata": {},
   "outputs": [
    {
     "data": {
      "text/markdown": [
       "## Some Checks (10 month mark)\n",
       "\n",
       "- nrnodes: 4054\n",
       "- nrtokens cultivated: 1,141,058\n",
       "- tft price: 0.29 USD\n",
       "- USD cultivated in that month: 330,906 USD\n",
       "- USD farmed in that month: 550,393 USD\n",
       "\n",
       "### per node per month\n",
       "\n",
       "- USD cultivated per node:  81.6 USD\n",
       "- USD farmed per node:  135 USD    \n",
       "- USD burned per node:  -81.6 USD  \n",
       "- USD sold per node (to pay for rackspace/power/mgmt):  -50.8 USD  \n",
       "- USD profit for farmer per node (profit from token income):  166 USD\n",
       "\n"
      ],
      "text/plain": [
       "<IPython.core.display.Markdown object>"
      ]
     },
     "execution_count": 5,
     "metadata": {},
     "output_type": "execute_result"
    }
   ],
   "source": [
    "md(simulation.markdown_reality_check(10))"
   ]
  },
  {
   "cell_type": "code",
   "execution_count": 6,
   "metadata": {},
   "outputs": [
    {
     "data": {
      "text/markdown": [
       "## Some Checks (20 month mark)\n",
       "\n",
       "- nrnodes: 22412\n",
       "- nrtokens cultivated: 8,402,119\n",
       "- tft price: 0.43 USD\n",
       "- USD cultivated in that month: 3,612,911 USD\n",
       "- USD farmed in that month: 3,044,971 USD\n",
       "\n",
       "### per node per month\n",
       "\n",
       "- USD cultivated per node:  161 USD\n",
       "- USD farmed per node:  135 USD    \n",
       "- USD burned per node:  -161 USD  \n",
       "- USD sold per node (to pay for rackspace/power/mgmt):  -58.8 USD  \n",
       "- USD profit for farmer per node (profit from token income):  238 USD\n",
       "\n"
      ],
      "text/plain": [
       "<IPython.core.display.Markdown object>"
      ]
     },
     "execution_count": 6,
     "metadata": {},
     "output_type": "execute_result"
    }
   ],
   "source": [
    "md(simulation.markdown_reality_check(20))"
   ]
  },
  {
   "cell_type": "code",
   "execution_count": 7,
   "metadata": {},
   "outputs": [
    {
     "data": {
      "text/markdown": [
       "## Some Checks (50 month mark)\n",
       "\n",
       "- nrnodes: 406412\n",
       "- nrtokens cultivated: 74,716,898\n",
       "- tft price: 0.86 USD\n",
       "- USD cultivated in that month: 64,256,532 USD\n",
       "- USD farmed in that month: 33,015,363 USD\n",
       "\n",
       "### per node per month\n",
       "\n",
       "- USD cultivated per node:  158 USD\n",
       "- USD farmed per node:  81.2 USD    \n",
       "- USD burned per node:  -158 USD  \n",
       "- USD sold per node (to pay for rackspace/power/mgmt):  -61.1 USD  \n",
       "- USD profit for farmer per node (profit from token income):  178 USD\n",
       "\n"
      ],
      "text/plain": [
       "<IPython.core.display.Markdown object>"
      ]
     },
     "execution_count": 7,
     "metadata": {},
     "output_type": "execute_result"
    }
   ],
   "source": [
    "md(simulation.markdown_reality_check(50))"
   ]
  }
 ],
 "metadata": {
  "kernelspec": {
   "display_name": "Python 3",
   "language": "python",
   "name": "python3"
  },
  "language_info": {
   "codemirror_mode": {
    "name": "ipython",
    "version": 3
   },
   "file_extension": ".py",
   "mimetype": "text/x-python",
   "name": "python",
   "nbconvert_exporter": "python",
   "pygments_lexer": "ipython3",
   "version": "3.7.6"
  }
 },
 "nbformat": 4,
 "nbformat_minor": 4
}
