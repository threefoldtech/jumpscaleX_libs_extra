{
 "cells": [
  {
   "cell_type": "markdown",
   "metadata": {},
   "source": [
    "# Reality Checks"
   ]
  },
  {
   "cell_type": "code",
   "execution_count": 1,
   "metadata": {},
   "outputs": [],
   "source": [
    "\n",
    "#will also do the simulation calculation, takes time\n",
    "from lib import *\n",
    "simulation = j.tools.tfgrid_simulator.simulation_get(\n",
    "            name=\"default\",\n",
    "            tokencreator_name=\"optimized\",\n",
    "            bom_name=\"amd\",\n",
    "            node_growth=None,\n",
    "            tft_growth=None,\n",
    "            reload=True,\n",
    "        )\n",
    "server=simulation.environment.node_normalized\n",
    "md_code(\"params/default.py\")\n",
    "startmonth = 1\n",
    "\n"
   ]
  },
  {
   "cell_type": "code",
   "execution_count": 2,
   "metadata": {},
   "outputs": [
    {
     "data": {
      "text/markdown": [
       "\n",
       "## Simulation Arguments \n",
       "\n",
       "- nr of nodes at start: 1500\n",
       "- nr of months left (avg out) for farming of startingnodes: 36\n",
       "- nr of TFT already farmed: 800,000,000 \n",
       "\n"
      ],
      "text/plain": [
       "<IPython.core.display.Markdown object>"
      ]
     },
     "execution_count": 2,
     "metadata": {},
     "output_type": "execute_result"
    }
   ],
   "source": [
    "md(f\"\"\"\n",
    "## Simulation Arguments \n",
    "\n",
    "- nr of nodes at start: {simulation.nodebatches[0].nrnodes}\n",
    "- nr of months left (avg out) for farming of startingnodes: {simulation.nodebatches[0].months_left}\n",
    "- nr of TFT already farmed: { j.data.types.numeric.clean(simulation.nodebatches[0].tft_farmed_before_simulation)} \n",
    "\n",
    "\"\"\")"
   ]
  },
  {
   "cell_type": "markdown",
   "metadata": {},
   "source": [
    "## Device Details"
   ]
  },
  {
   "cell_type": "code",
   "execution_count": 3,
   "metadata": {},
   "outputs": [
    {
     "data": {
      "text/markdown": [
       "\n",
       "### Device Details\n",
       "\n",
       "- nr of TB netto usable = 58.3 TB\n",
       "- nr of cpu cores = 16.0 Cores\n",
       "- power used = 222 watt\n",
       "- performance in passmark = 24479\n",
       "\n"
      ],
      "text/plain": [
       "<IPython.core.display.Markdown object>"
      ]
     },
     "execution_count": 3,
     "metadata": {},
     "output_type": "execute_result"
    }
   ],
   "source": [
    "\n",
    "md(f\"\"\"\n",
    "### Device Details\n",
    "\n",
    "- nr of TB netto usable = {round(server.su,1)} TB\n",
    "- nr of cpu cores = {round(server.cru,1)} Cores\n",
    "- power used = {server.power} watt\n",
    "- performance in passmark = {round(server.cu_passmark*server.cu)}\n",
    "\n",
    "\"\"\")"
   ]
  },
  {
   "cell_type": "code",
   "execution_count": 4,
   "metadata": {
    "scrolled": true
   },
   "outputs": [
    {
     "data": {
      "text/markdown": [
       "## Some Checks (1 month mark)\n",
       "\n",
       "- nrnodes: 1529\n",
       "- nrtokens cultivated: 75,349\n",
       "- tft price: 0.2 USD\n",
       "- USD cultivated in that month: 15,069 USD\n",
       "- USD farmed in that month: 175,282 USD\n",
       "\n",
       "### per node per month\n",
       "\n",
       "- USD cultivated per node:  9.855461085676913 USD\n",
       "- USD farmed per node:  114.6383257030739 USD    \n",
       "- USD burned per node:  -7.88423806409418 USD  \n",
       "- USD sold per node (to pay for rackspace/power/mgmt):  -38.907128842380644 USD  \n",
       "- USD profit for farmer per node (profit from token income):  85.58665794637018 USD\n",
       "\n"
      ],
      "text/plain": [
       "<IPython.core.display.Markdown object>"
      ]
     },
     "execution_count": 4,
     "metadata": {},
     "output_type": "execute_result"
    }
   ],
   "source": [
    "md(simulation.markdown_reality_check(1))"
   ]
  },
  {
   "cell_type": "code",
   "execution_count": 5,
   "metadata": {},
   "outputs": [
    {
     "data": {
      "text/markdown": [
       "## Some Checks (10 month mark)\n",
       "\n",
       "- nrnodes: 4054\n",
       "- nrtokens cultivated: 627,666\n",
       "- tft price: 0.62 USD\n",
       "- USD cultivated in that month: 389,152 USD\n",
       "- USD farmed in that month: 928,571 USD\n",
       "\n",
       "### per node per month\n",
       "\n",
       "- USD cultivated per node:  95.99210656142083 USD\n",
       "- USD farmed per node:  229.05056734089789 USD    \n",
       "- USD burned per node:  -76.7935372471633 USD  \n",
       "- USD sold per node (to pay for rackspace/power/mgmt):  -49.21608288110508 USD  \n",
       "- USD profit for farmer per node (profit from token income):  275.82659102121363 USD\n",
       "\n"
      ],
      "text/plain": [
       "<IPython.core.display.Markdown object>"
      ]
     },
     "execution_count": 5,
     "metadata": {},
     "output_type": "execute_result"
    }
   ],
   "source": [
    "md(simulation.markdown_reality_check(10))"
   ]
  },
  {
   "cell_type": "code",
   "execution_count": 6,
   "metadata": {},
   "outputs": [
    {
     "data": {
      "text/markdown": [
       "## Some Checks (20 month mark)\n",
       "\n",
       "- nrnodes: 22412\n",
       "- nrtokens cultivated: 3,987,488\n",
       "- tft price: 1.08 USD\n",
       "- USD cultivated in that month: 4,306,487 USD\n",
       "- USD farmed in that month: 5,137,187 USD\n",
       "\n",
       "### per node per month\n",
       "\n",
       "- USD cultivated per node:  192.1509459218276 USD\n",
       "- USD farmed per node:  229.21591111904337 USD    \n",
       "- USD burned per node:  -153.72064072818134 USD  \n",
       "- USD sold per node (to pay for rackspace/power/mgmt):  -56.921916830269495 USD  \n",
       "- USD profit for farmer per node (profit from token income):  364.44511868641797 USD\n",
       "\n"
      ],
      "text/plain": [
       "<IPython.core.display.Markdown object>"
      ]
     },
     "execution_count": 6,
     "metadata": {},
     "output_type": "execute_result"
    }
   ],
   "source": [
    "md(simulation.markdown_reality_check(20))"
   ]
  },
  {
   "cell_type": "code",
   "execution_count": 7,
   "metadata": {},
   "outputs": [
    {
     "data": {
      "text/markdown": [
       "## Some Checks (50 month mark)\n",
       "\n",
       "- nrnodes: 406412\n",
       "- nrtokens cultivated: 34,126,142\n",
       "- tft price: 2.48 USD\n",
       "- USD cultivated in that month: 84,632,832 USD\n",
       "- USD farmed in that month: 69,625,533 USD\n",
       "\n",
       "### per node per month\n",
       "\n",
       "- USD cultivated per node:  208.24392980522228 USD\n",
       "- USD farmed per node:  171.3176111925829 USD    \n",
       "- USD burned per node:  -187.4195373168115 USD  \n",
       "- USD sold per node (to pay for rackspace/power/mgmt):  -59.11397793372243 USD  \n",
       "- USD profit for farmer per node (profit from token income):  320.4476860919461 USD\n",
       "\n"
      ],
      "text/plain": [
       "<IPython.core.display.Markdown object>"
      ]
     },
     "execution_count": 7,
     "metadata": {},
     "output_type": "execute_result"
    }
   ],
   "source": [
    "md(simulation.markdown_reality_check(50))"
   ]
  },
  {
   "cell_type": "code",
   "execution_count": null,
   "metadata": {},
   "outputs": [],
   "source": []
  }
 ],
 "metadata": {
  "kernelspec": {
   "display_name": "Python 3",
   "language": "python",
   "name": "python3"
  },
  "language_info": {
   "codemirror_mode": {
    "name": "ipython",
    "version": 3
   },
   "file_extension": ".py",
   "mimetype": "text/x-python",
   "name": "python",
   "nbconvert_exporter": "python",
   "pygments_lexer": "ipython3",
   "version": "3.7.5"
  }
 },
 "nbformat": 4,
 "nbformat_minor": 4
}
