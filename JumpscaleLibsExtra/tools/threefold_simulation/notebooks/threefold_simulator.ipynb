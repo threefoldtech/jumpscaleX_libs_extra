{
 "cells": [
  {
   "cell_type": "code",
   "execution_count": 18,
   "metadata": {},
   "outputs": [
    {
     "data": {
      "text/plain": [
       "IPython.core.display.HTML"
      ]
     },
     "execution_count": 18,
     "metadata": {},
     "output_type": "execute_result"
    }
   ],
   "source": [
    "from IPython.display import HTML\n",
    "#DOESN'T SEEM T WORK\n",
    "HTML(\"\"\"\n",
    "    require(\n",
    "        ['base/js/namespace', 'jquery'], \n",
    "        function(jupyter, $) {\n",
    "            $(jupyter.events).on(\"kernel_ready.Kernel\", function () {\n",
    "                console.log(\"Auto-running all cells-below...\");\n",
    "                jupyter.actions.call('jupyter-notebook:run-all-cells-below');\n",
    "                jupyter.actions.call('jupyter-notebook:save-notebook');\n",
    "            });\n",
    "        }\n",
    "    );\n",
    "\"\"\")\n",
    "#aim is to autorun all"
   ]
  },
  {
   "cell_type": "code",
   "execution_count": 3,
   "metadata": {},
   "outputs": [],
   "source": [
    "from Jumpscale import j\n",
    "simulation = j.tools.tfsimulation.simulation_get()\n",
    "environment = simulation.environment_get(\"main\")\n",
    "from IPython.display import Markdown as md\n",
    "import numpy as np\n",
    "import bqplot.pyplot as plt\n",
    "from bqplot import *"
   ]
  },
  {
   "cell_type": "markdown",
   "metadata": {},
   "source": [
    "## environment arguments"
   ]
  },
  {
   "cell_type": "code",
   "execution_count": 4,
   "metadata": {},
   "outputs": [],
   "source": [
    "environment.cost_power_kwh = \"0.15 USD\"\n",
    "environment.cost_rack_unit = \"12 USD\"\n",
    "environment.bandwidth_mbit = 20\n",
    "\n",
    "# sales arguments\n",
    "environment.sales_price_cu = \"10 USD\"\n",
    "environment.sales_price_su = \"6 USD\"\n",
    "\n",
    "device_edge = simulation.device_get(\"edge1\", environment=environment)\n",
    "# print(d1)\n",
    "\n",
    "switch = simulation.device_get(\"switch\", environment=environment)\n",
    "\n",
    "environment.device_add(\"edge1\", device_edge, 20)\n",
    "environment.device_add(\"switch\", switch, 2)\n",
    "\n",
    "# print(environment)\n",
    "\n",
    "simulation_run = simulation.run()\n",
    "\n",
    "# month:growth_percent of nodes being added\n",
    "simulation_run.growth_percent_set(\"3:5,11:8,24:10,36:12,48:10,60:10\")\n",
    "\n",
    "# means at end of period we produce 40% more cpr (*1.4)\n",
    "# cpr = capacity production rate (is like hashrate of bitcoin)\n",
    "simulation_run.cpr_improve_set(\"71:40\")\n",
    "\n",
    "# price of a capacity unit goes down over time, here we say it will go down 40%\n",
    "# means we expect price to be lowered by X e.g. 40 (*0.6)\n",
    "simulation_run.cpr_sales_price_decline_set(\"0:100,71:40\")\n",
    "\n",
    "# utilization of the nodes, strating with 0\n",
    "simulation_run.utilization_set(\"30:80,71:90\")\n",
    "\n",
    "# super important factor, how does token price goes up, this is ofcourse complete speculation, no-one knows\n",
    "simulation_run.tokenprice_set(\"0:0.15,71:2\")\n",
    "\n",
    "# are the parameters for a batch of nodes to be added\n",
    "nb = simulation_run.nodes_batch_template_get(environment)\n",
    "# print(nb)\n",
    "\n",
    "# do the calculation of the simulation\n",
    "simulation_run.calc(nr_start_nodes=1500, months_remaining_start_nodes=36, nodes_batch_template=nb)\n"
   ]
  },
  {
   "cell_type": "code",
   "execution_count": 5,
   "metadata": {},
   "outputs": [
    {
     "data": {
      "text/markdown": [
       "\n",
       "```python\n",
       "from IPython.display import HTML\n",
       "HTML('''\n",
       "    // AUTORUN ALL CELLS ON NOTEBOOK-LOAD!\n",
       "    require(\n",
       "        ['base/js/namespace', 'jquery'], \n",
       "        function(jupyter, $) {\n",
       "            $(jupyter.events).on(\"kernel_ready.Kernel\", function () {\n",
       "                console.log(\"Auto-running all cells-below...\");\n",
       "                jupyter.actions.call('jupyter-notebook:run-all-cells-below');\n",
       "                jupyter.actions.call('jupyter-notebook:save-notebook');\n",
       "            });\n",
       "        }\n",
       "    );\n",
       "''')\n",
       "```\n"
      ],
      "text/plain": [
       "<IPython.core.display.Markdown object>"
      ]
     },
     "execution_count": 5,
     "metadata": {},
     "output_type": "execute_result"
    }
   ],
   "source": [
    "C=\"\"\"\n",
    "```python\n",
    "%s\n",
    "```\n",
    "\"\"\"%In[2]\n",
    "m=md(C)\n",
    "m"
   ]
  },
  {
   "cell_type": "markdown",
   "metadata": {},
   "source": [
    "### calculated edge device"
   ]
  },
  {
   "cell_type": "code",
   "execution_count": 6,
   "metadata": {},
   "outputs": [
    {
     "data": {
      "text/plain": [
       "\u001b[1;34m# JSXOBJ:\u001b[0;0m\n",
       "\u001b[0;33m## threefold.simulation.device\n",
       "\u001b[0;0m\u001b[0;32mID: 6\n",
       "\u001b[0;0m - \u001b[0;33mname                : edge1\n",
       "\u001b[0;0m - description         : \n",
       " - device_template_name: edge1\n",
       " - cost                : 3,627\n",
       " - power               : 222\n",
       " - rackspace_u         : 2\n",
       " - cru                 : 16\n",
       " - sru                 : 1000\n",
       " - hru                 : 60000\n",
       " - mru                 : 128\n",
       " - su                  : 58\n",
       " - cu                  : 31\n",
       " - cu_passmark         : 771\n",
       " - su_perc             : 62.95%\n",
       " - cu_perc             : 37.05%\n",
       " - cpr                 : 105\n",
       " - cost_su_capex       : 39.14204775394577\n",
       " - cost_cu_capex       : 42.321697039994646\n",
       " - cost_power          : 23.976\n",
       " - cost_rack           : 24\n",
       " - cost_month          : 108.426\n",
       " - cost_cu_month       : 1.2651702021666555\n",
       " - cost_su_month       : 1.170117361392149\n",
       "\u001b[0;0m"
      ]
     },
     "execution_count": 6,
     "metadata": {},
     "output_type": "execute_result"
    }
   ],
   "source": [
    "device_edge"
   ]
  },
  {
   "cell_type": "markdown",
   "metadata": {},
   "source": [
    "### environment of 1500 edge devices\n",
    "\n",
    "Is a complete environment with switches and 1500 edge devices\n"
   ]
  },
  {
   "cell_type": "code",
   "execution_count": 7,
   "metadata": {},
   "outputs": [
    {
     "data": {
      "text/plain": [
       "\u001b[1;34m# JSXOBJ:\u001b[0;0m\n",
       "\u001b[0;33m## threefold.simulation.environment\n",
       "\u001b[0;0m\u001b[0;32mID: 5\n",
       "\u001b[0;0m - \u001b[0;33mname                : main\n",
       "\u001b[0;0m - description         : \n",
       " - cost_power_kwh      : 0.15\n",
       " - cost_rack_unit      : 12\n",
       " - cost                : 81,540\n",
       " - power               : 4,640\n",
       " - rackspace_u         : 42\n",
       " - cru                 : 320\n",
       " - sru                 : 20000\n",
       " - hru                 : 1200000\n",
       " - mru                 : 2560\n",
       " - su                  : 1166\n",
       " - cu                  : 634\n",
       " - cu_passmark         : 771\n",
       " - su_perc             : 62.95%\n",
       " - cu_perc             : 37.05%\n",
       " - cpr                 : 2,118\n",
       " - cost_su_capex       : 43.998381222177244\n",
       " - cost_cu_capex       : 47.610016139942005\n",
       " - cost_power          : 501.12\n",
       " - cost_rack           : 504\n",
       " - cost_month          : 2364.12\n",
       " - cost_cu_month       : 1.380375169938186\n",
       " - cost_su_month       : 1.275661675435046\n",
       " - bandwidth_mbit      : 20\n",
       " - cost_bandwidth      : 0\n",
       " - nr_devices          : 20\n",
       " - sales_price_cu      : 10\n",
       " - sales_price_su      : 6\n",
       " - sales_price_nu      : 0\n",
       " - sales_price_total   : 13,345\n",
       " - sales_price_cpr_unit: 6.300755429650613\n",
       "\u001b[0;0m"
      ]
     },
     "execution_count": 7,
     "metadata": {},
     "output_type": "execute_result"
    }
   ],
   "source": [
    "environment"
   ]
  },
  {
   "cell_type": "code",
   "execution_count": 8,
   "metadata": {},
   "outputs": [
    {
     "data": {
      "application/vnd.jupyter.widget-view+json": {
       "model_id": "914e318a163c4ba590da4c9356dc6859",
       "version_major": 2,
       "version_minor": 0
      },
      "text/plain": [
       "VBox(children=(Figure(axes=[Axis(scale=LinearScale()), Axis(orientation='vertical', scale=LinearScale())], fig…"
      ]
     },
     "metadata": {},
     "output_type": "display_data"
    }
   ],
   "source": [
    "plt.figure(title='Growth Percent Per Month')\n",
    "plt.plot(np.arange(simulation_run.sheet.nrcols), simulation_run.sheet.rows[\"growth_percent\"].cells)\n",
    "plt.show()"
   ]
  },
  {
   "cell_type": "code",
   "execution_count": 9,
   "metadata": {},
   "outputs": [
    {
     "data": {
      "application/vnd.jupyter.widget-view+json": {
       "model_id": "f4bc895ce7ab411c826451e2a94a3406",
       "version_major": 2,
       "version_minor": 0
      },
      "text/plain": [
       "VBox(children=(Figure(axes=[Axis(scale=LinearScale()), Axis(orientation='vertical', scale=LinearScale())], fig…"
      ]
     },
     "metadata": {},
     "output_type": "display_data"
    }
   ],
   "source": [
    "plt.figure(title='Nr Nodes')\n",
    "plt.plot(np.arange(simulation_run.sheet.nrcols), simulation_run.sheet.rows[\"nrnodes\"].cells)\n",
    "plt.show()"
   ]
  },
  {
   "cell_type": "code",
   "execution_count": 10,
   "metadata": {},
   "outputs": [
    {
     "data": {
      "application/vnd.jupyter.widget-view+json": {
       "model_id": "39ce80411d84487ea62e43513e7176a1",
       "version_major": 2,
       "version_minor": 0
      },
      "text/plain": [
       "VBox(children=(Figure(axes=[Axis(scale=LinearScale()), Axis(orientation='vertical', scale=LinearScale())], fig…"
      ]
     },
     "metadata": {},
     "output_type": "display_data"
    }
   ],
   "source": [
    "plt.figure(title='Nr Racks Occupied.')\n",
    "plt.plot(np.arange(simulation_run.sheet.nrcols), simulation_run.sheet.rows[\"nrracks\"].cells)\n",
    "plt.show()"
   ]
  },
  {
   "cell_type": "code",
   "execution_count": 11,
   "metadata": {},
   "outputs": [
    {
     "data": {
      "application/vnd.jupyter.widget-view+json": {
       "model_id": "e7b2124f0594483fba1d5fd7465e1f17",
       "version_major": 2,
       "version_minor": 0
      },
      "text/plain": [
       "VBox(children=(Figure(axes=[Axis(scale=LinearScale()), Axis(orientation='vertical', scale=LinearScale())], fig…"
      ]
     },
     "metadata": {},
     "output_type": "display_data"
    }
   ],
   "source": [
    "plt.figure(title='Revenue Per Month (kUSD).')\n",
    "plt.plot(np.arange(simulation_run.sheet.nrcols), [int(i/1000) for i in simulation_run.sheet.rows[\"revenue_month\"].cells])\n",
    "plt.show()"
   ]
  },
  {
   "cell_type": "code",
   "execution_count": 12,
   "metadata": {},
   "outputs": [
    {
     "data": {
      "application/vnd.jupyter.widget-view+json": {
       "model_id": "e1c07be547404e5d9f13bf7c7a96036c",
       "version_major": 2,
       "version_minor": 0
      },
      "text/plain": [
       "VBox(children=(Figure(axes=[Axis(scale=LinearScale()), Axis(orientation='vertical', scale=LinearScale())], fig…"
      ]
     },
     "metadata": {},
     "output_type": "display_data"
    }
   ],
   "source": [
    "plt.figure(title='Recurring Revenue Over 60 Months (mUSD).')\n",
    "plt.plot(np.arange(simulation_run.sheet.nrcols), [float(i*60/1000000) for i in simulation_run.sheet.rows[\"revenue_month\"].cells])\n",
    "plt.show() "
   ]
  },
  {
   "cell_type": "code",
   "execution_count": 13,
   "metadata": {},
   "outputs": [
    {
     "data": {
      "text/plain": [
       "{'growth_percent': ['growth_percent', 0.0, 1.67, 3.33, 5.0, 5.38, 5.75, 6.12, 6.5, 6.88, 7.25, 7.62, 8.0, 8.15, 8.31, 8.46, 8.62, 8.77, 8.92],\n",
       " 'cpr_improve': ['cpr_improve', 0.0, 0.56, 1.13, 1.69, 2.25, 2.82, 3.38, 3.94, 4.51, 5.07, 5.63, 6.2, 6.76, 7.32, 7.89, 8.45, 9.01, 9.58],\n",
       " 'cpr_sales_price_decline': ['cpr_sales_price_decline', 100.0, 99.15, 98.31, 97.46, 96.62, 95.77, 94.93, 94.08, 93.24, 92.39, 91.55, 90.7, 89.86, 89.01, 88.17, 87.32, 86.48, 85.63],\n",
       " 'utilization': ['utilization', 0.0, 2.67, 5.33, 8.0, 10.67, 13.33, 16.0, 18.67, 21.33, 24.0, 26.67, 29.33, 32.0, 34.67, 37.33, 40.0, 42.67, 45.33],\n",
       " 'tokenprice': ['tokenprice', 0.15, 0.18, 0.2, 0.23, 0.25, 0.28, 0.31, 0.33, 0.36, 0.38, 0.41, 0.44, 0.46, 0.49, 0.51, 0.54, 0.57, 0.59],\n",
       " 'nrnodes_new': ['nrnodes_new', 1500, 25.05, 50.782500000000006, 78.75, 88.9314, 100.1075, 112.6692, 126.94500000000001, 143.0352, 161.095, 181.58460000000002, 205.12, 225.67350000000002, 248.80140000000003, 274.27320000000003, 303.0792, 334.9263, 370.4476],\n",
       " 'nrnodes': ['nrnodes', 1500, 1525, 1575, 1653, 1741, 1841, 1953, 2079, 2222, 2383, 2564, 2769, 2994, 3242, 3516, 3819, 4153, 4523],\n",
       " 'revenue_month': ['revenue_month', numeric: 0, numeric: 26.271, numeric: 52.865, numeric: 81.265, numeric: 112.823, numeric: 147.284, numeric: 185.474, numeric: 227.873, numeric: 275.227, numeric: 328.631, numeric: 389.116, numeric: 457.325, numeric: 535.561, numeric: 623.759, numeric: 722.878, numeric: 835.253, numeric: 962.044, numeric: 1105.094],\n",
       " 'cost_month': ['cost_month', numeric: 0, numeric: 177.309, numeric: 180.264, numeric: 186.174, numeric: 195.394, numeric: 205.796, numeric: 217.616, numeric: 230.855, numeric: 245.748, numeric: 262.651, numeric: 281.682, numeric: 303.077, numeric: 327.309, numeric: 353.905, numeric: 383.22, numeric: 415.608, numeric: 451.424, numeric: 490.904],\n",
       " 'investment': ['investment', numeric: 0, numeric: 6115.5, numeric: 6217.425, numeric: 6421.275, numeric: 6739.281, numeric: 7098.057, numeric: 7505.757, numeric: 7962.381, numeric: 8476.083, numeric: 9059.094, numeric: 9715.491, numeric: 10,453, numeric: 11,289, numeric: 12,206, numeric: 13,217, numeric: 14,334, numeric: 15,570, numeric: 16,931],\n",
       " 'powerkw': ['powerkw', 0.0, 0.348, 0.353, 0.364, 0.382, 0.402, 0.425, 0.45, 0.479, 0.512, 0.549, 0.59, 0.637, 0.689, 0.746, 0.809, 0.879, 0.956],\n",
       " 'nrracks': ['nrracks', 0.0, 71.5909090909091, 72.77272727272727, 75.1590909090909, 78.86363636363636, 83.04545454545455, 87.81818181818181, 93.1590909090909, 99.1590909090909, 105.97727272727273, 113.6590909090909, 122.29545454545455, 132.0681818181818, 142.79545454545453, 154.61363636363637, 167.6818181818182, 182.13636363636363, 198.0681818181818]}"
      ]
     },
     "execution_count": 13,
     "metadata": {},
     "output_type": "execute_result"
    }
   ],
   "source": [
    "simulation_run.sheet.rows"
   ]
  },
  {
   "cell_type": "code",
   "execution_count": 19,
   "metadata": {},
   "outputs": [
    {
     "data": {
      "text/plain": [
       "[0,\n",
       " 26,\n",
       " 52,\n",
       " 81,\n",
       " 112,\n",
       " 147,\n",
       " 185,\n",
       " 227,\n",
       " 275,\n",
       " 328,\n",
       " 389,\n",
       " 457,\n",
       " 535,\n",
       " 623,\n",
       " 722,\n",
       " 835,\n",
       " 962,\n",
       " 1105,\n",
       " 1267,\n",
       " 1451,\n",
       " 1659,\n",
       " 1894,\n",
       " 2162,\n",
       " 2466,\n",
       " 2811,\n",
       " 3204,\n",
       " 3649,\n",
       " 4157,\n",
       " 4734,\n",
       " 5393,\n",
       " 6149,\n",
       " 6802,\n",
       " 7541,\n",
       " 8363,\n",
       " 9295,\n",
       " 10345,\n",
       " 11524,\n",
       " 12860,\n",
       " 14317,\n",
       " 15917,\n",
       " 17671,\n",
       " 19569,\n",
       " 21648,\n",
       " 23886,\n",
       " 26322,\n",
       " 28964,\n",
       " 31801,\n",
       " 34861,\n",
       " 38136,\n",
       " 41648,\n",
       " 45469,\n",
       " 49632,\n",
       " 54195,\n",
       " 59120,\n",
       " 64509,\n",
       " 70337,\n",
       " 76702,\n",
       " 83637,\n",
       " 91141,\n",
       " 99300,\n",
       " 108145,\n",
       " 117740,\n",
       " 128207,\n",
       " 139485,\n",
       " 151761,\n",
       " 164973,\n",
       " 179342,\n",
       " 194895,\n",
       " 211696,\n",
       " 229833,\n",
       " 249404,\n",
       " 270502]"
      ]
     },
     "execution_count": 19,
     "metadata": {},
     "output_type": "execute_result"
    }
   ],
   "source": [
    "[int(i) for i in simulation_run.sheet.rows[\"revenue_month\"].cells]\n",
    "#IS TOO SMALL OUTPUT NEEDS TO BE BIGGER\n",
    "#TODO: need to fix\n"
   ]
  },
  {
   "cell_type": "code",
   "execution_count": 15,
   "metadata": {},
   "outputs": [
    {
     "data": {
      "text/plain": [
       "16200000"
      ]
     },
     "execution_count": 15,
     "metadata": {},
     "output_type": "execute_result"
    }
   ],
   "source": [
    "270000*60"
   ]
  },
  {
   "cell_type": "code",
   "execution_count": null,
   "metadata": {},
   "outputs": [],
   "source": []
  }
 ],
 "metadata": {
  "kernelspec": {
   "display_name": "Python 3",
   "language": "python",
   "name": "python3"
  },
  "language_info": {
   "codemirror_mode": {
    "name": "ipython",
    "version": 3
   },
   "file_extension": ".py",
   "mimetype": "text/x-python",
   "name": "python",
   "nbconvert_exporter": "python",
   "pygments_lexer": "ipython3",
   "version": "3.7.6"
  }
 },
 "nbformat": 4,
 "nbformat_minor": 4
}
