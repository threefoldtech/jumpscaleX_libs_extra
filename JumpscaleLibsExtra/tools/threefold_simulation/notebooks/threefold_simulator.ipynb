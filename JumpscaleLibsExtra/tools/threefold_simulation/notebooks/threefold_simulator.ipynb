{
 "cells": [
  {
   "cell_type": "code",
   "execution_count": 1,
   "metadata": {},
   "outputs": [
    {
     "data": {
      "text/html": [
       "\n",
       "    require(\n",
       "        ['base/js/namespace', 'jquery'], \n",
       "        function(jupyter, $) {\n",
       "            $(jupyter.events).on(\"kernel_ready.Kernel\", function () {\n",
       "                console.log(\"Auto-running all cells-below...\");\n",
       "                jupyter.actions.call('jupyter-notebook:run-all-cells-below');\n",
       "                jupyter.actions.call('jupyter-notebook:save-notebook');\n",
       "            });\n",
       "        }\n",
       "    );\n"
      ],
      "text/plain": [
       "<IPython.core.display.HTML object>"
      ]
     },
     "execution_count": 1,
     "metadata": {},
     "output_type": "execute_result"
    }
   ],
   "source": [
    "from IPython.display import HTML\n",
    "#DOESN'T SEEM T WORK\n",
    "HTML(\"\"\"\n",
    "    require(\n",
    "        ['base/js/namespace', 'jquery'], \n",
    "        function(jupyter, $) {\n",
    "            $(jupyter.events).on(\"kernel_ready.Kernel\", function () {\n",
    "                console.log(\"Auto-running all cells-below...\");\n",
    "                jupyter.actions.call('jupyter-notebook:run-all-cells-below');\n",
    "                jupyter.actions.call('jupyter-notebook:save-notebook');\n",
    "            });\n",
    "        }\n",
    "    );\n",
    "\"\"\")\n",
    "#aim is to autorun all"
   ]
  },
  {
   "cell_type": "code",
   "execution_count": 2,
   "metadata": {},
   "outputs": [],
   "source": [
    "from Jumpscale import j\n",
    "simulation = j.tools.tfsimulation.simulation_get()\n",
    "environment = simulation.environment_get(\"main\")\n",
    "from IPython.display import Markdown as md\n",
    "import numpy as np\n",
    "import bqplot.pyplot as plt\n",
    "from bqplot import *"
   ]
  },
  {
   "cell_type": "markdown",
   "metadata": {},
   "source": [
    "## environment arguments"
   ]
  },
  {
   "cell_type": "code",
   "execution_count": 4,
   "metadata": {},
   "outputs": [
    {
     "ename": "NameError",
     "evalue": "name 'tftprice' is not defined",
     "output_type": "error",
     "traceback": [
      "\u001b[0;31m---------------------------------------------------------------------------\u001b[0m",
      "\u001b[0;31mNameError\u001b[0m                                 Traceback (most recent call last)",
      "\u001b[0;32m<ipython-input-4-30129521cb63>\u001b[0m in \u001b[0;36m<module>\u001b[0;34m\u001b[0m\n\u001b[1;32m     41\u001b[0m \u001b[0;34m\u001b[0m\u001b[0m\n\u001b[1;32m     42\u001b[0m \u001b[0;31m# do the calculation of the simulation\u001b[0m\u001b[0;34m\u001b[0m\u001b[0;34m\u001b[0m\u001b[0;34m\u001b[0m\u001b[0m\n\u001b[0;32m---> 43\u001b[0;31m \u001b[0msimulation_run\u001b[0m\u001b[0;34m.\u001b[0m\u001b[0mcalc\u001b[0m\u001b[0;34m(\u001b[0m\u001b[0mnr_start_nodes\u001b[0m\u001b[0;34m=\u001b[0m\u001b[0;36m1500\u001b[0m\u001b[0;34m,\u001b[0m \u001b[0mmonths_remaining_start_nodes\u001b[0m\u001b[0;34m=\u001b[0m\u001b[0;36m36\u001b[0m\u001b[0;34m,\u001b[0m \u001b[0mnodes_batch_template\u001b[0m\u001b[0;34m=\u001b[0m\u001b[0mnb\u001b[0m\u001b[0;34m)\u001b[0m\u001b[0;34m\u001b[0m\u001b[0;34m\u001b[0m\u001b[0m\n\u001b[0m",
      "\u001b[0;32m~/sandbox/lib/jumpscale/JumpscaleLibsExtra/tools/threefold_simulation/SimulatorLib.py\u001b[0m in \u001b[0;36mcalc\u001b[0;34m(self, nodes_batch_template, nr_start_nodes, months_remaining_start_nodes)\u001b[0m\n\u001b[1;32m    418\u001b[0m                 \u001b[0mself\u001b[0m\u001b[0;34m.\u001b[0m\u001b[0m_nodes_batch_add\u001b[0m\u001b[0;34m(\u001b[0m\u001b[0;36m0\u001b[0m\u001b[0;34m,\u001b[0m \u001b[0mnodes_batch_template\u001b[0m\u001b[0;34m,\u001b[0m \u001b[0mnr_start_nodes\u001b[0m\u001b[0;34m,\u001b[0m \u001b[0mmonths_max\u001b[0m\u001b[0;34m=\u001b[0m\u001b[0mmonths_remaining_start_nodes\u001b[0m\u001b[0;34m)\u001b[0m\u001b[0;34m\u001b[0m\u001b[0;34m\u001b[0m\u001b[0m\n\u001b[1;32m    419\u001b[0m \u001b[0;34m\u001b[0m\u001b[0m\n\u001b[0;32m--> 420\u001b[0;31m             \u001b[0mr\u001b[0m \u001b[0;34m=\u001b[0m \u001b[0mself\u001b[0m\u001b[0;34m.\u001b[0m\u001b[0mresult_get\u001b[0m\u001b[0;34m(\u001b[0m\u001b[0mx\u001b[0m\u001b[0;34m)\u001b[0m\u001b[0;34m\u001b[0m\u001b[0;34m\u001b[0m\u001b[0m\n\u001b[0m\u001b[1;32m    421\u001b[0m             \u001b[0mrow_rev\u001b[0m\u001b[0;34m.\u001b[0m\u001b[0mcells\u001b[0m\u001b[0;34m[\u001b[0m\u001b[0mx\u001b[0m\u001b[0;34m]\u001b[0m \u001b[0;34m=\u001b[0m \u001b[0mr\u001b[0m\u001b[0;34m.\u001b[0m\u001b[0mrevenue\u001b[0m \u001b[0;34m/\u001b[0m \u001b[0;36m1000\u001b[0m\u001b[0;34m\u001b[0m\u001b[0;34m\u001b[0m\u001b[0m\n\u001b[1;32m    422\u001b[0m             \u001b[0mrow_cost\u001b[0m\u001b[0;34m.\u001b[0m\u001b[0mcells\u001b[0m\u001b[0;34m[\u001b[0m\u001b[0mx\u001b[0m\u001b[0;34m]\u001b[0m \u001b[0;34m=\u001b[0m \u001b[0mr\u001b[0m\u001b[0;34m.\u001b[0m\u001b[0mcost\u001b[0m \u001b[0;34m/\u001b[0m \u001b[0;36m1000\u001b[0m\u001b[0;34m\u001b[0m\u001b[0;34m\u001b[0m\u001b[0m\n",
      "\u001b[0;32m~/sandbox/lib/jumpscale/JumpscaleLibsExtra/tools/threefold_simulation/SimulatorLib.py\u001b[0m in \u001b[0;36mresult_get\u001b[0;34m(self, month, utilization)\u001b[0m\n\u001b[1;32m    472\u001b[0m                 \u001b[0mr\u001b[0m\u001b[0;34m.\u001b[0m\u001b[0mcpr_available\u001b[0m \u001b[0;34m+=\u001b[0m \u001b[0mna\u001b[0m\u001b[0;34m.\u001b[0m\u001b[0mcpr\u001b[0m \u001b[0;34m*\u001b[0m \u001b[0mna\u001b[0m\u001b[0;34m.\u001b[0m\u001b[0mcount\u001b[0m\u001b[0;34m\u001b[0m\u001b[0;34m\u001b[0m\u001b[0m\n\u001b[1;32m    473\u001b[0m \u001b[0;34m\u001b[0m\u001b[0m\n\u001b[0;32m--> 474\u001b[0;31m         \u001b[0mtftprice\u001b[0m \u001b[0;34m=\u001b[0m \u001b[0mself\u001b[0m\u001b[0;34m.\u001b[0m\u001b[0msheet\u001b[0m\u001b[0;34m.\u001b[0m\u001b[0mrows\u001b[0m\u001b[0;34m[\u001b[0m\u001b[0;34m\"tokenprice\"\u001b[0m\u001b[0;34m]\u001b[0m\u001b[0;34m.\u001b[0m\u001b[0mcells\u001b[0m\u001b[0;34m[\u001b[0m\u001b[0mmonth\u001b[0m\u001b[0;34m]\u001b[0m\u001b[0;34m\u001b[0m\u001b[0;34m\u001b[0m\u001b[0m\n\u001b[0m\u001b[1;32m    475\u001b[0m \u001b[0;34m\u001b[0m\u001b[0m\n\u001b[1;32m    476\u001b[0m         \u001b[0mr\u001b[0m\u001b[0;34m.\u001b[0m\u001b[0mtft_farmed\u001b[0m \u001b[0;34m=\u001b[0m \u001b[0mself\u001b[0m\u001b[0;34m.\u001b[0m\u001b[0mtft_create\u001b[0m\u001b[0;34m(\u001b[0m\u001b[0mmonth\u001b[0m\u001b[0;34m=\u001b[0m\u001b[0mmonth\u001b[0m\u001b[0;34m,\u001b[0m \u001b[0mrevenue\u001b[0m\u001b[0;34m=\u001b[0m\u001b[0mr\u001b[0m\u001b[0;34m.\u001b[0m\u001b[0mrevenue\u001b[0m\u001b[0;34m,\u001b[0m \u001b[0mtftprice\u001b[0m\u001b[0;34m=\u001b[0m\u001b[0mtftprice\u001b[0m\u001b[0;34m,\u001b[0m \u001b[0mcpr\u001b[0m\u001b[0;34m=\u001b[0m\u001b[0mr\u001b[0m\u001b[0;34m.\u001b[0m\u001b[0mcpr_available\u001b[0m\u001b[0;34m)\u001b[0m\u001b[0;34m\u001b[0m\u001b[0;34m\u001b[0m\u001b[0m\n",
      "\u001b[0;31mNameError\u001b[0m: name 'tftprice' is not defined"
     ]
    }
   ],
   "source": [
    "environment.cost_power_kwh = \"0.15 USD\"\n",
    "environment.cost_rack_unit = \"12 USD\"\n",
    "environment.bandwidth_mbit = 20\n",
    "\n",
    "# sales arguments\n",
    "environment.sales_price_cu = \"10 USD\"\n",
    "environment.sales_price_su = \"6 USD\"\n",
    "\n",
    "device_edge = simulation.device_get(\"edge1\", environment=environment)\n",
    "# print(d1)\n",
    "\n",
    "switch = simulation.device_get(\"switch\", environment=environment)\n",
    "\n",
    "environment.device_add(\"edge1\", device_edge, 20)\n",
    "environment.device_add(\"switch\", switch, 2)\n",
    "\n",
    "# print(environment)\n",
    "\n",
    "simulation_run = simulation.run()\n",
    "\n",
    "# month:growth_percent of nodes being added\n",
    "simulation_run.growth_percent_set(\"3:5,11:8,24:10,36:12,48:10,60:10\")\n",
    "\n",
    "# means at end of period we produce 40% more cpr (*1.4)\n",
    "# cpr = capacity production rate (is like hashrate of bitcoin)\n",
    "simulation_run.cpr_improve_set(\"71:40\")\n",
    "\n",
    "# price of a capacity unit goes down over time, here we say it will go down 40%\n",
    "# means we expect price to be lowered by X e.g. 40 (*0.6)\n",
    "simulation_run.cpr_sales_price_decline_set(\"0:100,71:40\")\n",
    "\n",
    "# utilization of the nodes, strating with 0\n",
    "simulation_run.utilization_set(\"30:80,71:90\")\n",
    "\n",
    "# super important factor, how does token price goes up, this is ofcourse complete speculation, no-one knows\n",
    "simulation_run.tokenprice_set(\"0:0.15,71:2\")\n",
    "\n",
    "# are the parameters for a batch of nodes to be added\n",
    "nb = simulation_run.nodes_batch_template_get(environment)\n",
    "# print(nb)\n",
    "\n",
    "# do the calculation of the simulation\n",
    "simulation_run.calc(nr_start_nodes=1500, months_remaining_start_nodes=36, nodes_batch_template=nb)\n"
   ]
  },
  {
   "cell_type": "code",
   "execution_count": null,
   "metadata": {},
   "outputs": [],
   "source": [
    "C=\"\"\"\n",
    "```python\n",
    "%s\n",
    "```\n",
    "\"\"\"%In[2]\n",
    "m=md(C)\n",
    "m"
   ]
  },
  {
   "cell_type": "markdown",
   "metadata": {},
   "source": [
    "### calculated edge device"
   ]
  },
  {
   "cell_type": "code",
   "execution_count": null,
   "metadata": {},
   "outputs": [],
   "source": [
    "device_edge"
   ]
  },
  {
   "cell_type": "markdown",
   "metadata": {},
   "source": [
    "### environment of 1500 edge devices\n",
    "\n",
    "Is a complete environment with switches and 1500 edge devices\n"
   ]
  },
  {
   "cell_type": "code",
   "execution_count": null,
   "metadata": {},
   "outputs": [],
   "source": [
    "environment"
   ]
  },
  {
   "cell_type": "code",
   "execution_count": null,
   "metadata": {},
   "outputs": [],
   "source": [
    "plt.figure(title='Growth Percent Per Month')\n",
    "plt.plot(np.arange(simulation_run.sheet.nrcols), simulation_run.sheet.rows[\"growth_percent\"].cells)\n",
    "plt.show()"
   ]
  },
  {
   "cell_type": "code",
   "execution_count": null,
   "metadata": {},
   "outputs": [],
   "source": [
    "plt.figure(title='Nr Nodes')\n",
    "plt.plot(np.arange(simulation_run.sheet.nrcols), simulation_run.sheet.rows[\"nrnodes\"].cells)\n",
    "plt.show()"
   ]
  },
  {
   "cell_type": "code",
   "execution_count": null,
   "metadata": {},
   "outputs": [],
   "source": [
    "plt.figure(title='Nr Racks Occupied.')\n",
    "plt.plot(np.arange(simulation_run.sheet.nrcols), simulation_run.sheet.rows[\"nrracks\"].cells)\n",
    "plt.show()"
   ]
  },
  {
   "cell_type": "code",
   "execution_count": null,
   "metadata": {},
   "outputs": [],
   "source": [
    "plt.figure(title='Revenue Per Month (kUSD).')\n",
    "plt.plot(np.arange(simulation_run.sheet.nrcols), [int(i/1000) for i in simulation_run.sheet.rows[\"revenue_month\"].cells])\n",
    "plt.show()"
   ]
  },
  {
   "cell_type": "code",
   "execution_count": null,
   "metadata": {},
   "outputs": [],
   "source": [
    "plt.figure(title='Recurring Revenue Over 60 Months (mUSD).')\n",
    "plt.plot(np.arange(simulation_run.sheet.nrcols), [float(i*60/1000000) for i in simulation_run.sheet.rows[\"revenue_month\"].cells])\n",
    "plt.show() "
   ]
  },
  {
   "cell_type": "code",
   "execution_count": null,
   "metadata": {},
   "outputs": [],
   "source": [
    "simulation_run.sheet.rows"
   ]
  },
  {
   "cell_type": "code",
   "execution_count": null,
   "metadata": {},
   "outputs": [],
   "source": [
    "[int(i) for i in simulation_run.sheet.rows[\"revenue_month\"].cells]\n",
    "#IS TOO SMALL OUTPUT NEEDS TO BE BIGGER\n",
    "#TODO: need to fix\n"
   ]
  },
  {
   "cell_type": "code",
   "execution_count": null,
   "metadata": {},
   "outputs": [],
   "source": [
    "270000*60"
   ]
  },
  {
   "cell_type": "code",
   "execution_count": null,
   "metadata": {},
   "outputs": [],
   "source": []
  }
 ],
 "metadata": {
  "kernelspec": {
   "display_name": "Python 3",
   "language": "python",
   "name": "python3"
  },
  "language_info": {
   "codemirror_mode": {
    "name": "ipython",
    "version": 3
   },
   "file_extension": ".py",
   "mimetype": "text/x-python",
   "name": "python",
   "nbconvert_exporter": "python",
   "pygments_lexer": "ipython3",
   "version": "3.7.6"
  }
 },
 "nbformat": 4,
 "nbformat_minor": 4
}
