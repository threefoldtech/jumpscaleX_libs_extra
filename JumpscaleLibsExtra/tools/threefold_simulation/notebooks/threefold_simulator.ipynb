{
 "cells": [
  {
   "cell_type": "markdown",
   "metadata": {},
   "source": [
    "# TFT Simulation"
   ]
  },
  {
   "cell_type": "code",
   "execution_count": 1,
   "metadata": {},
   "outputs": [
    {
     "data": {
      "text/markdown": [
       "```python\n",
       "# initialization\n",
       "\n",
       "\n",
       "# environment needs to be set before hardware\n",
       "# costs for environment\n",
       "# is the cost of 1 kwh\n",
       "simulation.environment.cost_power_kwh = \"0.15 USD\"\n",
       "# is the cost of 1U rackspace per month in USD\n",
       "simulation.environment.cost_rack_unit = \"12 USD\"\n",
       "\n",
       "# sales parameters\n",
       "# these are enduser prices for people buying capacity\n",
       "# following prices are very aggressive\n",
       "# compute unit = 4 GB memory and 2 virtual CPU, in market price between 40 and USD120\n",
       "simulation.environment.sales_price_cu = \"8 USD\"\n",
       "# storage unit = 1 TB of netto usable storage, in market prices between 20 and USD120\n",
       "simulation.environment.sales_price_su = \"5 USD\"\n",
       "\n",
       "# choose your hardware profile (other choices in stead of amd or supermicro or hpe)\n",
       "\n",
       "# choose your token simulation !!!\n",
       "\n",
       "\n",
       "# means at end of period we produce 40% more cpr (*1.4)\n",
       "# cpr = cloud production rate (is like hashrate of bitcoin)\n",
       "simulation.cpr_improve_set(\"0:0,60:40\")\n",
       "\n",
       "# price of a capacity unit goes down over time, here we say it will go down 40%\n",
       "# means we expect price to be lowered by X e.g. 40 (/1.4)\n",
       "simulation.cpr_sales_price_decline_set(\"0:0,60:40\")\n",
       "\n",
       "# utilization of the nodes, starting with 0, after 20 months starting March 2020 we go to 80% utilization\n",
       "simulation.utilization_set(\"20:80,40:90\")\n",
       "\n",
       "# super important factor, how does token price goes up\n",
       "# this is ofcourse complete speculation, no-one knows\n",
       "simulation.tokenprice_set_5years(3)\n",
       "\n",
       "##if you want to do it more specific\n",
       "# 0:0 means month 0 we have value 0\n",
       "# 60:3 means month 60: value is 3\n",
       "# interpolation will happen between the values\n",
       "# so below will let the price go from 0.15 first month to 3 over 60 months\n",
       "# 119 is the last month we need to set (10 years from now, the relevant one is 5 years but simulator needs a further one\n",
       "# simulation.tokenprice_set(\"0:0.15,60:3,119:6\")\n",
       "\n",
       "# month:growth_percent of nodes being added\n",
       "# this means month 1 (is 0 in this file) we add 5 nodes, month 12 we add 1000 new nodes\n",
       "simulation.nrnodes_new_set(\"0:5,6:150,12:1000,18:2000,24:8000,36:12000,48:20000,60:20000\")\n",
       "# simulation.nrnodes_new_set(\"0:5,6:150,20:5000\")\n",
       "\n",
       "# first batch of nodes added is 1500 nodes\n",
       "# each node is +-4.5k usd (check the bill of material sheet)\n",
       "# and we start the simulation with 800m tokens already farmed by the TF Farmers\n",
       "simulation.nodesbatch_start_set(nrnodes=1500, months_left=36, tft_farmed_before_simulation=800 * 1000 * 1000)\n",
       "\n",
       "simulation.calc()\n",
       "\n",
       "\n",
       "```"
      ],
      "text/plain": [
       "<IPython.core.display.Markdown object>"
      ]
     },
     "execution_count": 1,
     "metadata": {},
     "output_type": "execute_result"
    }
   ],
   "source": [
    "from params.default import *\n",
    "md_code(\"params/default.py\")"
   ]
  },
  {
   "cell_type": "code",
   "execution_count": 2,
   "metadata": {},
   "outputs": [
    {
     "data": {
      "text/markdown": [
       "\n",
       "## Simulation Arguments \n",
       "\n",
       "- nr of nodes at start: 1500\n",
       "- nr of months left (avg out) for farming of startingnodes: 36\n",
       "- nr of TFT already farmed: 800,000,000 \n",
       "\n"
      ],
      "text/plain": [
       "<IPython.core.display.Markdown object>"
      ]
     },
     "execution_count": 2,
     "metadata": {},
     "output_type": "execute_result"
    }
   ],
   "source": [
    "md(f\"\"\"\n",
    "## Simulation Arguments \n",
    "\n",
    "- nr of nodes at start: {simulation.nodebatches[0].nrnodes}\n",
    "- nr of months left (avg out) for farming of startingnodes: {simulation.nodebatches[0].months_left}\n",
    "- nr of TFT already farmed: { j.data.types.numeric.clean(simulation.nodebatches[0].tft_farmed_before_simulation)} \n",
    "\n",
    "\"\"\")"
   ]
  },
  {
   "cell_type": "markdown",
   "metadata": {},
   "source": [
    "## Device Details"
   ]
  },
  {
   "cell_type": "code",
   "execution_count": 3,
   "metadata": {},
   "outputs": [
    {
     "data": {
      "text/markdown": [
       "\n",
       "### Device Details\n",
       "\n",
       "- nr of TB netto usable = 58.3 TB\n",
       "- nr of cpu cores = 16.0 Cores\n",
       "- power used = 232 watt\n",
       "- performance in passmark = 24460\n",
       "\n"
      ],
      "text/plain": [
       "<IPython.core.display.Markdown object>"
      ]
     },
     "execution_count": 3,
     "metadata": {},
     "output_type": "execute_result"
    }
   ],
   "source": [
    "\n",
    "md(f\"\"\"\n",
    "### Device Details\n",
    "\n",
    "- nr of TB netto usable = {round(server.su,1)} TB\n",
    "- nr of cpu cores = {round(server.cru,1)} Cores\n",
    "- power used = {server.power} watt\n",
    "- performance in passmark = {round(server.cu_passmark*server.cu)}\n",
    "\n",
    "\"\"\")"
   ]
  },
  {
   "cell_type": "markdown",
   "metadata": {},
   "source": [
    "## Growth per month"
   ]
  },
  {
   "cell_type": "code",
   "execution_count": 4,
   "metadata": {
    "scrolled": true
   },
   "outputs": [
    {
     "ename": "AttributeError",
     "evalue": "module 'plotly.graph_objects' has no attribute 'FigureWidget'",
     "output_type": "error",
     "traceback": [
      "\u001b[0;31m---------------------------------------------------------------------------\u001b[0m",
      "\u001b[0;31mAttributeError\u001b[0m                            Traceback (most recent call last)",
      "\u001b[0;32m<ipython-input-4-ed9af4882bb0>\u001b[0m in \u001b[0;36m<module>\u001b[0;34m\u001b[0m\n\u001b[1;32m      1\u001b[0m \u001b[0mx\u001b[0m\u001b[0;34m=\u001b[0m\u001b[0mnp\u001b[0m\u001b[0;34m.\u001b[0m\u001b[0marange\u001b[0m\u001b[0;34m(\u001b[0m\u001b[0;36m60\u001b[0m\u001b[0;34m)\u001b[0m\u001b[0;34m\u001b[0m\u001b[0;34m\u001b[0m\u001b[0m\n\u001b[0;32m----> 2\u001b[0;31m \u001b[0mfig\u001b[0m \u001b[0;34m=\u001b[0m \u001b[0mgo\u001b[0m\u001b[0;34m.\u001b[0m\u001b[0mFigureWidget\u001b[0m\u001b[0;34m(\u001b[0m\u001b[0;34m)\u001b[0m\u001b[0;34m\u001b[0m\u001b[0;34m\u001b[0m\u001b[0m\n\u001b[0m\u001b[1;32m      3\u001b[0m \u001b[0mfig\u001b[0m\u001b[0;34m.\u001b[0m\u001b[0madd_trace\u001b[0m\u001b[0;34m(\u001b[0m\u001b[0mgo\u001b[0m\u001b[0;34m.\u001b[0m\u001b[0mScatter\u001b[0m\u001b[0;34m(\u001b[0m\u001b[0mx\u001b[0m\u001b[0;34m=\u001b[0m\u001b[0mx\u001b[0m\u001b[0;34m,\u001b[0m \u001b[0my\u001b[0m\u001b[0;34m=\u001b[0m\u001b[0msimulation\u001b[0m\u001b[0;34m.\u001b[0m\u001b[0msheet\u001b[0m\u001b[0;34m.\u001b[0m\u001b[0mrows\u001b[0m\u001b[0;34m.\u001b[0m\u001b[0mnrnodes_new\u001b[0m\u001b[0;34m.\u001b[0m\u001b[0mcells\u001b[0m\u001b[0;34m[\u001b[0m\u001b[0;36m0\u001b[0m\u001b[0;34m:\u001b[0m\u001b[0;36m60\u001b[0m\u001b[0;34m]\u001b[0m\u001b[0;34m,\u001b[0m\u001b[0mname\u001b[0m\u001b[0;34m=\u001b[0m\u001b[0;34m\"new nodes\"\u001b[0m\u001b[0;34m)\u001b[0m\u001b[0;34m)\u001b[0m\u001b[0;34m\u001b[0m\u001b[0;34m\u001b[0m\u001b[0m\n\u001b[1;32m      4\u001b[0m \u001b[0mfig\u001b[0m\u001b[0;34m.\u001b[0m\u001b[0madd_trace\u001b[0m\u001b[0;34m(\u001b[0m\u001b[0mgo\u001b[0m\u001b[0;34m.\u001b[0m\u001b[0mScatter\u001b[0m\u001b[0;34m(\u001b[0m\u001b[0mx\u001b[0m\u001b[0;34m=\u001b[0m\u001b[0mx\u001b[0m\u001b[0;34m,\u001b[0m \u001b[0my\u001b[0m\u001b[0;34m=\u001b[0m\u001b[0msimulation\u001b[0m\u001b[0;34m.\u001b[0m\u001b[0mrows\u001b[0m\u001b[0;34m.\u001b[0m\u001b[0mnrnodes_total\u001b[0m\u001b[0;34m.\u001b[0m\u001b[0mcells\u001b[0m\u001b[0;34m[\u001b[0m\u001b[0;36m0\u001b[0m\u001b[0;34m:\u001b[0m\u001b[0;36m60\u001b[0m\u001b[0;34m]\u001b[0m\u001b[0;34m,\u001b[0m\u001b[0mname\u001b[0m\u001b[0;34m=\u001b[0m\u001b[0;34m\"total nr nodes\"\u001b[0m\u001b[0;34m)\u001b[0m\u001b[0;34m)\u001b[0m\u001b[0;34m\u001b[0m\u001b[0;34m\u001b[0m\u001b[0m\n\u001b[1;32m      5\u001b[0m \u001b[0mfig\u001b[0m\u001b[0;34m.\u001b[0m\u001b[0mupdate_layout\u001b[0m\u001b[0;34m(\u001b[0m\u001b[0mtitle\u001b[0m \u001b[0;34m=\u001b[0m \u001b[0;34m'New/Total nr Nodes per Month'\u001b[0m\u001b[0;34m,\u001b[0m\u001b[0mshowlegend\u001b[0m\u001b[0;34m=\u001b[0m\u001b[0;32mTrue\u001b[0m\u001b[0;34m)\u001b[0m\u001b[0;34m;\u001b[0m\u001b[0;34m\u001b[0m\u001b[0;34m\u001b[0m\u001b[0m\n",
      "\u001b[0;31mAttributeError\u001b[0m: module 'plotly.graph_objects' has no attribute 'FigureWidget'"
     ]
    }
   ],
   "source": [
    "x=np.arange(60)\n",
    "fig = go.FigureWidget()\n",
    "fig.add_trace(go.Scatter(x=x, y=simulation.sheet.rows.nrnodes_new.cells[0:60],name=\"new nodes\"))\n",
    "fig.add_trace(go.Scatter(x=x, y=simulation.rows.nrnodes_total.cells[0:60],name=\"total nr nodes\"))\n",
    "fig.update_layout(title = 'New/Total nr Nodes per Month',showlegend=True);"
   ]
  },
  {
   "cell_type": "code",
   "execution_count": null,
   "metadata": {},
   "outputs": [],
   "source": [
    "fig"
   ]
  },
  {
   "cell_type": "markdown",
   "metadata": {},
   "source": [
    "### Number of racks per month\n"
   ]
  },
  {
   "cell_type": "code",
   "execution_count": null,
   "metadata": {},
   "outputs": [],
   "source": [
    "x=np.arange(0,60)\n",
    "cells= [int(i/44) for i in simulation.sheet.rows.rackspace_u.cells[0:60]]\n",
    "fig = go.FigureWidget(data=go.Scatter(x=x, y=cells))\n",
    "fig.update_layout(title = 'Racks Occupied per Month',showlegend=False)\n",
    "# fig"
   ]
  },
  {
   "cell_type": "code",
   "execution_count": null,
   "metadata": {},
   "outputs": [],
   "source": [
    "cells= [int(i) for i in simulation.sheet.rows.power_kw.cells[0:60]]\n",
    "fig = go.FigureWidget(data=go.Scatter(x=x, y=cells))\n",
    "fig.update_layout(title = 'Kwatt/h per Month used.',showlegend=False)\n",
    "fig"
   ]
  },
  {
   "cell_type": "markdown",
   "metadata": {},
   "source": [
    "## TFT Growth"
   ]
  },
  {
   "cell_type": "code",
   "execution_count": null,
   "metadata": {
    "scrolled": true
   },
   "outputs": [],
   "source": [
    "names=[\"farmed\",\"cultivated\",\"sold\",\"burned\",\"farmer_income\"]\n",
    "def do(end):\n",
    "    fig = go.FigureWidget()\n",
    "    title = 'TFT Farmed, Cultivated, Sold, Burned per month, for batch month:%s.'%end\n",
    "    xx=[i for i in range(1,end+1)]\n",
    "    for i in range(5):\n",
    "        name=names[i]\n",
    "        cells=simulation.rows[\"tft_%s\"%name].cells[1:end+1]\n",
    "        fig.add_trace(go.Scatter(x=xx, y=cells,name=name))\n",
    "    fig.update_layout(title = title,showlegend=True)\n",
    "    return fig\n"
   ]
  },
  {
   "cell_type": "code",
   "execution_count": null,
   "metadata": {},
   "outputs": [],
   "source": [
    "do(12)"
   ]
  },
  {
   "cell_type": "code",
   "execution_count": null,
   "metadata": {},
   "outputs": [],
   "source": [
    "do(30)"
   ]
  },
  {
   "cell_type": "code",
   "execution_count": null,
   "metadata": {},
   "outputs": [],
   "source": [
    "do(60)"
   ]
  },
  {
   "cell_type": "code",
   "execution_count": null,
   "metadata": {},
   "outputs": [],
   "source": [
    "fig1, fig2, fig3, fig4, fig5, fig6, fig7,fig8=simulation.graph_tft_simulation(show=False);"
   ]
  },
  {
   "cell_type": "code",
   "execution_count": null,
   "metadata": {
    "slideshow": {
     "slide_type": "skip"
    }
   },
   "outputs": [],
   "source": [
    "fig1"
   ]
  },
  {
   "cell_type": "code",
   "execution_count": null,
   "metadata": {
    "scrolled": true
   },
   "outputs": [],
   "source": [
    "fig2"
   ]
  },
  {
   "cell_type": "code",
   "execution_count": null,
   "metadata": {
    "scrolled": true
   },
   "outputs": [],
   "source": [
    "fig8"
   ]
  },
  {
   "cell_type": "code",
   "execution_count": null,
   "metadata": {},
   "outputs": [],
   "source": [
    "fig3"
   ]
  },
  {
   "cell_type": "code",
   "execution_count": null,
   "metadata": {},
   "outputs": [],
   "source": [
    "fig4\n"
   ]
  },
  {
   "cell_type": "code",
   "execution_count": null,
   "metadata": {},
   "outputs": [],
   "source": [
    "fig5"
   ]
  },
  {
   "cell_type": "code",
   "execution_count": null,
   "metadata": {},
   "outputs": [],
   "source": [
    "fig6"
   ]
  },
  {
   "cell_type": "code",
   "execution_count": null,
   "metadata": {},
   "outputs": [],
   "source": [
    "fig7"
   ]
  },
  {
   "cell_type": "markdown",
   "metadata": {},
   "source": [
    "## Cumulative TOKENS CREATED / BURNED / CULTIVATED / SOLD (in millions)\n"
   ]
  },
  {
   "cell_type": "code",
   "execution_count": null,
   "metadata": {},
   "outputs": [],
   "source": [
    "m=1000000\n",
    "simulation.rows.tft_sold.modify_invert()\n",
    "simulation.rows.tft_burned.modify_invert()\n",
    "rf=[int(i/m) for i in simulation.rows.tft_farmed.aggregate(\"Y\",aggregate_type=\"SUM\")]\n",
    "rb=[int(i/m) for i in simulation.rows.tft_burned.aggregate(\"Y\",aggregate_type=\"SUM\")]\n",
    "rs=[int(i/m) for i in simulation.rows.tft_sold.aggregate(\"Y\",aggregate_type=\"SUM\")]\n",
    "rc=[int(i/m) for i in simulation.rows.tft_cultivated.aggregate(\"Y\",aggregate_type=\"SUM\")]\n",
    "\n",
    "from plotly.subplots import make_subplots\n",
    "fig = make_subplots(rows=1, cols=2, specs=[[{'type':'domain'}, {'type':'domain'}]])\n",
    "\n",
    "labels=[\"tft_farmed\",\"tft_burned\",\"tft_sold\",\"tft_cultivated\"]\n",
    "for year in range(2):\n",
    "    data=[rf[year],rb[year],rs[year],rc[year]]\n",
    "    graph = go.Pie(labels=labels, values=data, name=\"Year %s\"%(year+1))\n",
    "    fig.add_trace(graph,1,year+1)\n",
    "fig.show()\n",
    "\n",
    "fig = make_subplots(rows=1, cols=2, specs=[[{'type':'domain'}, {'type':'domain'}]])\n",
    "y=1\n",
    "for year in range(2,4):\n",
    "    data=[rf[year],rb[year],rs[year],rc[year]]\n",
    "    graph = go.Pie(labels=labels, values=data, name=\"Year %s\"%(year+1))\n",
    "    fig.add_trace(graph,1,y)\n",
    "    y+=1\n",
    "fig.show()\n",
    "# md(\"### Details\")\n",
    "\n"
   ]
  },
  {
   "cell_type": "code",
   "execution_count": null,
   "metadata": {},
   "outputs": [],
   "source": [
    "\n",
    "fig = go.FigureWidget()\n",
    "# fig.add_trace(go.Scatter(y=[2, 1, 4, 3]))\n",
    "x=[1,2,3,4,5]\n",
    "fig.add_trace(go.Bar(x=x,y=rf[0:5],name=\"Farming\"))  #,text=[\"s sds s\"]\n",
    "fig.add_trace(go.Bar(x=x,y=rc[0:5],name=\"Cultivating\"))\n",
    "fig.add_trace(go.Bar(x=x,y=rs[0:5],name=\"Sold\"))\n",
    "fig.add_trace(go.Bar(x=x,y=rb[0:5],name=\"Burned\"))\n",
    "fig.update_layout(title = 'Farming / Cultivation / Burning Comparison',showlegend=True)\n",
    "fig.show()"
   ]
  },
  {
   "cell_type": "markdown",
   "metadata": {},
   "source": [
    "### Token price per month\n"
   ]
  },
  {
   "cell_type": "code",
   "execution_count": null,
   "metadata": {},
   "outputs": [],
   "source": [
    "simulation.graph_token_price()\n"
   ]
  },
  {
   "cell_type": "code",
   "execution_count": null,
   "metadata": {},
   "outputs": [],
   "source": [
    "#%qtconsole"
   ]
  },
  {
   "cell_type": "code",
   "execution_count": null,
   "metadata": {},
   "outputs": [],
   "source": []
  }
 ],
 "metadata": {
  "kernelspec": {
   "display_name": "Python 3",
   "language": "python",
   "name": "python3"
  },
  "language_info": {
   "codemirror_mode": {
    "name": "ipython",
    "version": 3
   },
   "file_extension": ".py",
   "mimetype": "text/x-python",
   "name": "python",
   "nbconvert_exporter": "python",
   "pygments_lexer": "ipython3",
   "version": "3.7.5"
  }
 },
 "nbformat": 4,
 "nbformat_minor": 4
}
