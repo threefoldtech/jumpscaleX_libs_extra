{
 "cells": [
  {
   "cell_type": "code",
   "execution_count": 1,
   "metadata": {},
   "outputs": [
    {
     "data": {
      "text/html": [
       "\n",
       "    require(\n",
       "        ['base/js/namespace', 'jquery'], \n",
       "        function(jupyter, $) {\n",
       "            $(jupyter.events).on(\"kernel_ready.Kernel\", function () {\n",
       "                console.log(\"Auto-running all cells-below...\");\n",
       "                jupyter.actions.call('jupyter-notebook:run-all-cells-below');\n",
       "                jupyter.actions.call('jupyter-notebook:save-notebook');\n",
       "            });\n",
       "        }\n",
       "    );\n"
      ],
      "text/plain": [
       "<IPython.core.display.HTML object>"
      ]
     },
     "execution_count": 1,
     "metadata": {},
     "output_type": "execute_result"
    }
   ],
   "source": [
    "from IPython.display import HTML\n",
    "#DOESN'T SEEM T WORK\n",
    "HTML(\"\"\"\n",
    "    require(\n",
    "        ['base/js/namespace', 'jquery'], \n",
    "        function(jupyter, $) {\n",
    "            $(jupyter.events).on(\"kernel_ready.Kernel\", function () {\n",
    "                console.log(\"Auto-running all cells-below...\");\n",
    "                jupyter.actions.call('jupyter-notebook:run-all-cells-below');\n",
    "                jupyter.actions.call('jupyter-notebook:save-notebook');\n",
    "            });\n",
    "        }\n",
    "    );\n",
    "\"\"\")\n",
    "#aim is to autorun all"
   ]
  },
  {
   "cell_type": "code",
   "execution_count": 2,
   "metadata": {},
   "outputs": [],
   "source": [
    "from Jumpscale import j\n",
    "simulation = j.tools.tfsimulation.simulation_get()\n",
    "environment = simulation.environment_get(\"main\")\n",
    "from IPython.display import Markdown as md\n",
    "import numpy as np\n",
    "import bqplot.pyplot as plt\n",
    "from bqplot import *\n",
    "from ipywidgets import interact\n",
    "import ipywidgets as widgets\n",
    "from ipywidgets import HBox, Label, Layout\n"
   ]
  },
  {
   "cell_type": "markdown",
   "metadata": {},
   "source": [
    "## environment arguments"
   ]
  },
  {
   "cell_type": "code",
   "execution_count": 3,
   "metadata": {},
   "outputs": [],
   "source": [
    "environment.cost_power_kwh = \"0.15 USD\"\n",
    "environment.cost_rack_unit = \"12 USD\"\n",
    "environment.bandwidth_mbit = 20\n",
    "\n",
    "# sales arguments\n",
    "environment.sales_price_cu = \"10 USD\"\n",
    "environment.sales_price_su = \"6 USD\"\n",
    "\n",
    "device_edge = simulation.device_get(\"edge1\", environment=environment)\n",
    "# print(d1)\n",
    "\n",
    "switch = simulation.device_get(\"switch\", environment=environment)\n",
    "\n",
    "environment.device_add(\"edge1\", device_edge, 20)\n",
    "environment.device_add(\"switch\", switch, 2)\n",
    "\n",
    "# print(environment)\n",
    "\n",
    "simulation_run = simulation.run()\n",
    "\n",
    "# month:growth_percent of nodes being added\n",
    "simulation_run.growth_percent_set(\"3:5,11:8,24:10,36:12,48:10,60:10\")\n",
    "\n",
    "# means at end of period we produce 40% more cpr (*1.4)\n",
    "# cpr = capacity production rate (is like hashrate of bitcoin)\n",
    "simulation_run.cpr_improve_set(\"71:40\")\n",
    "\n",
    "# price of a capacity unit goes down over time, here we say it will go down 40%\n",
    "# means we expect price to be lowered by X e.g. 40 (*0.6)\n",
    "simulation_run.cpr_sales_price_decline_set(\"0:100,71:40\")\n",
    "\n",
    "# utilization of the nodes, strating with 0\n",
    "simulation_run.utilization_set(\"30:80,71:90\")\n",
    "\n",
    "# super important factor, how does token price goes up, this is ofcourse complete speculation, no-one knows\n",
    "simulation_run.tokenprice_set(\"0:0.15,71:2\")\n",
    "\n",
    "# are the parameters for a batch of nodes to be added\n",
    "nb = simulation_run.nodes_batch_template_get(environment)\n",
    "# print(nb)\n",
    "\n",
    "# do the calculation of the simulation\n",
    "simulation_run.calc(nr_start_nodes=1500, months_remaining_start_nodes=36, nodes_batch_template=nb)\n"
   ]
  },
  {
   "cell_type": "code",
   "execution_count": 4,
   "metadata": {},
   "outputs": [
    {
     "data": {
      "text/markdown": [
       "\n",
       "```python\n",
       "from Jumpscale import j\n",
       "simulation = j.tools.tfsimulation.simulation_get()\n",
       "environment = simulation.environment_get(\"main\")\n",
       "from IPython.display import Markdown as md\n",
       "import numpy as np\n",
       "import bqplot.pyplot as plt\n",
       "from bqplot import *\n",
       "from ipywidgets import interact\n",
       "import ipywidgets as widgets\n",
       "from ipywidgets import HBox, Label, Layout\n",
       "```\n"
      ],
      "text/plain": [
       "<IPython.core.display.Markdown object>"
      ]
     },
     "execution_count": 4,
     "metadata": {},
     "output_type": "execute_result"
    }
   ],
   "source": [
    "C=\"\"\"\n",
    "```python\n",
    "%s\n",
    "```\n",
    "\"\"\"%In[2]\n",
    "m=md(C)\n",
    "m"
   ]
  },
  {
   "cell_type": "markdown",
   "metadata": {},
   "source": [
    "### calculated edge device"
   ]
  },
  {
   "cell_type": "code",
   "execution_count": 5,
   "metadata": {},
   "outputs": [
    {
     "data": {
      "text/plain": [
       "\u001b[1;34m# JSXOBJ:\u001b[0;0m\n",
       "\u001b[0;33m## threefold.simulation.device\n",
       "\u001b[0;0m\u001b[0;32mID: 87\n",
       "\u001b[0;0m - \u001b[0;33mname                : edge1\n",
       "\u001b[0;0m - description         : \n",
       " - device_template_name: edge1\n",
       " - cost                : 3,627\n",
       " - power               : 222\n",
       " - rackspace_u         : 2\n",
       " - cru                 : 16\n",
       " - sru                 : 1000\n",
       " - hru                 : 60000\n",
       " - mru                 : 128\n",
       " - su                  : 58\n",
       " - cu                  : 31\n",
       " - cu_passmark         : 771\n",
       " - su_perc             : 62.95%\n",
       " - cu_perc             : 37.05%\n",
       " - cpr                 : 105\n",
       " - cost_su_capex       : 39.14204775394577\n",
       " - cost_cu_capex       : 42.321697039994646\n",
       " - cost_power          : 23.976\n",
       " - cost_rack           : 24\n",
       " - cost_month          : 108.426\n",
       " - cost_cu_month       : 1.2651702021666555\n",
       " - cost_su_month       : 1.170117361392149\n",
       "\u001b[0;0m"
      ]
     },
     "execution_count": 5,
     "metadata": {},
     "output_type": "execute_result"
    }
   ],
   "source": [
    "device_edge"
   ]
  },
  {
   "cell_type": "markdown",
   "metadata": {},
   "source": [
    "### environment of 1500 edge devices\n",
    "\n",
    "Is a complete environment with switches and 1500 edge devices\n"
   ]
  },
  {
   "cell_type": "code",
   "execution_count": 6,
   "metadata": {},
   "outputs": [
    {
     "data": {
      "text/plain": [
       "\u001b[1;34m# JSXOBJ:\u001b[0;0m\n",
       "\u001b[0;33m## threefold.simulation.environment\n",
       "\u001b[0;0m\u001b[0;32mID: 86\n",
       "\u001b[0;0m - \u001b[0;33mname                : main\n",
       "\u001b[0;0m - description         : \n",
       " - cost_power_kwh      : 0.15\n",
       " - cost_rack_unit      : 12\n",
       " - cost                : 81,540\n",
       " - power               : 4,640\n",
       " - rackspace_u         : 42\n",
       " - cru                 : 320\n",
       " - sru                 : 20000\n",
       " - hru                 : 1200000\n",
       " - mru                 : 2560\n",
       " - su                  : 1166\n",
       " - cu                  : 634\n",
       " - cu_passmark         : 771\n",
       " - su_perc             : 62.95%\n",
       " - cu_perc             : 37.05%\n",
       " - cpr                 : 2,118\n",
       " - cost_su_capex       : 43.998381222177244\n",
       " - cost_cu_capex       : 47.610016139942005\n",
       " - cost_power          : 501.12\n",
       " - cost_rack           : 504\n",
       " - cost_month          : 2364.12\n",
       " - cost_cu_month       : 1.380375169938186\n",
       " - cost_su_month       : 1.275661675435046\n",
       " - bandwidth_mbit      : 20\n",
       " - cost_bandwidth      : 0\n",
       " - nr_devices          : 20\n",
       " - sales_price_cu      : 10\n",
       " - sales_price_su      : 6\n",
       " - sales_price_nu      : 0\n",
       " - sales_price_total   : 13,345\n",
       " - sales_price_cpr_unit: 6.300755429650613\n",
       "\u001b[0;0m"
      ]
     },
     "execution_count": 6,
     "metadata": {},
     "output_type": "execute_result"
    }
   ],
   "source": [
    "environment"
   ]
  },
  {
   "cell_type": "markdown",
   "metadata": {},
   "source": [
    "### Growth Percent per month\n",
    "\n",
    "Choose Number of months\n",
    "\n"
   ]
  },
  {
   "cell_type": "code",
   "execution_count": 36,
   "metadata": {},
   "outputs": [
    {
     "data": {
      "application/vnd.jupyter.widget-view+json": {
       "model_id": "9035e6a5391841dc936a639f726f2b85",
       "version_major": 2,
       "version_minor": 0
      },
      "text/plain": [
       "interactive(children=(IntSlider(value=72, description='Nr months', max=72, min=24, step=24), Output()), _dom_c…"
      ]
     },
     "metadata": {},
     "output_type": "display_data"
    },
    {
     "data": {
      "text/plain": [
       "<function __main__.plotGrowth(nrmonths)>"
      ]
     },
     "execution_count": 36,
     "metadata": {},
     "output_type": "execute_result"
    }
   ],
   "source": [
    "def plotGrowth(nrmonths):\n",
    "    plt.figure(title='Growth Percent Per Month (%s Months)' % nrmonths)\n",
    "    plt.plot(np.arange(nrmonths), simulation_run.sheet.rows[\"growth_percent\"].cells[:nrmonths])\n",
    "    plt.show()\n",
    "    \n",
    "interact(plotGrowth, nrmonths=widgets.IntSlider(min=24, max=72, step=24, value=72, description='Nr months'))\n"
   ]
  },
  {
   "cell_type": "markdown",
   "metadata": {},
   "source": [
    "### Number of nodes\n",
    "\n",
    "Choose Number of months\n",
    "\n"
   ]
  },
  {
   "cell_type": "code",
   "execution_count": 38,
   "metadata": {},
   "outputs": [],
   "source": [
    "def plotNodeGrowth(nrmonths):\n",
    "    plt.figure(title='Nr Nodes (%s Months)' % nrmonths)\n",
    "    plt.plot(np.arange(nrmonths), simulation_run.sheet.rows[\"nrnodes\"].cells[:nrmonths])\n",
    "    plt.show()"
   ]
  },
  {
   "cell_type": "code",
   "execution_count": 50,
   "metadata": {},
   "outputs": [
    {
     "data": {
      "application/vnd.jupyter.widget-view+json": {
       "model_id": "def7a18554d84e0bb55aaf7858833528",
       "version_major": 2,
       "version_minor": 0
      },
      "text/plain": [
       "interactive(children=(IntSlider(value=72, description='Nr months', max=72, min=24, step=24), Output()), _dom_c…"
      ]
     },
     "metadata": {},
     "output_type": "display_data"
    },
    {
     "data": {
      "text/plain": [
       "<function __main__.plotNodeGrowth(nrmonths)>"
      ]
     },
     "execution_count": 50,
     "metadata": {},
     "output_type": "execute_result"
    }
   ],
   "source": [
    "interact(plotNodeGrowth, nrmonths=widgets.IntSlider(min=24, max=72, step=24, value=72, description='Nr months'))"
   ]
  },
  {
   "cell_type": "markdown",
   "metadata": {},
   "source": [
    "### Number of racks per month\n",
    "\n",
    "Choose Number of months\n"
   ]
  },
  {
   "cell_type": "code",
   "execution_count": 49,
   "metadata": {},
   "outputs": [],
   "source": [
    "def plotRackGrowth(nrmonths):\n",
    "    plt.figure(title='Nr Racks Occupied. (%s Months)' % nrmonths)\n",
    "    plt.plot(np.arange(nrmonths), simulation_run.sheet.rows[\"nrracks\"].cells[:nrmonths])\n",
    "    plt.show()\n"
   ]
  },
  {
   "cell_type": "code",
   "execution_count": 51,
   "metadata": {},
   "outputs": [
    {
     "data": {
      "application/vnd.jupyter.widget-view+json": {
       "model_id": "23be03ee7bf84fcb998b27617096cb38",
       "version_major": 2,
       "version_minor": 0
      },
      "text/plain": [
       "interactive(children=(IntSlider(value=72, description='Nr months', max=72, min=24, step=24), Output()), _dom_c…"
      ]
     },
     "metadata": {},
     "output_type": "display_data"
    },
    {
     "data": {
      "text/plain": [
       "<function __main__.plotRackGrowth(nrmonths)>"
      ]
     },
     "execution_count": 51,
     "metadata": {},
     "output_type": "execute_result"
    }
   ],
   "source": [
    "interact(plotRackGrowth, nrmonths=widgets.IntSlider(min=24, max=72, step=24, value=72, description='Nr months'))"
   ]
  },
  {
   "cell_type": "markdown",
   "metadata": {},
   "source": [
    "### Revenue per month\n",
    "\n",
    "Choose Number of months\n"
   ]
  },
  {
   "cell_type": "code",
   "execution_count": 46,
   "metadata": {},
   "outputs": [],
   "source": [
    "def revenuGrowth(nrmonths):\n",
    "    plt.figure(title='Revenue Per Month (kUSD). (%s Months)'% nrmonths)\n",
    "    plt.plot(np.arange(nrmonths), [int(i/1000) for i in simulation_run.sheet.rows[\"revenue_month\"].cells[:nrmonths]])\n",
    "    plt.show()"
   ]
  },
  {
   "cell_type": "code",
   "execution_count": 47,
   "metadata": {},
   "outputs": [
    {
     "data": {
      "application/vnd.jupyter.widget-view+json": {
       "model_id": "6e4aa5f7d4ce48b199350700ae2c19d7",
       "version_major": 2,
       "version_minor": 0
      },
      "text/plain": [
       "interactive(children=(IntSlider(value=72, description='Nr months', max=72, min=24, step=24), Output()), _dom_c…"
      ]
     },
     "metadata": {},
     "output_type": "display_data"
    },
    {
     "data": {
      "text/plain": [
       "<function __main__.revenuGrowth(nrmonths)>"
      ]
     },
     "execution_count": 47,
     "metadata": {},
     "output_type": "execute_result"
    }
   ],
   "source": [
    "interact(revenuGrowth, nrmonths=widgets.IntSlider(min=24, max=72, step=24, value=72, description='Nr months'))"
   ]
  },
  {
   "cell_type": "code",
   "execution_count": null,
   "metadata": {},
   "outputs": [],
   "source": [
    "plt.figure(title='Recurring Revenue Over 60 Months (mUSD).')\n",
    "plt.plot(np.arange(simulation_run.sheet.nrcols), [float(i*60/1000000) for i in simulation_run.sheet.rows[\"revenue_month\"].cells])\n",
    "plt.show() "
   ]
  },
  {
   "cell_type": "code",
   "execution_count": null,
   "metadata": {},
   "outputs": [],
   "source": [
    "simulation_run.sheet.rows"
   ]
  },
  {
   "cell_type": "code",
   "execution_count": null,
   "metadata": {},
   "outputs": [],
   "source": [
    "[int(i) for i in simulation_run.sheet.rows[\"revenue_month\"].cells]\n",
    "#IS TOO SMALL OUTPUT NEEDS TO BE BIGGER\n",
    "#TODO: need to fix\n"
   ]
  },
  {
   "cell_type": "code",
   "execution_count": null,
   "metadata": {},
   "outputs": [],
   "source": [
    "270000*60"
   ]
  },
  {
   "cell_type": "code",
   "execution_count": null,
   "metadata": {},
   "outputs": [],
   "source": []
  },
  {
   "cell_type": "code",
   "execution_count": null,
   "metadata": {},
   "outputs": [],
   "source": []
  }
 ],
 "metadata": {
  "kernelspec": {
   "display_name": "Python 3",
   "language": "python",
   "name": "python3"
  },
  "language_info": {
   "codemirror_mode": {
    "name": "ipython",
    "version": 3
   },
   "file_extension": ".py",
   "mimetype": "text/x-python",
   "name": "python",
   "nbconvert_exporter": "python",
   "pygments_lexer": "ipython3",
   "version": "3.6.8"
  }
 },
 "nbformat": 4,
 "nbformat_minor": 4
}
