{
 "cells": [
  {
   "cell_type": "code",
   "execution_count": 1,
   "metadata": {},
   "outputs": [
    {
     "data": {
      "text/html": [
       "\n",
       "    require(\n",
       "        ['base/js/namespace', 'jquery'], \n",
       "        function(jupyter, $) {\n",
       "            $(jupyter.events).on(\"kernel_ready.Kernel\", function () {\n",
       "                console.log(\"Auto-running all cells-below...\");\n",
       "                jupyter.actions.call('jupyter-notebook:run-all-cells-below');\n",
       "                jupyter.actions.call('jupyter-notebook:save-notebook');\n",
       "            });\n",
       "        }\n",
       "    );\n"
      ],
      "text/plain": [
       "<IPython.core.display.HTML object>"
      ]
     },
     "execution_count": 1,
     "metadata": {},
     "output_type": "execute_result"
    }
   ],
   "source": [
    "from IPython.display import HTML\n",
    "#DOESN'T SEEM T WORK\n",
    "HTML(\"\"\"\n",
    "    require(\n",
    "        ['base/js/namespace', 'jquery'], \n",
    "        function(jupyter, $) {\n",
    "            $(jupyter.events).on(\"kernel_ready.Kernel\", function () {\n",
    "                console.log(\"Auto-running all cells-below...\");\n",
    "                jupyter.actions.call('jupyter-notebook:run-all-cells-below');\n",
    "                jupyter.actions.call('jupyter-notebook:save-notebook');\n",
    "            });\n",
    "        }\n",
    "    );\n",
    "\"\"\")\n",
    "#aim is to autorun all"
   ]
  },
  {
   "cell_type": "code",
   "execution_count": 2,
   "metadata": {},
   "outputs": [],
   "source": [
    "from Jumpscale import j\n",
    "simulation = j.tools.tfsimulation.simulation_get()\n",
    "environment = simulation.environment_get(\"main\")\n",
    "from IPython.display import Markdown as md\n",
    "import numpy as np\n",
    "import bqplot.pyplot as plt\n",
    "from bqplot import *\n",
    "from ipywidgets import interact\n",
    "import ipywidgets as widgets\n",
    "from ipywidgets import HBox, Label, Layout\n"
   ]
  },
  {
   "cell_type": "markdown",
   "metadata": {},
   "source": [
    "## input arguments"
   ]
  },
  {
   "cell_type": "code",
   "execution_count": 3,
   "metadata": {},
   "outputs": [],
   "source": [
    "environment.cost_power_kwh = \"0.15 USD\"\n",
    "environment.cost_rack_unit = \"12 USD\"\n",
    "environment.bandwidth_mbit = 20\n",
    "\n",
    "# sales arguments\n",
    "environment.sales_price_cu = \"8 USD\"\n",
    "environment.sales_price_su = \"5 USD\"\n",
    "\n",
    "device_edge = simulation.device_get(\"edge1\", environment=environment)\n",
    "# print(d1)\n",
    "\n",
    "switch = simulation.device_get(\"switch\", environment=environment)\n",
    "\n",
    "environment.device_add(\"edge1\", device_edge, 20)\n",
    "environment.device_add(\"switch\", switch, 2)\n",
    "\n",
    "# print(environment)\n",
    "\n",
    "simulation_run = simulation.run()\n",
    "\n",
    "# month:growth_percent of nodes being added\n",
    "simulation_run.growth_percent_set(\"3:5,11:8,24:10,36:12,48:5,60:5\")\n",
    "\n",
    "# means at end of period we produce 40% more cpr (*1.4)\n",
    "# cpr = capacity production rate (is like hashrate of bitcoin)\n",
    "simulation_run.cpr_improve_set(\"71:40\")\n",
    "\n",
    "# price of a capacity unit goes down over time, here we say it will go down 40%\n",
    "# means we expect price to be lowered by X e.g. 40 (*0.6)\n",
    "simulation_run.cpr_sales_price_decline_set(\"0:100,71:40\")\n",
    "\n",
    "# utilization of the nodes, strating with 0\n",
    "simulation_run.utilization_set(\"30:80,71:90\")\n",
    "\n",
    "# super important factor, how does token price goes up, this is ofcourse complete speculation, no-one knows\n",
    "simulation_run.tokenprice_set(\"0:0.15,30:2,71:2.5\")\n",
    "\n",
    "# set difficulty level\n",
    "simulation_run.difficulty_level_set(\"0:2,71:50\")\n",
    "\n",
    "# are the parameters for a batch of nodes to be added\n",
    "nb = simulation_run.nodes_batch_template_get(environment)\n",
    "# print(nb)\n",
    "\n",
    "# do the calculation of the simulation\n",
    "simulation_run.calc(nr_start_nodes=1500, months_remaining_start_nodes=36,environment=environment)\n"
   ]
  },
  {
   "cell_type": "code",
   "execution_count": 4,
   "metadata": {},
   "outputs": [
    {
     "data": {
      "text/markdown": [
       "\n",
       "```python\n",
       "from Jumpscale import j\n",
       "simulation = j.tools.tfsimulation.simulation_get()\n",
       "environment = simulation.environment_get(\"main\")\n",
       "from IPython.display import Markdown as md\n",
       "import numpy as np\n",
       "import bqplot.pyplot as plt\n",
       "from bqplot import *\n",
       "from ipywidgets import interact\n",
       "import ipywidgets as widgets\n",
       "from ipywidgets import HBox, Label, Layout\n",
       "```\n"
      ],
      "text/plain": [
       "<IPython.core.display.Markdown object>"
      ]
     },
     "execution_count": 4,
     "metadata": {},
     "output_type": "execute_result"
    }
   ],
   "source": [
    "C=\"\"\"\n",
    "```python\n",
    "%s\n",
    "```\n",
    "\"\"\"%In[2]\n",
    "m=md(C)\n",
    "m"
   ]
  },
  {
   "cell_type": "markdown",
   "metadata": {},
   "source": [
    "### calculated edge device"
   ]
  },
  {
   "cell_type": "code",
   "execution_count": 5,
   "metadata": {},
   "outputs": [
    {
     "data": {
      "text/plain": [
       "\u001b[1;34m# JSXOBJ:\u001b[0;0m\n",
       "\u001b[0;33m## threefold.simulation.device\n",
       "\u001b[0;0m\u001b[0;32mID: 4\n",
       "\u001b[0;0m - \u001b[0;33mname                : edge1\n",
       "\u001b[0;0m - description         : \n",
       " - device_template_name: edge1\n",
       " - cost                : 3,627\n",
       " - power               : 222\n",
       " - rackspace_u         : 2\n",
       " - cru                 : 16\n",
       " - sru                 : 1000\n",
       " - hru                 : 60000\n",
       " - mru                 : 128\n",
       " - su                  : 58\n",
       " - cu                  : 31\n",
       " - cu_passmark         : 771\n",
       " - su_perc             : 62.95%\n",
       " - cu_perc             : 37.05%\n",
       " - cpr                 : 105\n",
       " - cost_su_capex       : 39.14204775394577\n",
       " - cost_cu_capex       : 42.321697039994646\n",
       " - cost_power          : 23.976\n",
       " - cost_rack           : 24\n",
       " - cost_month          : 108.426\n",
       " - cost_cu_month       : 1.2651702021666555\n",
       " - cost_su_month       : 1.170117361392149\n",
       "\u001b[0;0m"
      ]
     },
     "execution_count": 5,
     "metadata": {},
     "output_type": "execute_result"
    }
   ],
   "source": [
    "device_edge"
   ]
  },
  {
   "cell_type": "markdown",
   "metadata": {},
   "source": [
    "### environment of 1500 edge devices\n",
    "\n",
    "Is a complete environment with switches and 1500 edge devices\n"
   ]
  },
  {
   "cell_type": "code",
   "execution_count": 6,
   "metadata": {},
   "outputs": [
    {
     "data": {
      "text/plain": [
       "\u001b[1;34m# JSXOBJ:\u001b[0;0m\n",
       "\u001b[0;33m## threefold.simulation.environment\n",
       "\u001b[0;0m\u001b[0;32mID: 3\n",
       "\u001b[0;0m - \u001b[0;33mname                : main\n",
       "\u001b[0;0m - description         : \n",
       " - cost_power_kwh      : 0.15\n",
       " - cost_rack_unit      : 12\n",
       " - cost                : 81,540\n",
       " - power               : 4,640\n",
       " - rackspace_u         : 42\n",
       " - cru                 : 320\n",
       " - sru                 : 20000\n",
       " - hru                 : 1200000\n",
       " - mru                 : 2560\n",
       " - su                  : 1166\n",
       " - cu                  : 634\n",
       " - cu_passmark         : 771\n",
       " - su_perc             : 62.95%\n",
       " - cu_perc             : 37.05%\n",
       " - cpr                 : 2,118\n",
       " - cost_su_capex       : 43.998381222177244\n",
       " - cost_cu_capex       : 47.610016139942005\n",
       " - cost_power          : 501.12\n",
       " - cost_rack           : 504\n",
       " - cost_month          : 2364.12\n",
       " - cost_cu_month       : 1.380375169938186\n",
       " - cost_su_month       : 1.275661675435046\n",
       " - bandwidth_mbit      : 20\n",
       " - cost_bandwidth      : 0\n",
       " - nr_devices          : 20\n",
       " - sales_price_cu      : 8\n",
       " - sales_price_su      : 5\n",
       " - sales_price_nu      : 0\n",
       " - sales_price_total   : 10,909\n",
       " - sales_price_cpr_unit: 5.150613786591124\n",
       "\u001b[0;0m"
      ]
     },
     "execution_count": 6,
     "metadata": {},
     "output_type": "execute_result"
    }
   ],
   "source": [
    "environment"
   ]
  },
  {
   "cell_type": "markdown",
   "metadata": {},
   "source": [
    "### Growth Percent per month\n",
    "\n",
    "Choose Number of months\n",
    "\n"
   ]
  },
  {
   "cell_type": "code",
   "execution_count": 7,
   "metadata": {},
   "outputs": [
    {
     "data": {
      "application/vnd.jupyter.widget-view+json": {
       "model_id": "99ca1ec26ab34c60a6ab4ffc55988c62",
       "version_major": 2,
       "version_minor": 0
      },
      "text/plain": [
       "interactive(children=(IntSlider(value=72, description='Nr months', max=72, min=24, step=24), Output()), _dom_c…"
      ]
     },
     "metadata": {},
     "output_type": "display_data"
    },
    {
     "data": {
      "text/plain": [
       "<function __main__.plotGrowth(nrmonths)>"
      ]
     },
     "execution_count": 7,
     "metadata": {},
     "output_type": "execute_result"
    }
   ],
   "source": [
    "def plotGrowth(nrmonths):\n",
    "    plt.figure(title='Growth Percent Per Month (%s Months)' % nrmonths)\n",
    "    plt.plot(np.arange(nrmonths), simulation_run.sheet.rows[\"growth_percent\"].cells[:nrmonths])\n",
    "    plt.show()\n",
    "    \n",
    "interact(plotGrowth, nrmonths=widgets.IntSlider(min=24, max=72, step=24, value=72, description='Nr months'))\n"
   ]
  },
  {
   "cell_type": "markdown",
   "metadata": {},
   "source": [
    "### Number of nodes per month\n",
    "\n",
    "Choose Number of months\n",
    "\n"
   ]
  },
  {
   "cell_type": "code",
   "execution_count": 8,
   "metadata": {},
   "outputs": [],
   "source": [
    "def plotNodeGrowth(nrmonths):\n",
    "    plt.figure(title='Nr Nodes (%s Months)' % nrmonths)\n",
    "    plt.plot(np.arange(nrmonths), simulation_run.sheet.rows[\"nrnodes\"].cells[:nrmonths])\n",
    "    plt.show()"
   ]
  },
  {
   "cell_type": "code",
   "execution_count": 9,
   "metadata": {},
   "outputs": [
    {
     "data": {
      "application/vnd.jupyter.widget-view+json": {
       "model_id": "4c13c770f7924c10a1b57ede7511aedf",
       "version_major": 2,
       "version_minor": 0
      },
      "text/plain": [
       "interactive(children=(IntSlider(value=72, description='Nr months', max=72, min=24, step=24), Output()), _dom_c…"
      ]
     },
     "metadata": {},
     "output_type": "display_data"
    },
    {
     "data": {
      "text/plain": [
       "<function __main__.plotNodeGrowth(nrmonths)>"
      ]
     },
     "execution_count": 9,
     "metadata": {},
     "output_type": "execute_result"
    }
   ],
   "source": [
    "interact(plotNodeGrowth, nrmonths=widgets.IntSlider(min=24, max=72, step=24, value=72, description='Nr months'))"
   ]
  },
  {
   "cell_type": "markdown",
   "metadata": {},
   "source": [
    "### Number of racks per month\n",
    "\n",
    "Choose Number of months\n"
   ]
  },
  {
   "cell_type": "code",
   "execution_count": 10,
   "metadata": {},
   "outputs": [],
   "source": [
    "def plotRackGrowth(nrmonths):\n",
    "    plt.figure(title='Nr Racks Occupied. (%s Months)' % nrmonths)\n",
    "    plt.plot(np.arange(nrmonths), simulation_run.sheet.rows[\"nrracks\"].cells[:nrmonths])\n",
    "    plt.show()\n"
   ]
  },
  {
   "cell_type": "code",
   "execution_count": 11,
   "metadata": {},
   "outputs": [
    {
     "data": {
      "application/vnd.jupyter.widget-view+json": {
       "model_id": "7065ad9d4b5f4109aeca47a3b8d2aa5c",
       "version_major": 2,
       "version_minor": 0
      },
      "text/plain": [
       "interactive(children=(IntSlider(value=72, description='Nr months', max=72, min=24, step=24), Output()), _dom_c…"
      ]
     },
     "metadata": {},
     "output_type": "display_data"
    },
    {
     "data": {
      "text/plain": [
       "<function __main__.plotRackGrowth(nrmonths)>"
      ]
     },
     "execution_count": 11,
     "metadata": {},
     "output_type": "execute_result"
    }
   ],
   "source": [
    "interact(plotRackGrowth, nrmonths=widgets.IntSlider(min=24, max=72, step=24, value=72, description='Nr months'))"
   ]
  },
  {
   "cell_type": "markdown",
   "metadata": {},
   "source": [
    "### Revenue per month\n",
    "\n",
    "Choose Number of months\n"
   ]
  },
  {
   "cell_type": "code",
   "execution_count": 12,
   "metadata": {},
   "outputs": [],
   "source": [
    "def revenuGrowth(nrmonths):\n",
    "    plt.figure(title='Revenue Per Month (kUSD). (%s Months)'% nrmonths)\n",
    "    plt.plot(np.arange(nrmonths), [int(i/1000) for i in simulation_run.sheet.rows[\"revenue_month\"].cells[:nrmonths]])\n",
    "    plt.show()"
   ]
  },
  {
   "cell_type": "code",
   "execution_count": 13,
   "metadata": {},
   "outputs": [
    {
     "data": {
      "application/vnd.jupyter.widget-view+json": {
       "model_id": "0ad706f2cc5c43cba2877d7d400e1819",
       "version_major": 2,
       "version_minor": 0
      },
      "text/plain": [
       "interactive(children=(IntSlider(value=72, description='Nr months', max=72, min=24, step=24), Output()), _dom_c…"
      ]
     },
     "metadata": {},
     "output_type": "display_data"
    },
    {
     "data": {
      "text/plain": [
       "<function __main__.revenuGrowth(nrmonths)>"
      ]
     },
     "execution_count": 13,
     "metadata": {},
     "output_type": "execute_result"
    }
   ],
   "source": [
    "interact(revenuGrowth, nrmonths=widgets.IntSlider(min=24, max=72, step=24, value=72, description='Nr months'))"
   ]
  },
  {
   "cell_type": "markdown",
   "metadata": {},
   "source": [
    "### Revenu per year"
   ]
  },
  {
   "cell_type": "code",
   "execution_count": 14,
   "metadata": {},
   "outputs": [
    {
     "data": {
      "application/vnd.jupyter.widget-view+json": {
       "model_id": "a75cc86bf60d4c3fa7ec6e737122de4d",
       "version_major": 2,
       "version_minor": 0
      },
      "text/plain": [
       "VBox(children=(Figure(axes=[Axis(scale=LinearScale()), Axis(orientation='vertical', scale=LinearScale())], fig…"
      ]
     },
     "metadata": {},
     "output_type": "display_data"
    }
   ],
   "source": [
    "plt.figure(title='Revenue Per Year (million USD).')\n",
    "plt.bar(np.arange(0,6), [int(i/1000) for i in simulation_run.sheet.rows[\"revenue_month\"].aggregate(\"Y\")])\n",
    "plt.show()"
   ]
  },
  {
   "cell_type": "markdown",
   "metadata": {},
   "source": [
    "### Revenu over 60 months"
   ]
  },
  {
   "cell_type": "code",
   "execution_count": 15,
   "metadata": {},
   "outputs": [
    {
     "data": {
      "application/vnd.jupyter.widget-view+json": {
       "model_id": "bbbcb9d478d84a9e9d07e6032a4e2673",
       "version_major": 2,
       "version_minor": 0
      },
      "text/plain": [
       "VBox(children=(Figure(axes=[Axis(scale=LinearScale()), Axis(orientation='vertical', scale=LinearScale())], fig…"
      ]
     },
     "metadata": {},
     "output_type": "display_data"
    }
   ],
   "source": [
    "plt.figure(title='Recurring Revenue Over 60 Months (million USD).')\n",
    "plt.bar(np.arange(simulation_run.sheet.nrcols), [round(float(i)*60/1000,2) for i in simulation_run.sheet.rows[\"revenue_month\"].cells])\n",
    "plt.show() "
   ]
  },
  {
   "cell_type": "markdown",
   "metadata": {},
   "source": [
    "### Token price per month\n",
    "Choose Number of months"
   ]
  },
  {
   "cell_type": "code",
   "execution_count": 16,
   "metadata": {},
   "outputs": [],
   "source": [
    "def plotTokenPrice(nrmonths):\n",
    "    plt.figure(title='Token Price (TFT). (%s months)' % nrmonths)\n",
    "    plt.plot(np.arange(simulation_run.sheet.nrcols), [round(i,2) for i in simulation_run.sheet.rows[\"tokenprice\"].cells])\n",
    "    plt.show()"
   ]
  },
  {
   "cell_type": "code",
   "execution_count": 17,
   "metadata": {},
   "outputs": [
    {
     "data": {
      "application/vnd.jupyter.widget-view+json": {
       "model_id": "dc69d3e7693d4e108628ed136ebedf6c",
       "version_major": 2,
       "version_minor": 0
      },
      "text/plain": [
       "interactive(children=(IntSlider(value=72, description='Nr months', max=72, min=24, step=24), Output()), _dom_c…"
      ]
     },
     "metadata": {},
     "output_type": "display_data"
    },
    {
     "data": {
      "text/plain": [
       "<function __main__.plotTokenPrice(nrmonths)>"
      ]
     },
     "execution_count": 17,
     "metadata": {},
     "output_type": "execute_result"
    }
   ],
   "source": [
    "interact(plotTokenPrice, nrmonths=widgets.IntSlider(min=24, max=72, step=24, value=72, description='Nr months'))"
   ]
  },
  {
   "cell_type": "code",
   "execution_count": 18,
   "metadata": {},
   "outputs": [
    {
     "data": {
      "text/plain": [
       " - growth_percent       0, 5.0, 6.12, 7.25, 8.15, 8.62, 9.08, 9.54, 10.0, 10.5, 11.0, 11.5, 12.0, 10.25, 8.5, 6.75, 5.0, 5.0, 5.0, 5.0, 5.0, 5.0, 5.0, 5.0\n",
       " - cpr_improve          0, 1.69, 3.38, 5.07, 6.76, 8.45, 10.14, 11.83, 13.52, 15.21, 16.9, 18.59, 20.28, 21.97, 23.66, 25.35, 27.04, 28.73, 30.42, 32.11, 33.8, 35.49, 37.18, 38.87\n",
       " - cpr_sales_price_decline 100, 97, 95, 92, 90, 87, 85, 82, 80, 77, 75, 72, 70, 67, 65, 62, 59, 57, 54, 52, 49, 47, 44, 42\n",
       " - utilization          0, 8.0, 16.0, 24.0, 32.0, 40.0, 48.0, 56.0, 64.0, 72.0, 80.0, 80.73, 81.46, 82.2, 82.93, 83.66, 84.39, 85.12, 85.85, 86.59, 87.32, 88.05, 88.78, 89.51\n",
       " - tokenprice           0.15, 0.33, 0.52, 0.71, 0.89, 1.07, 1.26, 1.44, 1.63, 1.81, 2.0, 2.04, 2.07, 2.11, 2.15, 2.18, 2.22, 2.26, 2.29, 2.33, 2.37, 2.4, 2.44, 2.48\n",
       " - difficulty_level     2.0, 4.03, 6.06, 8.08, 10.11, 12.14, 14.17, 16.2, 18.23, 20.25, 22.28, 24.31, 26.34, 28.37, 30.39, 32.42, 34.45, 36.48, 38.51, 40.54, 42.56, 44.59, 46.62, 48.65\n",
       " - nrnodes_new          1500, 79, 113, 161, 226, 303, 411, 562, 778, 1092, 1550, 2225, 3233, 3820, 4177, 4169, 3695, 4278, 4952, 5733, 6636, 7682, 8893, 10295\n",
       " - nrnodes              1500, 1653, 1953, 2383, 2994, 3819, 4933, 6455, 8554, 11487, 15637, 21577, 30178, 41084, 53324, 65934, 77603, 89834, 103993, 120383, 139358, 161323, 186750, 216185\n",
       " - revenue_month        0, 1.82, 8.6, 23.79, 53.61, 108.09, 203.63, 367.93, 646.52, 1115.55, 1904.49, 2964.32, 4437.77, 6785.32, 9758.59, 13249.0, 16975.0, 21292.0, 26612.0, 33183.0, 41250.0, 51136.0, 63203.0, 77947.0\n",
       " - cost_month           177, 195, 231, 282, 354, 451, 583, 763, 1011, 1358, 1848, 2551, 3390, 4679, 6126, 7616, 8996, 10441, 12115, 14052, 16295, 18873, 21844, 25272\n",
       " - investment           6116, 6739, 7962, 9715, 12206, 15570, 20111, 26317, 34874, 46832, 63752, 87969, 116920, 161383, 211286, 262697, 310271, 360137, 417863, 484685, 562047, 650974, 753417, 871670\n",
       " - powerkw              0.35, 0.38, 0.45, 0.55, 0.69, 0.88, 1.14, 1.49, 1.97, 2.65, 3.62, 4.99, 6.64, 9.17, 12.01, 14.93, 17.64, 20.47, 23.76, 27.56, 31.96, 37.02, 42.85, 49.58\n",
       " - nrracks              72, 79, 93, 114, 143, 182, 235, 308, 408, 548, 746, 1029, 1368, 1889, 2473, 3075, 3632, 4215, 4891, 5673, 6579, 7620, 8819, 10204\n",
       " - cpr_available        157500, 173693, 205905, 252936, 320801, 413778, 541554, 718668, 967127, 1318218, 1823293, 2556138, 3476996, 4862431, 6437419, 8085106, 9629109, 11268460, 13189593, 15446214, 18090375, 21178929, 24783604, 28995311\n",
       " - tokens_farmed        679500, 170183, 83673, 56312, 45264, 40085, 37468, 37604, 39186, 42696, 47647, 59152, 71588, 89771, 107755, 123974, 135035, 145527, 157985, 171209, 185563, 202719, 220869, 241067\n",
       " - tokens_used          0, 0, 0, 0, 0, 0, 0, 0, 0, 0, 0, 0, 0, 0, 0, 0, 0, 0, 0, 0, 0, 0, 0, 0\n",
       " - tokens_burned        0, 0, 0, 0, 0, 0, 0, 0, 0, 0, 0, 0, 0, 0, 0, 0, 0, 0, 0, 0, 0, 0, 0, 0\n",
       " - tokens_roi_batch_0   101925, 50962, 33418, 25167, 20183, 16846, 14355, 12583, 11201, 10092, 9141, 8389, 0, 0, 0, 0, 0, 0, 0, 0, 0, 0, 0, 0\n",
       " - tokens_roi_batch_1   0, 849, 557, 419, 336, 281, 239, 210, 187, 168, 152, 140, 129, 120, 112, 105, 98, 93, 88, 84, 80, 0, 0, 0\n",
       " - tokens_roi_batch_2   0, 1699, 1114, 839, 673, 562, 479, 419, 373, 336, 305, 280, 258, 239, 224, 210, 197, 186, 176, 168, 160, 0, 0, 0\n",
       " - tokens_roi_batch_3   0, 2650, 1738, 1309, 1050, 876, 746, 654, 582, 525, 475, 436, 403, 373, 349, 327, 307, 290, 275, 262, 249, 0, 0, 0\n",
       " - tokens_roi_batch_4   0, 0, 1961, 1476, 1184, 988, 842, 738, 657, 592, 536, 492, 455, 421, 393, 369, 347, 328, 311, 295, 281, 268, 0, 0\n",
       " - tokens_roi_batch_5   0, 0, 2228, 1678, 1346, 1123, 957, 839, 747, 673, 609, 559, 517, 479, 447, 419, 394, 372, 353, 336, 319, 305, 0, 0\n",
       " - tokens_roi_batch_6   0, 0, 2495, 1879, 1507, 1258, 1072, 940, 836, 754, 683, 626, 579, 536, 501, 470, 441, 417, 395, 376, 357, 341, 0, 0\n",
       " - tokens_roi_batch_7   0, 0, 0, 2114, 1695, 1415, 1206, 1057, 941, 848, 768, 705, 651, 603, 563, 528, 496, 469, 445, 423, 402, 384, 367, 0\n",
       " - tokens_roi_batch_8   0, 0, 0, 2399, 1924, 1606, 1369, 1200, 1068, 962, 871, 800, 739, 684, 639, 600, 563, 532, 505, 480, 456, 436, 417, 0\n",
       " - tokens_roi_batch_9   0, 0, 0, 2701, 2166, 1808, 1541, 1351, 1202, 1083, 981, 900, 832, 770, 720, 675, 634, 599, 568, 540, 514, 491, 470, 0\n",
       " - tokens_roi_batch_10  0, 0, 0, 0, 2435, 2033, 1732, 1518, 1351, 1218, 1103, 1012, 935, 866, 809, 759, 713, 674, 639, 607, 577, 552, 528, 506\n",
       " - tokens_roi_batch_11  0, 0, 0, 0, 2758, 2302, 1962, 1720, 1531, 1379, 1249, 1146, 1059, 981, 916, 860, 807, 763, 724, 688, 654, 625, 598, 573\n",
       " - tokens_roi_batch_12  0, 0, 0, 0, 3027, 2527, 2153, 1887, 1680, 1514, 1371, 1258, 1163, 1077, 1006, 944, 886, 838, 794, 755, 718, 686, 656, 629\n",
       " - tokens_roi_batch_13  0, 0, 0, 0, 0, 2785, 2373, 2080, 1852, 1668, 1511, 1387, 1281, 1187, 1109, 1040, 977, 923, 875, 832, 791, 756, 723, 693\n",
       " - tokens_roi_batch_14  0, 0, 0, 0, 0, 3077, 2622, 2299, 2046, 1843, 1670, 1532, 1416, 1311, 1225, 1149, 1079, 1020, 967, 919, 874, 835, 799, 766\n",
       " - tokens_roi_batch_15  0, 0, 0, 0, 0, 3403, 2900, 2542, 2262, 2038, 1846, 1694, 1566, 1450, 1354, 1271, 1194, 1128, 1070, 1017, 967, 923, 884, 847\n",
       " - tokens_roi_batch_16  0, 0, 0, 0, 0, 0, 3196, 2802, 2494, 2247, 2035, 1868, 1726, 1598, 1493, 1401, 1316, 1244, 1179, 1121, 1065, 1018, 974, 934\n",
       " - tokens_roi_batch_17  0, 0, 0, 0, 0, 0, 3541, 3104, 2763, 2489, 2255, 2069, 1912, 1771, 1654, 1552, 1457, 1378, 1306, 1242, 1180, 1127, 1079, 1035\n",
       " - tokens_roi_batch_18  0, 0, 0, 0, 0, 0, 3924, 3439, 3061, 2758, 2499, 2293, 2119, 1962, 1833, 1720, 1615, 1526, 1447, 1376, 1308, 1249, 1196, 1146\n",
       " - tokens_roi_batch_19  0, 0, 0, 0, 0, 0, 0, 3817, 3397, 3061, 2773, 2545, 2351, 2177, 2034, 1908, 1792, 1694, 1606, 1527, 1451, 1386, 1327, 1272\n",
       " - tokens_roi_batch_20  0, 0, 0, 0, 0, 0, 0, 4236, 3771, 3397, 3078, 2824, 2609, 2417, 2258, 2118, 1989, 1880, 1783, 1695, 1611, 1539, 1473, 1412\n",
       " - tokens_roi_batch_21  0, 0, 0, 0, 0, 0, 0, 4715, 4196, 3781, 3425, 3143, 2904, 2689, 2512, 2357, 2214, 2092, 1984, 1886, 1793, 1712, 1639, 1571\n",
       " - tokens_roi_batch_22  0, 0, 0, 0, 0, 0, 0, 0, 4667, 4205, 3809, 3495, 3230, 2991, 2794, 2622, 2462, 2327, 2206, 2097, 1994, 1904, 1823, 1748\n",
       " - tokens_roi_batch_23  0, 0, 0, 0, 0, 0, 0, 0, 5204, 4689, 4248, 3898, 3602, 3335, 3116, 2924, 2746, 2595, 2460, 2339, 2223, 2124, 2033, 1949\n",
       " - tokens_roi_batch_24  0, 0, 0, 0, 0, 0, 0, 0, 5802, 5227, 4735, 4345, 4015, 3718, 3473, 3259, 3061, 2893, 2743, 2607, 2479, 2368, 2266, 2173\n",
       " - tokens_roi_batch_25  0, 0, 0, 0, 0, 0, 0, 0, 0, 5846, 5296, 4860, 4490, 4158, 3885, 3645, 3423, 3235, 3067, 2916, 2772, 2648, 2534, 2430\n",
       " - tokens_roi_batch_26  0, 0, 0, 0, 0, 0, 0, 0, 0, 6546, 5930, 5442, 5028, 4656, 4350, 4081, 3833, 3623, 3435, 3265, 3104, 2965, 2838, 2721\n",
       " - tokens_roi_batch_27  0, 0, 0, 0, 0, 0, 0, 0, 0, 7340, 6649, 6102, 5638, 5221, 4877, 4576, 4298, 4062, 3851, 3661, 3480, 3324, 3182, 3051\n",
       " - tokens_roi_batch_28  0, 0, 0, 0, 0, 0, 0, 0, 0, 0, 7465, 6851, 6330, 5862, 5476, 5138, 4825, 4561, 4324, 4111, 3908, 3733, 3572, 3425\n",
       " - tokens_roi_batch_29  0, 0, 0, 0, 0, 0, 0, 0, 0, 0, 8386, 7695, 7110, 6584, 6151, 5772, 5420, 5123, 4857, 4617, 4390, 4193, 4013, 3848\n",
       " - tokens_roi_batch_30  0, 0, 0, 0, 0, 0, 0, 0, 0, 0, 9440, 8663, 8004, 7412, 6925, 6497, 6102, 5767, 5468, 5198, 4941, 4720, 4517, 4331\n",
       " - tokens_roi_batch_31  0, 0, 0, 0, 0, 0, 0, 0, 0, 0, 0, 9765, 9022, 8355, 7805, 7323, 6878, 6501, 6163, 5859, 5570, 5320, 5092, 4882\n",
       " - tokens_roi_batch_32  0, 0, 0, 0, 0, 0, 0, 0, 0, 0, 0, 11012, 10174, 9422, 8802, 8259, 7756, 7331, 6950, 6607, 6281, 6000, 5742, 5506\n",
       " - tokens_roi_batch_33  0, 0, 0, 0, 0, 0, 0, 0, 0, 0, 0, 12443, 11497, 10647, 9947, 9333, 8765, 8284, 7854, 7466, 7098, 6780, 6489, 6222\n",
       " - tokens_roi_batch_34  0, 0, 0, 0, 0, 0, 0, 0, 0, 0, 0, 0, 13011, 12049, 11256, 10562, 9919, 9375, 8888, 8449, 8033, 7672, 7343, 7041\n",
       " - tokens_roi_batch_35  0, 0, 0, 0, 0, 0, 0, 0, 0, 0, 0, 0, 14727, 13638, 12741, 11954, 11226, 10611, 10060, 9563, 9092, 8684, 8311, 7969\n",
       " - tokens_roi_batch_36  0, 0, 0, 0, 0, 0, 0, 0, 0, 0, 0, 0, 16706, 15471, 14453, 13561, 12735, 12037, 11412, 10848, 10314, 9851, 9428, 9040\n",
       " - tokens_roi_batch_37  0, 0, 0, 0, 0, 0, 0, 0, 0, 0, 0, 0, 0, 16490, 15405, 14454, 13574, 12830, 12164, 11563, 10993, 10500, 10050, 9636\n",
       " - tokens_roi_batch_38  0, 0, 0, 0, 0, 0, 0, 0, 0, 0, 0, 0, 0, 17423, 16277, 15272, 14342, 13556, 12852, 12218, 11615, 11094, 10618, 10181\n",
       " - tokens_roi_batch_39  0, 0, 0, 0, 0, 0, 0, 0, 0, 0, 0, 0, 0, 18275, 17072, 16019, 15044, 14219, 13481, 12815, 12183, 11637, 11137, 10679\n",
       " - tokens_roi_batch_40  0, 0, 0, 0, 0, 0, 0, 0, 0, 0, 0, 0, 0, 0, 17756, 16660, 15646, 14789, 14021, 13328, 12671, 12103, 11584, 11107\n",
       " - tokens_roi_batch_41  0, 0, 0, 0, 0, 0, 0, 0, 0, 0, 0, 0, 0, 0, 18288, 17159, 16115, 15232, 14441, 13728, 13051, 12466, 11931, 11440\n",
       " - tokens_roi_batch_42  0, 0, 0, 0, 0, 0, 0, 0, 0, 0, 0, 0, 0, 0, 18673, 17520, 16454, 15552, 14744, 14016, 13325, 12728, 12181, 11680\n",
       " - tokens_roi_batch_43  0, 0, 0, 0, 0, 0, 0, 0, 0, 0, 0, 0, 0, 0, 0, 17713, 16635, 15723, 14907, 14170, 13472, 12868, 12315, 11809\n",
       " - tokens_roi_batch_44  0, 0, 0, 0, 0, 0, 0, 0, 0, 0, 0, 0, 0, 0, 0, 17692, 16615, 15705, 14889, 14154, 13456, 12853, 12301, 11795\n",
       " - tokens_roi_batch_45  0, 0, 0, 0, 0, 0, 0, 0, 0, 0, 0, 0, 0, 0, 0, 17487, 16422, 15522, 14716, 13989, 13300, 12703, 12158, 11658\n",
       " - tokens_roi_batch_46  0, 0, 0, 0, 0, 0, 0, 0, 0, 0, 0, 0, 0, 0, 0, 0, 16024, 15146, 14359, 13650, 12977, 12396, 11864, 11375\n",
       " - tokens_roi_batch_47  0, 0, 0, 0, 0, 0, 0, 0, 0, 0, 0, 0, 0, 0, 0, 0, 15386, 14543, 13788, 13107, 12461, 11902, 11391, 10922\n",
       " - tokens_roi_batch_48  0, 0, 0, 0, 0, 0, 0, 0, 0, 0, 0, 0, 0, 0, 0, 0, 14555, 13758, 13043, 12399, 11788, 11259, 10776, 10332\n",
       " - tokens_roi_batch_49  0, 0, 0, 0, 0, 0, 0, 0, 0, 0, 0, 0, 0, 0, 0, 0, 0, 14446, 13696, 13019, 12378, 11823, 11315, 10850\n",
       " - tokens_roi_batch_50  0, 0, 0, 0, 0, 0, 0, 0, 0, 0, 0, 0, 0, 0, 0, 0, 0, 15169, 14381, 13670, 12997, 12414, 11881, 11392\n",
       " - tokens_roi_batch_51  0, 0, 0, 0, 0, 0, 0, 0, 0, 0, 0, 0, 0, 0, 0, 0, 0, 15924, 15097, 14352, 13644, 13032, 12473, 11960\n",
       " - tokens_roi_batch_52  0, 0, 0, 0, 0, 0, 0, 0, 0, 0, 0, 0, 0, 0, 0, 0, 0, 0, 15853, 15070, 14327, 13684, 13097, 12558\n",
       " - tokens_roi_batch_53  0, 0, 0, 0, 0, 0, 0, 0, 0, 0, 0, 0, 0, 0, 0, 0, 0, 0, 16647, 15825, 15045, 14370, 13753, 13187\n",
       " - tokens_roi_batch_54  0, 0, 0, 0, 0, 0, 0, 0, 0, 0, 0, 0, 0, 0, 0, 0, 0, 0, 17480, 16617, 15798, 15089, 14442, 13847\n",
       " - tokens_roi_batch_55  0, 0, 0, 0, 0, 0, 0, 0, 0, 0, 0, 0, 0, 0, 0, 0, 0, 0, 0, 17445, 16585, 15842, 15162, 14538\n",
       " - tokens_roi_batch_56  0, 0, 0, 0, 0, 0, 0, 0, 0, 0, 0, 0, 0, 0, 0, 0, 0, 0, 0, 18318, 17415, 16634, 15920, 15265\n",
       " - tokens_roi_batch_57  0, 0, 0, 0, 0, 0, 0, 0, 0, 0, 0, 0, 0, 0, 0, 0, 0, 0, 0, 19234, 18286, 17466, 16716, 16028\n",
       " - tokens_roi_batch_58  0, 0, 0, 0, 0, 0, 0, 0, 0, 0, 0, 0, 0, 0, 0, 0, 0, 0, 0, 0, 19201, 18340, 17553, 16831\n",
       " - tokens_roi_batch_59  0, 0, 0, 0, 0, 0, 0, 0, 0, 0, 0, 0, 0, 0, 0, 0, 0, 0, 0, 0, 20162, 19258, 18431, 17673\n",
       " - tokens_roi_batch_60  0, 0, 0, 0, 0, 0, 0, 0, 0, 0, 0, 0, 0, 0, 0, 0, 0, 0, 0, 0, 21170, 20220, 19353, 18556\n",
       " - tokens_roi_batch_61  0, 0, 0, 0, 0, 0, 0, 0, 0, 0, 0, 0, 0, 0, 0, 0, 0, 0, 0, 0, 0, 21229, 20318, 19482\n",
       " - tokens_roi_batch_62  0, 0, 0, 0, 0, 0, 0, 0, 0, 0, 0, 0, 0, 0, 0, 0, 0, 0, 0, 0, 0, 22292, 21336, 20458\n",
       " - tokens_roi_batch_63  0, 0, 0, 0, 0, 0, 0, 0, 0, 0, 0, 0, 0, 0, 0, 0, 0, 0, 0, 0, 0, 23408, 22403, 21481\n",
       " - tokens_roi_batch_64  0, 0, 0, 0, 0, 0, 0, 0, 0, 0, 0, 0, 0, 0, 0, 0, 0, 0, 0, 0, 0, 0, 23523, 22555\n",
       " - tokens_roi_batch_65  0, 0, 0, 0, 0, 0, 0, 0, 0, 0, 0, 0, 0, 0, 0, 0, 0, 0, 0, 0, 0, 0, 24698, 23682\n",
       " - tokens_roi_batch_66  0, 0, 0, 0, 0, 0, 0, 0, 0, 0, 0, 0, 0, 0, 0, 0, 0, 0, 0, 0, 0, 0, 25930, 24864\n",
       " - tokens_roi_batch_67  0, 0, 0, 0, 0, 0, 0, 0, 0, 0, 0, 0, 0, 0, 0, 0, 0, 0, 0, 0, 0, 0, 0, 26107\n",
       " - tokens_roi_batch_68  0, 0, 0, 0, 0, 0, 0, 0, 0, 0, 0, 0, 0, 0, 0, 0, 0, 0, 0, 0, 0, 0, 0, 27414\n",
       " - tokens_roi_batch_69  0, 0, 0, 0, 0, 0, 0, 0, 0, 0, 0, 0, 0, 0, 0, 0, 0, 0, 0, 0, 0, 0, 0, 28783\n",
       " - tokens_roi_batch_70  0, 0, 0, 0, 0, 0, 0, 0, 0, 0, 0, 0, 0, 0, 0, 0, 0, 0, 0, 0, 0, 0, 0, 0\n",
       " - tokens_roi_batch_71  0, 0, 0, 0, 0, 0, 0, 0, 0, 0, 0, 0, 0, 0, 0, 0, 0, 0, 0, 0, 0, 0, 0, 0\n",
       " - tft_sum              8874759"
      ]
     },
     "execution_count": 18,
     "metadata": {},
     "output_type": "execute_result"
    }
   ],
   "source": [
    "simulation_run"
   ]
  }
 ],
 "metadata": {
  "kernelspec": {
   "display_name": "Python 3",
   "language": "python",
   "name": "python3"
  },
  "language_info": {
   "codemirror_mode": {
    "name": "ipython",
    "version": 3
   },
   "file_extension": ".py",
   "mimetype": "text/x-python",
   "name": "python",
   "nbconvert_exporter": "python",
   "pygments_lexer": "ipython3",
   "version": "3.6.8"
  }
 },
 "nbformat": 4,
 "nbformat_minor": 4
}
