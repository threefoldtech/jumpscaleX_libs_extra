{
 "cells": [
  {
   "cell_type": "markdown",
   "metadata": {},
   "source": [
    "# TFT Simulation"
   ]
  },
  {
   "cell_type": "code",
   "execution_count": 1,
   "metadata": {},
   "outputs": [
    {
     "data": {
      "text/markdown": [
       "```python\n",
       "params/default.py\n",
       "```"
      ],
      "text/plain": [
       "<IPython.core.display.Markdown object>"
      ]
     },
     "execution_count": 1,
     "metadata": {},
     "output_type": "execute_result"
    }
   ],
   "source": [
    "from lib import *\n",
    "#auto100 for tft growth means that the tft has the same value of 100% of the value of the grid based on 10x margin over 5Y\n",
    "#node_growth=\"0:5,6:150,20:2000\"\n",
    "simulation = j.tools.tfgrid_simulator.simulation_get(\n",
    "            name=\"default\",\n",
    "            tokencreator_name=\"optimized\",\n",
    "            hardware_config_name=\"amd\",\n",
    "            node_growth=\"0:5,6:150,20:2000\",\n",
    "            tft_growth=3,\n",
    "            reload=True,\n",
    "        )\n",
    "server=simulation.environment.node_normalized\n",
    "md_code(\"params/default.py\")"
   ]
  },
  {
   "cell_type": "code",
   "execution_count": 2,
   "metadata": {},
   "outputs": [
    {
     "data": {
      "text/markdown": [
       "\n",
       "## Simulation Arguments \n",
       "\n",
       "- nr of nodes at start: 1500\n",
       "- nr of months left (avg out) for farming of startingnodes: 36\n",
       "- nr of TFT already farmed: 800,000,000 \n",
       "\n"
      ],
      "text/plain": [
       "<IPython.core.display.Markdown object>"
      ]
     },
     "execution_count": 2,
     "metadata": {},
     "output_type": "execute_result"
    }
   ],
   "source": [
    "md(f\"\"\"\n",
    "## Simulation Arguments \n",
    "\n",
    "- nr of nodes at start: {simulation.nodebatches[0].nrnodes}\n",
    "- nr of months left (avg out) for farming of startingnodes: {simulation.nodebatches[0].months_left}\n",
    "- nr of TFT already farmed: { j.data.types.numeric.clean(simulation.nodebatches[0].tft_farmed_before_simulation)} \n",
    "\n",
    "\"\"\")"
   ]
  },
  {
   "cell_type": "markdown",
   "metadata": {},
   "source": [
    "## Device Details"
   ]
  },
  {
   "cell_type": "code",
   "execution_count": 3,
   "metadata": {},
   "outputs": [
    {
     "data": {
      "text/markdown": [
       "\n",
       "### Device Details\n",
       "\n",
       "- nr of TB netto usable = 58.3 TB\n",
       "- nr of cpu cores = 16.0 Cores\n",
       "- power used = 222 watt\n",
       "- performance in passmark = 24479\n",
       "\n"
      ],
      "text/plain": [
       "<IPython.core.display.Markdown object>"
      ]
     },
     "execution_count": 3,
     "metadata": {},
     "output_type": "execute_result"
    }
   ],
   "source": [
    "\n",
    "md(f\"\"\"\n",
    "### Device Details\n",
    "\n",
    "- nr of TB netto usable = {round(server.su,1)} TB\n",
    "- nr of cpu cores = {round(server.cru,1)} Cores\n",
    "- power used = {server.power} watt\n",
    "- performance in passmark = {round(server.cu_passmark*server.cu)}\n",
    "\n",
    "\"\"\")"
   ]
  },
  {
   "cell_type": "markdown",
   "metadata": {},
   "source": [
    "## Growth per month"
   ]
  },
  {
   "cell_type": "code",
   "execution_count": 4,
   "metadata": {},
   "outputs": [
    {
     "data": {
      "application/vnd.jupyter.widget-view+json": {
       "model_id": "90e88ff5f0ce4e1686803967da3dba22",
       "version_major": 2,
       "version_minor": 0
      },
      "text/plain": [
       "FigureWidget({\n",
       "    'data': [{'name': 'new nodes',\n",
       "              'type': 'scatter',\n",
       "              'uid': 'f16d9…"
      ]
     },
     "metadata": {},
     "output_type": "display_data"
    }
   ],
   "source": [
    "simulation.graph_nr_nodes()"
   ]
  },
  {
   "cell_type": "markdown",
   "metadata": {},
   "source": [
    "### Number of racks per month\n"
   ]
  },
  {
   "cell_type": "code",
   "execution_count": 5,
   "metadata": {},
   "outputs": [
    {
     "data": {
      "application/vnd.jupyter.widget-view+json": {
       "model_id": "8d0c849031f946c099aabd5471078150",
       "version_major": 2,
       "version_minor": 0
      },
      "text/plain": [
       "FigureWidget({\n",
       "    'data': [{'type': 'scatter',\n",
       "              'uid': '1c4bdb06-f1ec-4a41-a3fb-0af575c78d67',\n",
       " …"
      ]
     },
     "metadata": {},
     "output_type": "display_data"
    }
   ],
   "source": [
    "x=np.arange(0,60)\n",
    "cells= [int(i/44) for i in simulation.sheet.rows.rackspace_u.cells[0:60]]\n",
    "fig = go.FigureWidget(data=go.Scatter(x=x, y=cells))\n",
    "fig.update_layout(title = 'Racks Occupied per Month',showlegend=False)\n",
    "# fig"
   ]
  },
  {
   "cell_type": "code",
   "execution_count": 6,
   "metadata": {},
   "outputs": [
    {
     "data": {
      "application/vnd.jupyter.widget-view+json": {
       "model_id": "100cc67d661f42c6b748c7298443eeb7",
       "version_major": 2,
       "version_minor": 0
      },
      "text/plain": [
       "FigureWidget({\n",
       "    'data': [{'type': 'scatter',\n",
       "              'uid': 'b022add4-6994-4391-ba1a-c6233e6598b1',\n",
       " …"
      ]
     },
     "metadata": {},
     "output_type": "display_data"
    }
   ],
   "source": [
    "cells= [int(i) for i in simulation.sheet.rows.power_kw.cells[0:60]]\n",
    "fig = go.FigureWidget(data=go.Scatter(x=x, y=cells))\n",
    "fig.update_layout(title = 'Kwatt/h per Month used.',showlegend=False)\n",
    "fig"
   ]
  },
  {
   "cell_type": "markdown",
   "metadata": {},
   "source": [
    "## TFT Growth"
   ]
  },
  {
   "cell_type": "code",
   "execution_count": 7,
   "metadata": {
    "scrolled": true
   },
   "outputs": [],
   "source": [
    "names=[\"farmed\",\"cultivated\",\"sold\",\"burned\",\"farmer_income\"]\n",
    "def do(end):\n",
    "    fig = go.FigureWidget()\n",
    "    title = 'TFT Farmed, Cultivated, Sold, Burned per month, for batch month:%s.'%end\n",
    "    xx=[i for i in range(1,end+1)]\n",
    "    for i in range(5):\n",
    "        name=names[i]\n",
    "        cells=simulation.rows[\"tft_%s\"%name].cells[1:end+1]\n",
    "        fig.add_trace(go.Scatter(x=xx, y=cells,name=name))\n",
    "    fig.update_layout(title = title,showlegend=True)\n",
    "    return fig\n"
   ]
  },
  {
   "cell_type": "code",
   "execution_count": 8,
   "metadata": {},
   "outputs": [
    {
     "data": {
      "application/vnd.jupyter.widget-view+json": {
       "model_id": "d1f37393767049de8389750e44d911d6",
       "version_major": 2,
       "version_minor": 0
      },
      "text/plain": [
       "FigureWidget({\n",
       "    'data': [{'name': 'farmed',\n",
       "              'type': 'scatter',\n",
       "              'uid': '65cf1098…"
      ]
     },
     "metadata": {},
     "output_type": "display_data"
    }
   ],
   "source": [
    "do(12)"
   ]
  },
  {
   "cell_type": "code",
   "execution_count": 9,
   "metadata": {},
   "outputs": [
    {
     "data": {
      "application/vnd.jupyter.widget-view+json": {
       "model_id": "a974f087702b422f8c74589c19d2e955",
       "version_major": 2,
       "version_minor": 0
      },
      "text/plain": [
       "FigureWidget({\n",
       "    'data': [{'name': 'farmed',\n",
       "              'type': 'scatter',\n",
       "              'uid': '56346a82…"
      ]
     },
     "metadata": {},
     "output_type": "display_data"
    }
   ],
   "source": [
    "do(30)"
   ]
  },
  {
   "cell_type": "code",
   "execution_count": 10,
   "metadata": {},
   "outputs": [
    {
     "data": {
      "application/vnd.jupyter.widget-view+json": {
       "model_id": "6eda4512b6fe4d8889e4eb9f024d6124",
       "version_major": 2,
       "version_minor": 0
      },
      "text/plain": [
       "FigureWidget({\n",
       "    'data': [{'name': 'farmed',\n",
       "              'type': 'scatter',\n",
       "              'uid': 'eebe7623…"
      ]
     },
     "metadata": {},
     "output_type": "display_data"
    }
   ],
   "source": [
    "do(60)"
   ]
  },
  {
   "cell_type": "code",
   "execution_count": 11,
   "metadata": {},
   "outputs": [],
   "source": [
    "fig1, fig2, fig3, fig4, fig5, fig6, fig7,fig8=simulation.graph_tft_simulation(show=False);"
   ]
  },
  {
   "cell_type": "code",
   "execution_count": 12,
   "metadata": {
    "slideshow": {
     "slide_type": "skip"
    }
   },
   "outputs": [
    {
     "data": {
      "application/vnd.jupyter.widget-view+json": {
       "model_id": "48dc9f659cc64170a07c6266b49d7dc2",
       "version_major": 2,
       "version_minor": 0
      },
      "text/plain": [
       "FigureWidget({\n",
       "    'data': [{'connectgaps': False,\n",
       "              'name': 'nrnodes_total',\n",
       "              'type'…"
      ]
     },
     "metadata": {},
     "output_type": "display_data"
    }
   ],
   "source": [
    "fig1"
   ]
  },
  {
   "cell_type": "code",
   "execution_count": 13,
   "metadata": {
    "scrolled": true
   },
   "outputs": [
    {
     "data": {
      "application/vnd.jupyter.widget-view+json": {
       "model_id": "27cf765061184623ad48974d81f18c00",
       "version_major": 2,
       "version_minor": 0
      },
      "text/plain": [
       "FigureWidget({\n",
       "    'data': [{'connectgaps': False,\n",
       "              'name': 'tft_farmed',\n",
       "              'type': '…"
      ]
     },
     "metadata": {},
     "output_type": "display_data"
    }
   ],
   "source": [
    "fig2"
   ]
  },
  {
   "cell_type": "code",
   "execution_count": 14,
   "metadata": {
    "scrolled": true
   },
   "outputs": [
    {
     "data": {
      "application/vnd.jupyter.widget-view+json": {
       "model_id": "4c3f12d19bfe4a86bed04df0e0f7f08e",
       "version_major": 2,
       "version_minor": 0
      },
      "text/plain": [
       "FigureWidget({\n",
       "    'data': [{'connectgaps': False,\n",
       "              'name': 'tft_marketcap',\n",
       "              'type'…"
      ]
     },
     "metadata": {},
     "output_type": "display_data"
    }
   ],
   "source": [
    "fig8"
   ]
  },
  {
   "cell_type": "code",
   "execution_count": 15,
   "metadata": {},
   "outputs": [
    {
     "data": {
      "application/vnd.jupyter.widget-view+json": {
       "model_id": "9af538308364442cabd1a3bba9e3de93",
       "version_major": 2,
       "version_minor": 0
      },
      "text/plain": [
       "FigureWidget({\n",
       "    'data': [{'connectgaps': False,\n",
       "              'name': 'tft_farmed_cumul',\n",
       "              'ty…"
      ]
     },
     "metadata": {},
     "output_type": "display_data"
    }
   ],
   "source": [
    "fig3"
   ]
  },
  {
   "cell_type": "code",
   "execution_count": 16,
   "metadata": {},
   "outputs": [
    {
     "data": {
      "application/vnd.jupyter.widget-view+json": {
       "model_id": "d9b47ef61487485fadb8764f721e43c6",
       "version_major": 2,
       "version_minor": 0
      },
      "text/plain": [
       "FigureWidget({\n",
       "    'data': [{'connectgaps': False,\n",
       "              'name': 'USD',\n",
       "              'type': 'scatter…"
      ]
     },
     "metadata": {},
     "output_type": "display_data"
    }
   ],
   "source": [
    "fig4\n"
   ]
  },
  {
   "cell_type": "code",
   "execution_count": 17,
   "metadata": {},
   "outputs": [
    {
     "data": {
      "application/vnd.jupyter.widget-view+json": {
       "model_id": "3f542802052a4bf5a74515325af881bb",
       "version_major": 2,
       "version_minor": 0
      },
      "text/plain": [
       "FigureWidget({\n",
       "    'data': [{'connectgaps': False,\n",
       "              'name': 'multiple',\n",
       "              'type': 'sc…"
      ]
     },
     "metadata": {},
     "output_type": "display_data"
    }
   ],
   "source": [
    "fig5"
   ]
  },
  {
   "cell_type": "code",
   "execution_count": 18,
   "metadata": {},
   "outputs": [
    {
     "data": {
      "application/vnd.jupyter.widget-view+json": {
       "model_id": "ffa4925714a8414c88c4fa6178b22ddc",
       "version_major": 2,
       "version_minor": 0
      },
      "text/plain": [
       "FigureWidget({\n",
       "    'data': [{'connectgaps': False,\n",
       "              'name': 'USD',\n",
       "              'type': 'scatter…"
      ]
     },
     "metadata": {},
     "output_type": "display_data"
    }
   ],
   "source": [
    "fig6"
   ]
  },
  {
   "cell_type": "code",
   "execution_count": 19,
   "metadata": {},
   "outputs": [
    {
     "data": {
      "application/vnd.jupyter.widget-view+json": {
       "model_id": "06566ac49cd044fe8e8d9abacd27abed",
       "version_major": 2,
       "version_minor": 0
      },
      "text/plain": [
       "FigureWidget({\n",
       "    'data': [{'connectgaps': False,\n",
       "              'name': 'multiple',\n",
       "              'type': 'sc…"
      ]
     },
     "metadata": {},
     "output_type": "display_data"
    }
   ],
   "source": [
    "fig7"
   ]
  },
  {
   "cell_type": "markdown",
   "metadata": {},
   "source": [
    "## Token price per month\n"
   ]
  },
  {
   "cell_type": "code",
   "execution_count": 20,
   "metadata": {},
   "outputs": [
    {
     "data": {
      "application/vnd.jupyter.widget-view+json": {
       "model_id": "d8ec07aae0f8466fa8a1769dcdacd8e8",
       "version_major": 2,
       "version_minor": 0
      },
      "text/plain": [
       "FigureWidget({\n",
       "    'data': [{'type': 'scatter',\n",
       "              'uid': '2432d63b-2d91-4665-88be-7d6297eebd45',\n",
       " …"
      ]
     },
     "metadata": {},
     "output_type": "display_data"
    }
   ],
   "source": [
    "simulation.graph_token_price()\n"
   ]
  },
  {
   "cell_type": "code",
   "execution_count": 21,
   "metadata": {},
   "outputs": [],
   "source": [
    "# %qtconsole"
   ]
  }
 ],
 "metadata": {
  "kernelspec": {
   "display_name": "Python 3",
   "language": "python",
   "name": "python3"
  },
  "language_info": {
   "codemirror_mode": {
    "name": "ipython",
    "version": 3
   },
   "file_extension": ".py",
   "mimetype": "text/x-python",
   "name": "python",
   "nbconvert_exporter": "python",
   "pygments_lexer": "ipython3",
   "version": "3.7.5"
  }
 },
 "nbformat": 4,
 "nbformat_minor": 4
}
