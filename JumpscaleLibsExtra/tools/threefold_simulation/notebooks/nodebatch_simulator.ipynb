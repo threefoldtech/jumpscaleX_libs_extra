{
 "cells": [
  {
   "cell_type": "markdown",
   "metadata": {},
   "source": [
    "# Simulation Normalized Node Batch\n"
   ]
  },
  {
   "cell_type": "markdown",
   "metadata": {},
   "source": [
    "## input arguments"
   ]
  },
  {
   "cell_type": "code",
   "execution_count": 1,
   "metadata": {},
   "outputs": [],
   "source": [
    "#will also do the simulation calculation, takes time\n",
    "from params.default import *\n",
    "server=environment.node_normalized\n",
    "md_code(\"params/default.py\")\n",
    "startmonth = 10"
   ]
  },
  {
   "cell_type": "markdown",
   "metadata": {},
   "source": [
    "- To change token creation params [params.py](/edit/params/params.py)\n",
    "- To edit arguments for simulation open [params_environment.py](/edit/params/params_environment.py)\n",
    "- To edit token creation open [token_creators](/tree/token_creators)"
   ]
  },
  {
   "cell_type": "markdown",
   "metadata": {},
   "source": [
    "## Node Overview (= 1 server)"
   ]
  },
  {
   "cell_type": "code",
   "execution_count": 12,
   "metadata": {},
   "outputs": [
    {
     "data": {
      "text/plain": [
       "\u001b[0;0m\n",
       "\u001b[0;33m## threefold.simulation.device\n",
       "\u001b[0;0m - \u001b[0;33mname                : server\n",
       "\u001b[0;0m - description         : \n",
       " - device_template_name: server\n",
       " - cost                : 4,577\n",
       " - power               : 232\n",
       " - rackspace_u         : 2\n",
       " - cru                 : 16\n",
       " - sru                 : 1000\n",
       " - hru                 : 60000\n",
       " - mru                 : 128\n",
       " - su                  : 58\n",
       " - cu                  : 31\n",
       " - cu_passmark         : 771\n",
       " - su_perc             : 62.95%\n",
       " - cu_perc             : 37.05%\n",
       " - cpr                 : 105\n",
       " - cost_su_capex       : 49.39430729799001\n",
       " - cost_cu_capex       : 53.448870216461756\n",
       " - cost_power          : 25.056\n",
       " - cost_rack           : 25.2\n",
       " - cost_month          : 126.53933333333335\n",
       " - cost_cu_month       : 1.4776894045468487\n",
       " - cost_su_month       : 1.3655937766985924\n",
       "\u001b[0;0m"
      ]
     },
     "execution_count": 12,
     "metadata": {},
     "output_type": "execute_result"
    }
   ],
   "source": [
    "server"
   ]
  },
  {
   "cell_type": "code",
   "execution_count": 3,
   "metadata": {},
   "outputs": [
    {
     "data": {
      "text/markdown": [
       "\n",
       "### Device Details\n",
       "\n",
       "- nr of TB netto usable = 58.3 TB\n",
       "- nr of cpu cores = 16.0 Cores\n",
       "- power used = 232 watt\n",
       "- performance in passmark = 24460\n",
       "\n"
      ],
      "text/plain": [
       "<IPython.core.display.Markdown object>"
      ]
     },
     "execution_count": 3,
     "metadata": {},
     "output_type": "execute_result"
    }
   ],
   "source": [
    "md(f\"\"\"\n",
    "### Device Details\n",
    "\n",
    "- nr of TB netto usable = {round(server.su,1)} TB\n",
    "- nr of cpu cores = {round(server.cru,1)} Cores\n",
    "- power used = {server.power} watt\n",
    "- performance in passmark = {round(server.cu_passmark*server.cu)}\n",
    "\n",
    "\"\"\")"
   ]
  },
  {
   "cell_type": "code",
   "execution_count": 4,
   "metadata": {},
   "outputs": [
    {
     "data": {
      "text/markdown": [
       "## Simulate Return of 20 Nodes starting at month 10"
      ],
      "text/plain": [
       "<IPython.core.display.Markdown object>"
      ]
     },
     "execution_count": 4,
     "metadata": {},
     "output_type": "execute_result"
    }
   ],
   "source": [
    "md(f\"## Simulate Return of 20 Nodes starting at month {startmonth}\")"
   ]
  },
  {
   "cell_type": "code",
   "execution_count": 5,
   "metadata": {},
   "outputs": [
    {
     "data": {
      "text/plain": [
       "\u001b[0;33m## threefold.simulation.nodesbatch\n",
       "\u001b[0;0m - \u001b[0;33mname                : default\n",
       "\u001b[0;0m - batch_nr            : 10\n",
       " - nrnodes             : 716\n",
       " - month_start         : 10\n",
       " - months_left         : 60\n",
       " - tft_farmed_before_simulation: 0\n",
       "\n",
       "    \u001b[0;33m## threefold.simulation.nodesbatch.node\n",
       "    \u001b[0;0m - rackspace_u         : 2\n",
       "     - cost_hardware       : 4,577\n",
       "     - cpr                 : 112\n",
       "     - power               : 232\n",
       "    \u001b[0;0m\n",
       "\n",
       " - simulated_months    : []\n",
       "\u001b[0;0m"
      ]
     },
     "execution_count": 5,
     "metadata": {},
     "output_type": "execute_result"
    }
   ],
   "source": [
    "nb=simulation.nodesbatch_get(startmonth)\n",
    "nb.simulated_months=[]\n",
    "nb._data"
   ]
  },
  {
   "cell_type": "code",
   "execution_count": 6,
   "metadata": {},
   "outputs": [
    {
     "data": {
      "text/markdown": [
       "\n",
       "- Hardware Investment Cost for the node batch : USD 3,277,132\n",
       "- ROI In Months                 : 11\n"
      ],
      "text/plain": [
       "<IPython.core.display.Markdown object>"
      ]
     },
     "execution_count": 6,
     "metadata": {},
     "output_type": "execute_result"
    }
   ],
   "source": [
    "md(f\"\"\"\n",
    "- Hardware Investment Cost for the node batch : USD {nb.cost_hardware}\n",
    "- ROI In Months                 : {nb.roi_months}\n",
    "\"\"\")"
   ]
  },
  {
   "cell_type": "code",
   "execution_count": 7,
   "metadata": {},
   "outputs": [
    {
     "data": {
      "application/vnd.jupyter.widget-view+json": {
       "model_id": "6cbd4a2c671a48dcb5640aefab4aed58",
       "version_major": 2,
       "version_minor": 0
      },
      "text/plain": [
       "FigureWidget({\n",
       "    'data': [{'name': 'farmed',\n",
       "              'type': 'scatter',\n",
       "              'uid': '48c12f9c…"
      ]
     },
     "metadata": {},
     "output_type": "display_data"
    }
   ],
   "source": [
    "nb.graph_tft(single=True)"
   ]
  },
  {
   "cell_type": "code",
   "execution_count": 8,
   "metadata": {},
   "outputs": [
    {
     "data": {
      "application/vnd.jupyter.widget-view+json": {
       "model_id": "b17fd508dc4241709a36097a0ee417a0",
       "version_major": 2,
       "version_minor": 0
      },
      "text/plain": [
       "FigureWidget({\n",
       "    'data': [{'connectgaps': False,\n",
       "              'name': 'farmed',\n",
       "              'type': 'scat…"
      ]
     },
     "metadata": {},
     "output_type": "display_data"
    }
   ],
   "source": [
    "nb.graph_usd(single=True)"
   ]
  },
  {
   "cell_type": "code",
   "execution_count": 9,
   "metadata": {},
   "outputs": [
    {
     "data": {
      "application/vnd.jupyter.widget-view+json": {
       "model_id": "d719f5d142af42fcae089d118e883522",
       "version_major": 2,
       "version_minor": 0
      },
      "text/plain": [
       "FigureWidget({\n",
       "    'data': [{'connectgaps': False,\n",
       "              'name': 'farmed',\n",
       "              'type': 'scat…"
      ]
     },
     "metadata": {},
     "output_type": "display_data"
    }
   ],
   "source": [
    "nb.graph_usd(single=True,cumul=True)"
   ]
  },
  {
   "cell_type": "code",
   "execution_count": 10,
   "metadata": {},
   "outputs": [
    {
     "data": {
      "text/markdown": [
       "\n",
       "- The Return On investment is compared to cost to buy all the hardware.\n",
       "- The costs of the rackspace and power have been paid with income of TFT, so its the net result which is shown.\n",
       "- ROI is in **11** months (starting month:10).\n",
       "- the ROI after 60 months' is:  **16.0**\n"
      ],
      "text/plain": [
       "<IPython.core.display.Markdown object>"
      ]
     },
     "execution_count": 10,
     "metadata": {},
     "output_type": "execute_result"
    }
   ],
   "source": [
    "\n",
    "md(f\"\"\"\n",
    "- The Return On investment is compared to cost to buy all the hardware.\n",
    "- The costs of the rackspace and power have been paid with income of TFT, so its the net result which is shown.\n",
    "- ROI is in **{nb.roi_months}** months (starting month:{startmonth}).\n",
    "- the ROI after 60 months' is:  **{round(nb.roi_end,1)}**\n",
    "\"\"\")"
   ]
  },
  {
   "cell_type": "code",
   "execution_count": 11,
   "metadata": {},
   "outputs": [
    {
     "data": {
      "application/vnd.jupyter.widget-view+json": {
       "model_id": "18f353853c994a278786dd7767ce4bcb",
       "version_major": 2,
       "version_minor": 0
      },
      "text/plain": [
       "FigureWidget({\n",
       "    'data': [{'connectgaps': False,\n",
       "              'name': 'batch_1',\n",
       "              'type': 'sca…"
      ]
     },
     "metadata": {},
     "output_type": "display_data"
    }
   ],
   "source": [
    "simulation.graph_nodesbatches_usd_simulation()"
   ]
  }
 ],
 "metadata": {
  "kernelspec": {
   "display_name": "Python 3",
   "language": "python",
   "name": "python3"
  },
  "language_info": {
   "codemirror_mode": {
    "name": "ipython",
    "version": 3
   },
   "file_extension": ".py",
   "mimetype": "text/x-python",
   "name": "python",
   "nbconvert_exporter": "python",
   "pygments_lexer": "ipython3",
   "version": "3.7.5"
  }
 },
 "nbformat": 4,
 "nbformat_minor": 4
}
