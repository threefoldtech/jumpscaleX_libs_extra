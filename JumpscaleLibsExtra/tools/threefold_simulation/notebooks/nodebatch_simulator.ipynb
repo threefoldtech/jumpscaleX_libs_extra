{
 "cells": [
  {
   "cell_type": "markdown",
   "metadata": {},
   "source": [
    "# Simulation Normalized Node Batch\n"
   ]
  },
  {
   "cell_type": "markdown",
   "metadata": {},
   "source": [
    "## input arguments"
   ]
  },
  {
   "cell_type": "code",
   "execution_count": 1,
   "metadata": {},
   "outputs": [],
   "source": [
    "# will also do the simulation calculation, takes time\n",
    "from lib import *\n",
    "#auto100 for tft growth means that the tft has the same value of 100% of the value of the grid based on 10x margin over 5Y\n",
    "#node_growth=\"0:5,6:150,20:2000\"\n",
    "simulation = j.tools.tfgrid_simulator.simulation_get(\n",
    "            name=\"default\",\n",
    "            tokencreator_name=\"optimized\",\n",
    "            hardware_config_name=\"amd\",\n",
    "#             node_growth=\"0:5,6:150,20:2000\",\n",
    "#             tft_growth=0.3,\n",
    "            reload=True,\n",
    "        )\n",
    "node_normalized=simulation.environment.node_normalized\n",
    "md_code(\"params/default.py\")\n",
    "\n",
    "#month = 0 means the first month, calculation starts at 0\n",
    "startmonth = 1"
   ]
  },
  {
   "cell_type": "markdown",
   "metadata": {},
   "source": [
    "- To change token creation params [default.py](/edit/params/default.py)\n",
    "- To edit token creation open [token_creators](/tree/token_creators)"
   ]
  },
  {
   "cell_type": "markdown",
   "metadata": {},
   "source": [
    "## Node Overview (= 1 server)"
   ]
  },
  {
   "cell_type": "code",
   "execution_count": 2,
   "metadata": {},
   "outputs": [
    {
     "data": {
      "text/plain": [
       "\u001b[0;0m\n",
       "\u001b[0;33m## threefold.simulation.device\n",
       "\u001b[0;0m - \u001b[0;33mname                : normalized_device_amd\n",
       "\u001b[0;0m - description         : \n",
       " - device_template_name: \n",
       " - cost                : 4,577\n",
       " - power               : 232\n",
       " - rackspace_u         : 2\n",
       " - cru                 : 16\n",
       " - sru                 : 1000\n",
       " - hru                 : 60000\n",
       " - mru                 : 128\n",
       " - su                  : 58\n",
       " - cu                  : 31\n",
       " - cu_passmark         : 771\n",
       " - su_perc             : 62.95%\n",
       " - cu_perc             : 37.05%\n",
       " - cpr                 : 105\n",
       " - cost_su_capex       : 49.4\n",
       " - cost_cu_capex       : 53.4\n",
       " - cost_power          : 25.1\n",
       " - cost_rack           : 25.2\n",
       " - cost_month          : 126\n",
       " - cost_cu_month       : 1.4765258695826384\n",
       " - cost_su_month       : 1.3655937766985924\n",
       "\u001b[0;0m"
      ]
     },
     "execution_count": 2,
     "metadata": {},
     "output_type": "execute_result"
    }
   ],
   "source": [
    "node_normalized"
   ]
  },
  {
   "cell_type": "code",
   "execution_count": 3,
   "metadata": {},
   "outputs": [
    {
     "data": {
      "text/markdown": [
       "\n",
       "### Normalized Node Details\n",
       "\n",
       "Is the average node in your environment (even if your environment is a mix of different hardware types.)\n",
       "\n",
       "- nr of TB netto usable = 58.3 TB\n",
       "- nr of cpu cores = 16.0 Cores\n",
       "- power used = 232 watt\n",
       "- performance in passmark for node = 24479\n",
       "- performance in passmark per compute unit = 771\n",
       "- cpr of the node = 105\n",
       "\n"
      ],
      "text/plain": [
       "<IPython.core.display.Markdown object>"
      ]
     },
     "execution_count": 3,
     "metadata": {},
     "output_type": "execute_result"
    }
   ],
   "source": [
    "md(f\"\"\"\n",
    "### Normalized Node Details\n",
    "\n",
    "Is the average node in your environment (even if your environment is a mix of different hardware types.)\n",
    "\n",
    "- nr of TB netto usable = {round(node_normalized.su,1)} TB\n",
    "- nr of cpu cores = {round(node_normalized.cru,1)} Cores\n",
    "- power used = {node_normalized.power} watt\n",
    "- performance in passmark for node = {round(node_normalized.cu_passmark*node_normalized.cu)}\n",
    "- performance in passmark per compute unit = {round(node_normalized.cu_passmark,0)}\n",
    "- cpr of the node = {round(node_normalized.cpr,0)}\n",
    "\n",
    "\"\"\")"
   ]
  },
  {
   "cell_type": "markdown",
   "metadata": {},
   "source": [
    "cpr of a device =  stands for cloud production rate, is like a hashrate of a box\n",
    "\n",
    "```cpr = (nr compute units * 1.5 + nr storage units)```\n"
   ]
  },
  {
   "cell_type": "code",
   "execution_count": 4,
   "metadata": {},
   "outputs": [
    {
     "data": {
      "text/markdown": [
       "## Simulate Return of 20 Nodes starting at month 1"
      ],
      "text/plain": [
       "<IPython.core.display.Markdown object>"
      ]
     },
     "execution_count": 4,
     "metadata": {},
     "output_type": "execute_result"
    }
   ],
   "source": [
    "md(f\"## Simulate Return of 20 Nodes starting at month {startmonth}\")"
   ]
  },
  {
   "cell_type": "code",
   "execution_count": 16,
   "metadata": {},
   "outputs": [
    {
     "data": {
      "text/plain": [
       "\u001b[0;0m\n",
       "\u001b[0;33m## threefold.simulation.nodesbatch\n",
       "\u001b[0;0m - \u001b[0;33mname                : month_1\n",
       "\u001b[0;0m - batch_nr            : 1\n",
       " - nrnodes             : 29\n",
       " - month_start         : 1\n",
       " - months_left         : 60\n",
       " - tft_farmed_before_simulation: 0\n",
       "\n",
       "    \u001b[0;33m## threefold.simulation.nodesbatch.node\n",
       "    \u001b[0;0m - rackspace_u         : 2\n",
       "     - cost_hardware       : 4,577\n",
       "     - cpr                 : 96\n",
       "     - power               : 232\n",
       "    \u001b[0;0m\n",
       "\n",
       " - simulated_months    : []\n",
       "\u001b[0;0m\n",
       " - cost_hardware               |  2,212|  2,212|  2,212|  2,212|  2,212|  2,212|  2,212|  2,212|  2,212|  2,212|  2,212\n",
       " - cost_maintenance            |    442|    442|    442|    442|    442|    442|    442|    442|    442|    442|    442\n",
       " - cost_power                  |     34|     69|    104|    139|    174|    209|    244|    279|    313|    348|    383\n",
       " - cost_rackspace              |    730|    730|    730|    730|    730|    730|    730|    730|    730|    730|    730\n",
       " - power                       |    322|    645|    968|  1,291|  1,614|  1,937|  2,260|  2,583|  2,906|  3,229|  3,552\n",
       " - rackspace_u                 |     60|     60|     60|     60|     60|     60|     60|     60|     60|     60|     60\n",
       " - roi                         |   0.01|   0.05|    0.1|   0.17|   0.24|   0.32|   0.41|   0.49|   0.59|    0.7|   0.81\n",
       " - tft_burned                  | -1,150| -1,829| -2,349| -2,655| -2,874| -3,038| -3,162| -3,320| -3,391| -3,447| -3,492\n",
       " - tft_cultivated              |  1,438|  2,286|  2,937|  3,318|  3,593|  3,797|  3,953|   4.2k|   4.2k|   4.3k|   4.4k\n",
       " - tft_farmed                  |   9.4k|    24k|    21k|    18k|    16k|    14k|    12k|    11k|    10k|   9.9k|   9.2k\n",
       " - tft_farmer_income           |   4.8k|    22k|    20k|    17k|    16k|    14k|    13k|    13k|    12k|    11k|    11k\n",
       " - tft_farmer_income_cumul     |   4.8k|    27k|    47k|    64k|    81k|    96k|   109k|   123k|   135k|   147k|   158k\n",
       " - tft_farmer_income_cumul_usd |    954|   6.8k|    13k|    22k|    31k|    42k|    53k|    65k|    78k|    92k|   107k\n",
       " - tft_movement_usd            |    954|   5.6k|   5.8k|   6.1k|   6.3k|   6.5k|   6.8k|   7.0k|   7.2k|   7.4k|   7.7k\n",
       " - tft_sold                    |  -6.0k|  -5.0k|  -4.4k| -3,861| -3,455| -3,142| -2,892| -2,740| -2,564| -2,415| -2,289"
      ]
     },
     "execution_count": 16,
     "metadata": {},
     "output_type": "execute_result"
    }
   ],
   "source": [
    "nb=simulation.nodesbatch_get(startmonth)\n",
    "nb.simulated_months=[]\n",
    "nb\n"
   ]
  },
  {
   "cell_type": "code",
   "execution_count": 6,
   "metadata": {},
   "outputs": [
    {
     "data": {
      "text/markdown": [
       "\n",
       "- Hardware Investment Cost for the node batch : USD 132,733\n",
       "- ROI In Months                 : 13\n"
      ],
      "text/plain": [
       "<IPython.core.display.Markdown object>"
      ]
     },
     "execution_count": 6,
     "metadata": {},
     "output_type": "execute_result"
    }
   ],
   "source": [
    "md(f\"\"\"\n",
    "- Hardware Investment Cost for the node batch : USD {nb.cost_hardware}\n",
    "- ROI In Months                 : {nb.roi_months}\n",
    "\"\"\")"
   ]
  },
  {
   "cell_type": "code",
   "execution_count": 7,
   "metadata": {},
   "outputs": [
    {
     "data": {
      "text/plain": [
       "\u001b[0;0m\n",
       "\u001b[0;33m## threefold.simulation.device\n",
       "\u001b[0;0m - \u001b[0;33mname                : normalized_device_amd\n",
       "\u001b[0;0m - description         : \n",
       " - device_template_name: \n",
       " - cost                : 4,577\n",
       " - power               : 232\n",
       " - rackspace_u         : 2\n",
       " - cru                 : 16\n",
       " - sru                 : 1000\n",
       " - hru                 : 60000\n",
       " - mru                 : 128\n",
       " - su                  : 58\n",
       " - cu                  : 31\n",
       " - cu_passmark         : 771\n",
       " - su_perc             : 62.95%\n",
       " - cu_perc             : 37.05%\n",
       " - cpr                 : 105\n",
       " - cost_su_capex       : 49.4\n",
       " - cost_cu_capex       : 53.4\n",
       " - cost_power          : 25.1\n",
       " - cost_rack           : 25.2\n",
       " - cost_month          : 126\n",
       " - cost_cu_month       : 1.4765258695826384\n",
       " - cost_su_month       : 1.3655937766985924\n",
       "\u001b[0;0m"
      ]
     },
     "execution_count": 7,
     "metadata": {},
     "output_type": "execute_result"
    }
   ],
   "source": [
    "simulation.environment.node_normalized"
   ]
  },
  {
   "cell_type": "code",
   "execution_count": 8,
   "metadata": {},
   "outputs": [
    {
     "data": {
      "application/vnd.jupyter.widget-view+json": {
       "model_id": "20b87bab1fd64267806826cce59dd376",
       "version_major": 2,
       "version_minor": 0
      },
      "text/plain": [
       "FigureWidget({\n",
       "    'data': [{'name': 'farmed',\n",
       "              'type': 'scatter',\n",
       "              'uid': '7391fe87…"
      ]
     },
     "metadata": {},
     "output_type": "display_data"
    }
   ],
   "source": [
    "nb.graph_tft(single=True)"
   ]
  },
  {
   "cell_type": "code",
   "execution_count": 9,
   "metadata": {},
   "outputs": [
    {
     "data": {
      "application/vnd.jupyter.widget-view+json": {
       "model_id": "95d0ccb47261464f84c46d1ece1ceddc",
       "version_major": 2,
       "version_minor": 0
      },
      "text/plain": [
       "FigureWidget({\n",
       "    'data': [{'connectgaps': False,\n",
       "              'name': 'farmed',\n",
       "              'type': 'scat…"
      ]
     },
     "metadata": {},
     "output_type": "display_data"
    }
   ],
   "source": [
    "nb.graph_usd(single=True)"
   ]
  },
  {
   "cell_type": "code",
   "execution_count": 10,
   "metadata": {},
   "outputs": [
    {
     "data": {
      "application/vnd.jupyter.widget-view+json": {
       "model_id": "cb3bac0c9444417f8f83c6b37941d6d9",
       "version_major": 2,
       "version_minor": 0
      },
      "text/plain": [
       "FigureWidget({\n",
       "    'data': [{'connectgaps': False,\n",
       "              'name': 'farmed',\n",
       "              'type': 'scat…"
      ]
     },
     "metadata": {},
     "output_type": "display_data"
    }
   ],
   "source": [
    "nb.graph_usd(single=True,cumul=True)"
   ]
  },
  {
   "cell_type": "code",
   "execution_count": 11,
   "metadata": {},
   "outputs": [
    {
     "data": {
      "text/markdown": [
       "\n",
       "- The Return On investment is compared to cost to buy all the hardware.\n",
       "- The costs of the rackspace and power have been paid with income of TFT, so its the net result which is shown.\n",
       "- ROI is in **13** months (starting month:1).\n",
       "- the ROI after 60 months' is:  **9.5**\n"
      ],
      "text/plain": [
       "<IPython.core.display.Markdown object>"
      ]
     },
     "execution_count": 11,
     "metadata": {},
     "output_type": "execute_result"
    }
   ],
   "source": [
    "\n",
    "md(f\"\"\"\n",
    "- The Return On investment is compared to cost to buy all the hardware.\n",
    "- The costs of the rackspace and power have been paid with income of TFT, so its the net result which is shown.\n",
    "- ROI is in **{nb.roi_months}** months (starting month:{startmonth}).\n",
    "- the ROI after 60 months' is:  **{round(nb.roi_end,1)}**\n",
    "\"\"\")"
   ]
  },
  {
   "cell_type": "code",
   "execution_count": 12,
   "metadata": {},
   "outputs": [
    {
     "data": {
      "application/vnd.jupyter.widget-view+json": {
       "model_id": "5b5fef7a7f184051a530bb16a16fdc64",
       "version_major": 2,
       "version_minor": 0
      },
      "text/plain": [
       "FigureWidget({\n",
       "    'data': [{'connectgaps': False,\n",
       "              'name': 'batch_1',\n",
       "              'type': 'sca…"
      ]
     },
     "metadata": {},
     "output_type": "display_data"
    }
   ],
   "source": [
    "simulation.graph_nodesbatches_usd_simulation()"
   ]
  },
  {
   "cell_type": "code",
   "execution_count": 17,
   "metadata": {},
   "outputs": [
    {
     "data": {
      "text/plain": [
       "\u001b[0;0m\n",
       "\u001b[0;33m## threefold.simulation\n",
       "\u001b[0;0m - \u001b[0;33mname                : default\n",
       "\u001b[0;0m - cpr_sum             : 0\n",
       " - tft_sum             : 0\n",
       " - simulated           : False\n",
       " - sales_price_cu      : 8\n",
       " - sales_price_su      : 5\n",
       " - sales_price_nu      : 0\n",
       "\u001b[0;0m\n",
       " - cost_hardware                          114k|  116k|   120k|   126k|   134k|   143k|   155k|   177k|   210k|   254k|   308k|   374k\n",
       " - cost_maintenance                        22k|   23k|    24k|    25k|    26k|    28k|    31k|    35k|    42k|    50k|    61k|    74k\n",
       " - cost_power                                 | 1,838|  3,805|   6.0k|   8.5k|    11k|    14k|    19k|    26k|    36k|    48k|    64k\n",
       " - cost_power_kwh                         0.15|  0.15|   0.15|   0.15|   0.15|   0.15|   0.15|   0.15|   0.15|   0.15|   0.15|   0.15\n",
       " - cost_rack_unit                           12|    12|     12|     12|     12|     12|     12|     12|     12|     12|     12|     12\n",
       " - cost_rackspace                          37k|   38k|    39k|    41k|    44k|    47k|    51k|    58k|    69k|    84k|   102k|   123k\n",
       " - cpr_improve                                |  0.67|    1.3|      2|    2.7|    3.3|      4|    4.7|    5.3|      6|    6.7|    7.3\n",
       " - cpr_sales_price_decline                    |  0.67|    1.3|      2|    2.7|    3.3|      4|    4.7|    5.3|      6|    6.7|    7.3\n",
       " - grid_valuation_margin_usd               74m|   75m|    77m|    80m|    84m|    89m|    96m|   109m|   128m|   153m|   185m|   222m\n",
       " - grid_valuation_rev_usd                  48m|   49m|    50m|    52m|    55m|    59m|    63m|    72m|    85m|   102m|   123m|   148m\n",
       " - investment                             6.9m|  7.0m|   7.2m|   7.6m|   8.1m|   8.6m|   9.3m|    10m|    12m|    15m|    18m|    22m\n",
       " - nrnodes_new                               5|    29|     53|     77|    101|    125|    150|    291|    433|    575|    716|    858\n",
       " - nrnodes_total                         1,500| 1,529|  1,582|  1,660|  1,761|  1,887|  2,037|  2,329|  2,762|  3,337|   4.1k|   4.9k\n",
       " - power_kw                                   |    17|     35|     55|     78|    104|    135|    181|    245|    334|    451|    601\n",
       " - rackspace_u                           3,150| 3,210|  3,322|  3,483|  3,696|  3,958|   4.3k|   4.9k|   5.8k|   7.0k|   8.5k|    10k\n",
       " - revenue                                    |   15k|    30k|    48k|    68k|    90k|   117k|   156k|   211k|   288k|   389k|   519k\n",
       " - tft_burned                                 |  -60k|   -99k|  -133k|  -160k|  -186k|  -213k|  -255k|  -319k|  -397k|  -494k|  -610k\n",
       " - tft_calculated_based_margin_valuation  0.62|  0.47|   0.38|   0.34|   0.31|   0.28|   0.27|   0.27|    0.3|   0.32|   0.36|    0.4\n",
       " - tft_calculated_based_rev_valuation      0.4|  0.31|   0.25|   0.22|    0.2|   0.19|   0.18|   0.18|    0.2|   0.22|   0.24|   0.27\n",
       " - tft_cultivated                             |   75k|   123k|   167k|   200k|   233k|   266k|   318k|   399k|   496k|   617k|   763k\n",
       " - tft_farmed                             806m|  490k| 1,355k| 1,226k| 1,111k| 1,039k|   997k| 1,028k| 1,135k| 1,262k| 1,421k| 1,606k\n",
       " - tft_farmed_cumul                       806m|  806m|   808m|   809m|   810m|   811m|   812m|   813m|   814m|   816m|   817m|   819m\n",
       " - tft_farmer_income                      806m|  247k| 1,207k| 1,141k| 1,077k| 1,048k| 1,043k| 1,115k| 1,274k| 1,464k| 1,701k| 1,982k\n",
       " - tft_farmer_income_cumul                806m|  806m|   807m|   808m|   809m|   810m|   811m|   813m|   814m|   816m|   817m|   819m\n",
       " - tft_farmer_income_cumul_usd            120m|  161m|   201m|   234m|   275m|   316m|   357m|   398m|   431m|   473m|   515m|   557m\n",
       " - tft_marketcap                          120m|  161m|   202m|   234m|   275m|   316m|   357m|   398m|   431m|   473m|   515m|   556m\n",
       " - tft_movement_usd                       120m|   49k|   301k|   330k|   366k|   408k|   459k|   546k|   675k|   849k| 1,072k| 1,348k\n",
       " - tft_sold                              -404k| -318k|  -271k|  -252k|  -234k|  -224k|  -220k|  -232k|  -260k|  -294k|  -337k|  -387k\n",
       " - tokenprice                             0.15|   0.2|   0.25|   0.29|   0.34|   0.39|   0.44|   0.49|   0.53|   0.58|   0.63|   0.68\n",
       " - utilization                                |     4|      8|     12|     16|     20|     24|     28|     32|     36|     40|     44\n",
       " - tft_sum              0"
      ]
     },
     "execution_count": 17,
     "metadata": {},
     "output_type": "execute_result"
    }
   ],
   "source": [
    "simulation"
   ]
  },
  {
   "cell_type": "code",
   "execution_count": null,
   "metadata": {},
   "outputs": [],
   "source": []
  }
 ],
 "metadata": {
  "kernelspec": {
   "display_name": "Python 3",
   "language": "python",
   "name": "python3"
  },
  "language_info": {
   "codemirror_mode": {
    "name": "ipython",
    "version": 3
   },
   "file_extension": ".py",
   "mimetype": "text/x-python",
   "name": "python",
   "nbconvert_exporter": "python",
   "pygments_lexer": "ipython3",
   "version": "3.7.5"
  }
 },
 "nbformat": 4,
 "nbformat_minor": 4
}
