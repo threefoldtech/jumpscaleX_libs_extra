{
 "cells": [
  {
   "cell_type": "markdown",
   "metadata": {},
   "source": [
    "# Simulation Normalized Node Batch\n"
   ]
  },
  {
   "cell_type": "markdown",
   "metadata": {},
   "source": [
    "## input arguments"
   ]
  },
  {
   "cell_type": "markdown",
   "metadata": {},
   "source": [
    "# will also do the simulation calculation, takes time\n",
    "from lib import *\n",
    "simulation = j.tools.tfgrid_simulator.simulation_get(\n",
    "            name=\"default\",\n",
    "            tokencreator_name=\"optimized\",\n",
    "            bom_name=\"amd\",\n",
    "            node_growth=None,\n",
    "            tft_growth=None,\n",
    "            reload=True,\n",
    "        )\n",
    "server=simulation.environment.node_normalized\n",
    "md_code(\"params/default.py\")\n",
    "startmonth = 1"
   ]
  },
  {
   "cell_type": "markdown",
   "metadata": {},
   "source": [
    "- To change token creation params [default.py](/edit/params/default.py)\n",
    "- To edit token creation open [token_creators](/tree/token_creators)"
   ]
  },
  {
   "cell_type": "markdown",
   "metadata": {},
   "source": [
    "## Node Overview (= 1 server)"
   ]
  },
  {
   "cell_type": "code",
   "execution_count": 2,
   "metadata": {},
   "outputs": [
    {
     "data": {
      "text/plain": [
       "\u001b[0;0m\n",
       "\u001b[0;33m## threefold.simulation.device\n",
       "\u001b[0;0m - \u001b[0;33mname                : server\n",
       "\u001b[0;0m - description         : \n",
       " - device_template_name: server\n",
       " - cost                : 4,127\n",
       " - power               : 222\n",
       " - rackspace_u         : 2\n",
       " - cru                 : 16\n",
       " - sru                 : 1000\n",
       " - hru                 : 60000\n",
       " - mru                 : 128\n",
       " - su                  : 58\n",
       " - cu                  : 31\n",
       " - cu_passmark         : 771\n",
       " - su_perc             : 62.95%\n",
       " - cu_perc             : 37.05%\n",
       " - cpr                 : 105\n",
       " - cost_su_capex       : 44.53797382975853\n",
       " - cost_cu_capex       : 48.1559535936195\n",
       " - cost_power          : 23.976\n",
       " - cost_rack           : 24\n",
       " - cost_month          : 116.75933333333333\n",
       " - cost_cu_month       : 1.3624078113937363\n",
       " - cost_su_month       : 1.260049462655695\n",
       "\u001b[0;0m"
      ]
     },
     "execution_count": 2,
     "metadata": {},
     "output_type": "execute_result"
    }
   ],
   "source": [
    "server"
   ]
  },
  {
   "cell_type": "code",
   "execution_count": 3,
   "metadata": {},
   "outputs": [
    {
     "data": {
      "text/markdown": [
       "\n",
       "### Device Details\n",
       "\n",
       "- nr of TB netto usable = 58.3 TB\n",
       "- nr of cpu cores = 16.0 Cores\n",
       "- power used = 222 watt\n",
       "- performance in passmark = 24479\n",
       "\n"
      ],
      "text/plain": [
       "<IPython.core.display.Markdown object>"
      ]
     },
     "execution_count": 3,
     "metadata": {},
     "output_type": "execute_result"
    }
   ],
   "source": [
    "md(f\"\"\"\n",
    "### Device Details\n",
    "\n",
    "- nr of TB netto usable = {round(server.su,1)} TB\n",
    "- nr of cpu cores = {round(server.cru,1)} Cores\n",
    "- power used = {server.power} watt\n",
    "- performance in passmark = {round(server.cu_passmark*server.cu)}\n",
    "\n",
    "\"\"\")"
   ]
  },
  {
   "cell_type": "code",
   "execution_count": 4,
   "metadata": {},
   "outputs": [
    {
     "data": {
      "text/markdown": [
       "## Simulate Return of 20 Nodes starting at month 1"
      ],
      "text/plain": [
       "<IPython.core.display.Markdown object>"
      ]
     },
     "execution_count": 4,
     "metadata": {},
     "output_type": "execute_result"
    }
   ],
   "source": [
    "md(f\"## Simulate Return of 20 Nodes starting at month {startmonth}\")"
   ]
  },
  {
   "cell_type": "code",
   "execution_count": 5,
   "metadata": {},
   "outputs": [
    {
     "data": {
      "text/plain": [
       "\u001b[0;33m## threefold.simulation.nodesbatch\n",
       "\u001b[0;0m - \u001b[0;33mname                : month_1\n",
       "\u001b[0;0m - batch_nr            : 1\n",
       " - nrnodes             : 29\n",
       " - month_start         : 1\n",
       " - months_left         : 60\n",
       " - tft_farmed_before_simulation: 0\n",
       "\n",
       "    \u001b[0;33m## threefold.simulation.nodesbatch.node\n",
       "    \u001b[0;0m - rackspace_u         : 2\n",
       "     - cost_hardware       : 4,127\n",
       "     - cpr                 : 96\n",
       "     - power               : 222\n",
       "    \u001b[0;0m\n",
       "\n",
       " - simulated_months    : []\n",
       "\u001b[0;0m"
      ]
     },
     "execution_count": 5,
     "metadata": {},
     "output_type": "execute_result"
    }
   ],
   "source": [
    "nb=simulation.nodesbatch_get(startmonth)\n",
    "nb.simulated_months=[]\n",
    "nb._data"
   ]
  },
  {
   "cell_type": "code",
   "execution_count": 6,
   "metadata": {},
   "outputs": [
    {
     "data": {
      "text/markdown": [
       "\n",
       "- Hardware Investment Cost for the node batch : USD 119,683\n",
       "- ROI In Months                 : 13\n"
      ],
      "text/plain": [
       "<IPython.core.display.Markdown object>"
      ]
     },
     "execution_count": 6,
     "metadata": {},
     "output_type": "execute_result"
    }
   ],
   "source": [
    "md(f\"\"\"\n",
    "- Hardware Investment Cost for the node batch : USD {nb.cost_hardware}\n",
    "- ROI In Months                 : {nb.roi_months}\n",
    "\"\"\")"
   ]
  },
  {
   "cell_type": "code",
   "execution_count": 7,
   "metadata": {},
   "outputs": [
    {
     "data": {
      "application/vnd.jupyter.widget-view+json": {
       "model_id": "09c8a6d9dbe14a45b3a13e81b387c330",
       "version_major": 2,
       "version_minor": 0
      },
      "text/plain": [
       "FigureWidget({\n",
       "    'data': [{'name': 'farmed',\n",
       "              'type': 'scatter',\n",
       "              'uid': '46daee1b…"
      ]
     },
     "metadata": {},
     "output_type": "display_data"
    }
   ],
   "source": [
    "nb.graph_tft(single=True)"
   ]
  },
  {
   "cell_type": "code",
   "execution_count": 8,
   "metadata": {},
   "outputs": [
    {
     "data": {
      "application/vnd.jupyter.widget-view+json": {
       "model_id": "a3b33b66fe254fdeab2d1e4b4b825b92",
       "version_major": 2,
       "version_minor": 0
      },
      "text/plain": [
       "FigureWidget({\n",
       "    'data': [{'connectgaps': False,\n",
       "              'name': 'farmed',\n",
       "              'type': 'scat…"
      ]
     },
     "metadata": {},
     "output_type": "display_data"
    }
   ],
   "source": [
    "nb.graph_usd(single=True)"
   ]
  },
  {
   "cell_type": "code",
   "execution_count": 9,
   "metadata": {},
   "outputs": [
    {
     "data": {
      "application/vnd.jupyter.widget-view+json": {
       "model_id": "8d3a0207d8d24b62b8bb1f0d05cd5531",
       "version_major": 2,
       "version_minor": 0
      },
      "text/plain": [
       "FigureWidget({\n",
       "    'data': [{'connectgaps': False,\n",
       "              'name': 'farmed',\n",
       "              'type': 'scat…"
      ]
     },
     "metadata": {},
     "output_type": "display_data"
    }
   ],
   "source": [
    "nb.graph_usd(single=True,cumul=True)"
   ]
  },
  {
   "cell_type": "code",
   "execution_count": 10,
   "metadata": {},
   "outputs": [
    {
     "data": {
      "text/markdown": [
       "\n",
       "- The Return On investment is compared to cost to buy all the hardware.\n",
       "- The costs of the rackspace and power have been paid with income of TFT, so its the net result which is shown.\n",
       "- ROI is in **13** months (starting month:1).\n",
       "- the ROI after 60 months' is:  **14.6**\n"
      ],
      "text/plain": [
       "<IPython.core.display.Markdown object>"
      ]
     },
     "execution_count": 10,
     "metadata": {},
     "output_type": "execute_result"
    }
   ],
   "source": [
    "\n",
    "md(f\"\"\"\n",
    "- The Return On investment is compared to cost to buy all the hardware.\n",
    "- The costs of the rackspace and power have been paid with income of TFT, so its the net result which is shown.\n",
    "- ROI is in **{nb.roi_months}** months (starting month:{startmonth}).\n",
    "- the ROI after 60 months' is:  **{round(nb.roi_end,1)}**\n",
    "\"\"\")"
   ]
  },
  {
   "cell_type": "code",
   "execution_count": 11,
   "metadata": {},
   "outputs": [
    {
     "data": {
      "application/vnd.jupyter.widget-view+json": {
       "model_id": "f85999b0a7724cf58a89fc2224c59a00",
       "version_major": 2,
       "version_minor": 0
      },
      "text/plain": [
       "FigureWidget({\n",
       "    'data': [{'connectgaps': False,\n",
       "              'name': 'batch_1',\n",
       "              'type': 'sca…"
      ]
     },
     "metadata": {},
     "output_type": "display_data"
    }
   ],
   "source": [
    "simulation.graph_nodesbatches_usd_simulation()"
   ]
  }
 ],
 "metadata": {
  "kernelspec": {
   "display_name": "Python 3",
   "language": "python",
   "name": "python3"
  },
  "language_info": {
   "codemirror_mode": {
    "name": "ipython",
    "version": 3
   },
   "file_extension": ".py",
   "mimetype": "text/x-python",
   "name": "python",
   "nbconvert_exporter": "python",
   "pygments_lexer": "ipython3",
   "version": "3.7.5"
  }
 },
 "nbformat": 4,
 "nbformat_minor": 4
}
