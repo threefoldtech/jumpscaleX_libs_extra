{
 "cells": [
  {
   "cell_type": "markdown",
   "metadata": {},
   "source": [
    "# Simulation Normalized Node Batch\n"
   ]
  },
  {
   "cell_type": "markdown",
   "metadata": {},
   "source": [
    "## input arguments"
   ]
  },
  {
   "cell_type": "code",
   "execution_count": 1,
   "metadata": {},
   "outputs": [],
   "source": [
    "# will also do the simulation calculation, takes time\n",
    "from lib import *\n",
    "#auto100 for tft growth means that the tft has the same value of 100% of the value of the grid based on 10x margin over 5Y\n",
    "#node_growth=\"0:5,6:150,20:2000\"\n",
    "simulation = j.tools.tfgrid_simulator.simulation_get(\n",
    "            name=\"default\",\n",
    "            tokencreator_name=\"optimized\",\n",
    "            hardware_config_name=\"amd\",\n",
    "#             node_growth=\"0:5,6:150,20:2000\",\n",
    "#             tft_growth=0.3,\n",
    "            reload=True,\n",
    "        )\n",
    "node_normalized=simulation.environment.node_normalized\n",
    "md_code(\"params/default.py\")\n",
    "\n",
    "#month = 0 means the first month, calculation starts at 0\n",
    "startmonth = 1"
   ]
  },
  {
   "cell_type": "markdown",
   "metadata": {},
   "source": [
    "- To change token creation params [default.py](/edit/params/default.py)\n",
    "- To edit token creation open [token_creators](/tree/token_creators)"
   ]
  },
  {
   "cell_type": "markdown",
   "metadata": {},
   "source": [
    "## Node Overview (= 1 server)"
   ]
  },
  {
   "cell_type": "code",
   "execution_count": 2,
   "metadata": {},
   "outputs": [
    {
     "data": {
      "text/plain": [
       "\u001b[0;0m\n",
       "\u001b[0;33m## threefold.simulation.device\n",
       "\u001b[0;0m - \u001b[0;33mname                : normalized_device_amd\n",
       "\u001b[0;0m - description         : \n",
       " - device_template_name: \n",
       " - cost                : 4,577\n",
       " - power               : 232\n",
       " - rackspace_u         : 2\n",
       " - cru                 : 16\n",
       " - sru                 : 1000\n",
       " - hru                 : 60000\n",
       " - mru                 : 128\n",
       " - su                  : 58\n",
       " - cu                  : 31\n",
       " - cu_passmark         : 771\n",
       " - su_perc             : 62.95%\n",
       " - cu_perc             : 37.05%\n",
       " - cpr                 : 105\n",
       " - cost_su_capex       : 49.4\n",
       " - cost_cu_capex       : 53.4\n",
       " - cost_power          : 25.1\n",
       " - cost_rack           : 25.2\n",
       " - cost_month          : 126\n",
       " - cost_cu_month       : 1.4765258695826384\n",
       " - cost_su_month       : 1.3655937766985924\n",
       "\u001b[0;0m"
      ]
     },
     "execution_count": 2,
     "metadata": {},
     "output_type": "execute_result"
    }
   ],
   "source": [
    "node_normalized"
   ]
  },
  {
   "cell_type": "code",
   "execution_count": 5,
   "metadata": {},
   "outputs": [
    {
     "data": {
      "text/markdown": [
       "\n",
       "### Normalized Node Details\n",
       "\n",
       "Is the average node in your environment (even if your environment is a mix of different hardware types.)\n",
       "\n",
       "- nr of TB netto usable = 58.3 TB\n",
       "- nr of cpu cores = 16.0 Cores\n",
       "- power used = 232 watt\n",
       "- performance in passmark for node = 24479\n",
       "- performance in passmark per compute unit = 771\n",
       "- cpr of the node = 105\n",
       "\n"
      ],
      "text/plain": [
       "<IPython.core.display.Markdown object>"
      ]
     },
     "execution_count": 5,
     "metadata": {},
     "output_type": "execute_result"
    }
   ],
   "source": [
    "md(f\"\"\"\n",
    "### Normalized Node Details\n",
    "\n",
    "Is the average node in your environment (even if your environment is a mix of different hardware types.)\n",
    "\n",
    "- nr of TB netto usable = {round(node_normalized.su,1)} TB\n",
    "- nr of cpu cores = {round(node_normalized.cru,1)} Cores\n",
    "- power used = {node_normalized.power} watt\n",
    "- performance in passmark for node = {round(node_normalized.cu_passmark*node_normalized.cu)}\n",
    "- performance in passmark per compute unit = {round(node_normalized.cu_passmark,0)}\n",
    "- cpr of the node = {round(node_normalized.cpr,0)}\n",
    "\n",
    "\"\"\")"
   ]
  },
  {
   "cell_type": "markdown",
   "metadata": {},
   "source": [
    "cpr of a device =  stands for cloud production rate, is like a hashrate of a box\n",
    "\n",
    "```cpr = (nr compute units * 1.5 + nr storage units)```\n"
   ]
  },
  {
   "cell_type": "code",
   "execution_count": 6,
   "metadata": {},
   "outputs": [
    {
     "data": {
      "text/markdown": [
       "## Simulate Return of 20 Nodes starting at month 1"
      ],
      "text/plain": [
       "<IPython.core.display.Markdown object>"
      ]
     },
     "execution_count": 6,
     "metadata": {},
     "output_type": "execute_result"
    }
   ],
   "source": [
    "md(f\"## Simulate Return of 20 Nodes starting at month {startmonth}\")"
   ]
  },
  {
   "cell_type": "code",
   "execution_count": 7,
   "metadata": {},
   "outputs": [
    {
     "data": {
      "text/plain": [
       "\u001b[0;33m## threefold.simulation.nodesbatch\n",
       "\u001b[0;0m - \u001b[0;33mname                : month_1\n",
       "\u001b[0;0m - batch_nr            : 1\n",
       " - nrnodes             : 29\n",
       " - month_start         : 1\n",
       " - months_left         : 60\n",
       " - tft_farmed_before_simulation: 0\n",
       "\n",
       "    \u001b[0;33m## threefold.simulation.nodesbatch.node\n",
       "    \u001b[0;0m - rackspace_u         : 2\n",
       "     - cost_hardware       : 4,577\n",
       "     - cpr                 : 96\n",
       "     - power               : 232\n",
       "    \u001b[0;0m\n",
       "\n",
       " - simulated_months    : []\n",
       "\u001b[0;0m"
      ]
     },
     "execution_count": 7,
     "metadata": {},
     "output_type": "execute_result"
    }
   ],
   "source": [
    "nb=simulation.nodesbatch_get(startmonth)\n",
    "nb.simulated_months=[]\n",
    "nb._data\n"
   ]
  },
  {
   "cell_type": "code",
   "execution_count": 8,
   "metadata": {},
   "outputs": [
    {
     "data": {
      "text/markdown": [
       "\n",
       "- Hardware Investment Cost for the node batch : USD 132,733\n",
       "- ROI In Months                 : 13\n"
      ],
      "text/plain": [
       "<IPython.core.display.Markdown object>"
      ]
     },
     "execution_count": 8,
     "metadata": {},
     "output_type": "execute_result"
    }
   ],
   "source": [
    "md(f\"\"\"\n",
    "- Hardware Investment Cost for the node batch : USD {nb.cost_hardware}\n",
    "- ROI In Months                 : {nb.roi_months}\n",
    "\"\"\")"
   ]
  },
  {
   "cell_type": "code",
   "execution_count": 9,
   "metadata": {},
   "outputs": [
    {
     "data": {
      "text/plain": [
       "\u001b[0;0m\n",
       "\u001b[0;33m## threefold.simulation.device\n",
       "\u001b[0;0m - \u001b[0;33mname                : normalized_device_amd\n",
       "\u001b[0;0m - description         : \n",
       " - device_template_name: \n",
       " - cost                : 4,577\n",
       " - power               : 232\n",
       " - rackspace_u         : 2\n",
       " - cru                 : 16\n",
       " - sru                 : 1000\n",
       " - hru                 : 60000\n",
       " - mru                 : 128\n",
       " - su                  : 58\n",
       " - cu                  : 31\n",
       " - cu_passmark         : 771\n",
       " - su_perc             : 62.95%\n",
       " - cu_perc             : 37.05%\n",
       " - cpr                 : 105\n",
       " - cost_su_capex       : 49.4\n",
       " - cost_cu_capex       : 53.4\n",
       " - cost_power          : 25.1\n",
       " - cost_rack           : 25.2\n",
       " - cost_month          : 126\n",
       " - cost_cu_month       : 1.4765258695826384\n",
       " - cost_su_month       : 1.3655937766985924\n",
       "\u001b[0;0m"
      ]
     },
     "execution_count": 9,
     "metadata": {},
     "output_type": "execute_result"
    }
   ],
   "source": [
    "simulation.environment.node_normalized"
   ]
  },
  {
   "cell_type": "code",
   "execution_count": 10,
   "metadata": {},
   "outputs": [
    {
     "data": {
      "application/vnd.jupyter.widget-view+json": {
       "model_id": "5f353a3880ed48c984ae532f987495dd",
       "version_major": 2,
       "version_minor": 0
      },
      "text/plain": [
       "FigureWidget({\n",
       "    'data': [{'name': 'farmed',\n",
       "              'type': 'scatter',\n",
       "              'uid': 'b26487a1…"
      ]
     },
     "metadata": {},
     "output_type": "display_data"
    }
   ],
   "source": [
    "nb.graph_tft(single=True)"
   ]
  },
  {
   "cell_type": "code",
   "execution_count": null,
   "metadata": {},
   "outputs": [],
   "source": [
    "nb.graph_usd(single=True)"
   ]
  },
  {
   "cell_type": "code",
   "execution_count": null,
   "metadata": {},
   "outputs": [],
   "source": [
    "nb.graph_usd(single=True,cumul=True)"
   ]
  },
  {
   "cell_type": "code",
   "execution_count": null,
   "metadata": {},
   "outputs": [],
   "source": [
    "\n",
    "md(f\"\"\"\n",
    "- The Return On investment is compared to cost to buy all the hardware.\n",
    "- The costs of the rackspace and power have been paid with income of TFT, so its the net result which is shown.\n",
    "- ROI is in **{nb.roi_months}** months (starting month:{startmonth}).\n",
    "- the ROI after 60 months' is:  **{round(nb.roi_end,1)}**\n",
    "\"\"\")"
   ]
  },
  {
   "cell_type": "code",
   "execution_count": null,
   "metadata": {},
   "outputs": [],
   "source": [
    "simulation.graph_nodesbatches_usd_simulation()"
   ]
  }
 ],
 "metadata": {
  "kernelspec": {
   "display_name": "Python 3",
   "language": "python",
   "name": "python3"
  },
  "language_info": {
   "codemirror_mode": {
    "name": "ipython",
    "version": 3
   },
   "file_extension": ".py",
   "mimetype": "text/x-python",
   "name": "python",
   "nbconvert_exporter": "python",
   "pygments_lexer": "ipython3",
   "version": "3.7.5"
  }
 },
 "nbformat": 4,
 "nbformat_minor": 4
}
