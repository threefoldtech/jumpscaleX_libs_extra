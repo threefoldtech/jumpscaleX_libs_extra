{
 "cells": [
  {
   "cell_type": "markdown",
   "metadata": {},
   "source": [
    "# Simulation Normalized Node Batch\n"
   ]
  },
  {
   "cell_type": "code",
   "execution_count": 1,
   "metadata": {},
   "outputs": [],
   "source": [
    "### params"
   ]
  },
  {
   "cell_type": "code",
   "execution_count": 1,
   "metadata": {},
   "outputs": [
    {
     "name": "stdout",
     "output_type": "stream",
     "text": [
      " - tft_growth: 3.0\n",
      " - node_growth: 0:5,6:150,12:1000,18:2000,24:8000,36:12000,48:20000,60:20000\n",
      " - cu_price_default: 15\n",
      " - su_price_default: 10\n"
     ]
    }
   ],
   "source": [
    "from lib import *\n",
    "\n",
    "\n",
    "simulation = j.tools.tfgrid_simulator.simulation_get(name=\"default\", hardware_config_name=\"amd\", reload=True)\n",
    "startmonth = 1\n",
    "node_normalized = simulation.environment.node_normalized\n",
    "\n",
    "\n"
   ]
  },
  {
   "cell_type": "markdown",
   "metadata": {},
   "source": [
    "## Node Overview (= 1 server)"
   ]
  },
  {
   "cell_type": "code",
   "execution_count": 3,
   "metadata": {},
   "outputs": [
    {
     "data": {
      "text/markdown": [
       "\n",
       "### Normalized Node Details\n",
       "\n",
       "Is the average node in your environment (even if your environment is a mix of different hardware types.)\n",
       "\n",
       "- nr of TB netto usable = 58.3 TB\n",
       "- nr of cpu cores = 16.0 Cores\n",
       "- power used = 232 watt\n",
       "- performance in passmark for node = 24479\n",
       "- performance in passmark per compute unit = 771\n",
       "- cpr of the node = 105\n",
       "\n"
      ],
      "text/plain": [
       "<IPython.core.display.Markdown object>"
      ]
     },
     "execution_count": 3,
     "metadata": {},
     "output_type": "execute_result"
    }
   ],
   "source": [
    "md(f\"\"\"\n",
    "### Normalized Node Details\n",
    "\n",
    "Is the average node in your environment (even if your environment is a mix of different hardware types.)\n",
    "\n",
    "- nr of TB netto usable = {round(node_normalized.su,1)} TB\n",
    "- nr of cpu cores = {round(node_normalized.cru,1)} Cores\n",
    "- power used = {node_normalized.power} watt\n",
    "- performance in passmark for node = {round(node_normalized.cu_passmark*node_normalized.cu)}\n",
    "- performance in passmark per compute unit = {round(node_normalized.cu_passmark,0)}\n",
    "- cpr of the node = {round(node_normalized.cpr,0)}\n",
    "\n",
    "\"\"\")"
   ]
  },
  {
   "cell_type": "markdown",
   "metadata": {},
   "source": [
    "cpr of a device =  stands for cloud production rate, is like a hashrate of a box\n",
    "\n",
    "```cpr = (nr compute units * 1.5 + nr storage units)```\n"
   ]
  },
  {
   "cell_type": "code",
   "execution_count": 4,
   "metadata": {},
   "outputs": [
    {
     "data": {
      "text/markdown": [
       "## Simulate Return of 20 Nodes starting at month 1"
      ],
      "text/plain": [
       "<IPython.core.display.Markdown object>"
      ]
     },
     "execution_count": 4,
     "metadata": {},
     "output_type": "execute_result"
    }
   ],
   "source": [
    "md(f\"## Simulate Return of 20 Nodes starting at month {startmonth}\")"
   ]
  },
  {
   "cell_type": "code",
   "execution_count": 5,
   "metadata": {},
   "outputs": [
    {
     "data": {
      "text/plain": [
       "\u001b[0;0m\n",
       "\u001b[0;33m## threefold.simulation.nodesbatch\n",
       "\u001b[0;0m - \u001b[0;33mname                : month_1\n",
       "\u001b[0;0m - batch_nr            : 1\n",
       " - nrnodes             : 29\n",
       " - month_start         : 1\n",
       " - months_left         : 60\n",
       " - tft_farmed_before_simulation: 0\n",
       "\n",
       "    \u001b[0;33m## threefold.simulation.nodesbatch.node\n",
       "    \u001b[0;0m - rackspace_u         : 2\n",
       "     - cost_hardware       : 4,577\n",
       "     - cpr                 : 96\n",
       "     - power               : 232\n",
       "    \u001b[0;0m\n",
       "\n",
       " - simulated_months    : []\n",
       "\u001b[0;0m\n",
       " - cost_hardware               |  2,212|  2,212|  2,212| 2,212| 2,212| 2,212| 2,212| 2,212| 2,212| 2,212| 2,212\n",
       " - cost_maintenance            |    442|    442|    442|   442|   442|   442|   442|   442|   442|   442|   442\n",
       " - cost_power                  |    145|    145|    145|   145|   174|   209|   244|   279|   313|   348|   383\n",
       " - cost_rackspace              |    730|    730|    730|   730|   730|   730|   730|   730|   730|   730|   730\n",
       " - difficulty_level            |      3|      3|      3|     3|     3|     3|     3|     3|     3|     3|     3\n",
       " - power                       |  1,345|  1,345|  1,345| 1,345| 1,614| 1,937| 2,260| 2,583| 2,906| 3,229| 3,552\n",
       " - rackspace_u                 |     60|     60|     60|    60|    60|    60|    60|    60|    60|    60|    60\n",
       " - roi                         |   0.04|   0.08|   0.13|  0.18|  0.24|   0.3|  0.37|  0.44|  0.51|  0.59|  0.67\n",
       " - tft_burned                  | -1,438| -2,690| -3,786| -4.8k| -5.6k| -6.4k| -7.0k| -7.7k| -8.2k| -8.7k| -9.1k\n",
       " - tft_cultivated              |  1,798|  3,362|   4.7k|  5.9k|  7.0k|  8.0k|  8.8k|  9.6k|   10k|   10k|   11k\n",
       " - tft_cultivated_usd          |    287|    571|    851| 1,128| 1,401| 1,670| 1,936| 2,199| 2,459| 2,715| 2,968\n",
       " - tft_farmed                  |    39k|    36k|    34k|   32k|   31k|   29k|   28k|   27k|   26k|   24k|   24k\n",
       " - tft_farmed_usd              |   6.2k|   6.2k|   6.2k|  6.2k|  6.2k|  6.2k|  6.2k|  6.2k|  6.2k|  6.2k|  6.2k\n",
       " - tft_farmer_income           |    32k|    32k|    32k|   31k|   31k|   31k|   30k|   30k|   30k|   29k|   29k\n",
       " - tft_farmer_income_cumul     |    32k|    64k|    97k|  128k|  160k|  191k|  222k|  252k|  282k|  312k|  342k\n",
       " - tft_farmer_income_cumul_usd |   5.2k|    11k|    17k|   24k|   32k|   40k|   48k|   58k|   67k|   78k|   88k\n",
       " - tft_movement_usd            |   5.2k|   5.5k|   5.8k|  6.1k|  6.3k|  6.5k|  6.8k|  7.0k|  7.2k|  7.4k|  7.7k\n",
       " - tft_price                   |   0.16|   0.17|   0.18|  0.19|   0.2|  0.21|  0.22|  0.23|  0.24|  0.25|  0.26\n",
       " - tft_sold                    |  -8.2k|  -7.8k|  -7.3k| -6.9k| -6.7k| -6.6k| -6.4k| -6.3k| -6.2k| -6.1k| -6.0k"
      ]
     },
     "execution_count": 5,
     "metadata": {},
     "output_type": "execute_result"
    }
   ],
   "source": [
    "nb=simulation.nodesbatch_get(startmonth)\n",
    "nb.simulated_months=[]\n",
    "nb\n"
   ]
  },
  {
   "cell_type": "code",
   "execution_count": 6,
   "metadata": {},
   "outputs": [
    {
     "data": {
      "text/markdown": [
       "\n",
       "- Hardware Investment Cost for the node batch : USD 132,733\n",
       "- ROI In Months                 : 15\n"
      ],
      "text/plain": [
       "<IPython.core.display.Markdown object>"
      ]
     },
     "execution_count": 6,
     "metadata": {},
     "output_type": "execute_result"
    }
   ],
   "source": [
    "md(f\"\"\"\n",
    "- Hardware Investment Cost for the node batch : USD {nb.cost_hardware}\n",
    "- ROI In Months                 : {nb.roi_months}\n",
    "\"\"\")"
   ]
  },
  {
   "cell_type": "code",
   "execution_count": 7,
   "metadata": {},
   "outputs": [
    {
     "data": {
      "text/plain": [
       "\u001b[0;0m\n",
       "\u001b[0;33m## threefold.simulation.device\n",
       "\u001b[0;0m - \u001b[0;33mname                : normalized_device_amd\n",
       "\u001b[0;0m - description         : \n",
       " - device_template_name: \n",
       " - cost                : 4,577\n",
       " - power               : 232\n",
       " - rackspace_u         : 2\n",
       " - cru                 : 16\n",
       " - sru                 : 1000\n",
       " - hru                 : 60000\n",
       " - mru                 : 128\n",
       " - su                  : 58\n",
       " - cu                  : 31\n",
       " - cu_passmark         : 771\n",
       " - su_perc             : 62.95%\n",
       " - cu_perc             : 37.05%\n",
       " - cpr                 : 105\n",
       " - cost_su_capex       : 49.4\n",
       " - cost_cu_capex       : 53.4\n",
       " - cost_power          : 25.1\n",
       " - cost_rack           : 25.2\n",
       " - cost_month          : 126\n",
       " - cost_cu_month       : 1.4765258695826384\n",
       " - cost_su_month       : 1.3655937766985924\n",
       "\u001b[0;0m"
      ]
     },
     "execution_count": 7,
     "metadata": {},
     "output_type": "execute_result"
    }
   ],
   "source": [
    "simulation.environment.node_normalized"
   ]
  },
  {
   "cell_type": "code",
   "execution_count": 8,
   "metadata": {},
   "outputs": [
    {
     "data": {
      "application/vnd.jupyter.widget-view+json": {
       "model_id": "50fcffed6e6d45d180d3268afc584fbe",
       "version_major": 2,
       "version_minor": 0
      },
      "text/plain": [
       "FigureWidget({\n",
       "    'data': [{'name': 'farmed',\n",
       "              'type': 'scatter',\n",
       "              'uid': 'db9363b5…"
      ]
     },
     "metadata": {},
     "output_type": "display_data"
    }
   ],
   "source": [
    "nb.graph_tft(single=True)"
   ]
  },
  {
   "cell_type": "code",
   "execution_count": 9,
   "metadata": {},
   "outputs": [
    {
     "data": {
      "application/vnd.jupyter.widget-view+json": {
       "model_id": "6c3a817dde394993810800e78e84fa95",
       "version_major": 2,
       "version_minor": 0
      },
      "text/plain": [
       "FigureWidget({\n",
       "    'data': [{'connectgaps': False,\n",
       "              'name': 'farmed',\n",
       "              'type': 'scat…"
      ]
     },
     "metadata": {},
     "output_type": "display_data"
    }
   ],
   "source": [
    "nb.graph_usd(single=True)"
   ]
  },
  {
   "cell_type": "code",
   "execution_count": 10,
   "metadata": {},
   "outputs": [
    {
     "data": {
      "application/vnd.jupyter.widget-view+json": {
       "model_id": "e5b87b991b3c447a887699af88c66c64",
       "version_major": 2,
       "version_minor": 0
      },
      "text/plain": [
       "FigureWidget({\n",
       "    'data': [{'connectgaps': False,\n",
       "              'name': 'farmed',\n",
       "              'type': 'scat…"
      ]
     },
     "metadata": {},
     "output_type": "display_data"
    }
   ],
   "source": [
    "nb.graph_usd(single=True,cumul=True)"
   ]
  },
  {
   "cell_type": "code",
   "execution_count": 11,
   "metadata": {},
   "outputs": [
    {
     "data": {
      "text/markdown": [
       "\n",
       "- The Return On investment is compared to cost to buy all the hardware.\n",
       "- The costs of the rackspace and power have been paid with income of TFT, so its the net result which is shown.\n",
       "- ROI is in **15** months (starting month:1).\n",
       "- the ROI after 60 months' is:  **57.4**\n"
      ],
      "text/plain": [
       "<IPython.core.display.Markdown object>"
      ]
     },
     "execution_count": 11,
     "metadata": {},
     "output_type": "execute_result"
    }
   ],
   "source": [
    "\n",
    "md(f\"\"\"\n",
    "- The Return On investment is compared to cost to buy all the hardware.\n",
    "- The costs of the rackspace and power have been paid with income of TFT, so its the net result which is shown.\n",
    "- ROI is in **{nb.roi_months}** months (starting month:{startmonth}).\n",
    "- the ROI after 60 months' is:  **{round(nb.roi_end,1)}**\n",
    "\"\"\")"
   ]
  },
  {
   "cell_type": "code",
   "execution_count": 12,
   "metadata": {},
   "outputs": [
    {
     "data": {
      "application/vnd.jupyter.widget-view+json": {
       "model_id": "e8f56d0427014fa59b10e68ef23ab8e0",
       "version_major": 2,
       "version_minor": 0
      },
      "text/plain": [
       "FigureWidget({\n",
       "    'data': [{'connectgaps': False,\n",
       "              'name': 'batch_1',\n",
       "              'type': 'sca…"
      ]
     },
     "metadata": {},
     "output_type": "display_data"
    }
   ],
   "source": [
    "simulation.graph_nodesbatches_usd_simulation()"
   ]
  },
  {
   "cell_type": "code",
   "execution_count": 13,
   "metadata": {},
   "outputs": [
    {
     "data": {
      "text/plain": [
       "\u001b[0;0m\n",
       "\u001b[0;33m## threefold.simulation\n",
       "\u001b[0;0m - \u001b[0;33mname                : default\n",
       "\u001b[0;0m - simulated           : False\n",
       " - sales_price_cu      : 8\n",
       " - sales_price_su      : 5\n",
       " - sales_price_nu      : 0\n",
       "\u001b[0;0m\n",
       " - cost_hardware                          114k|   116k|   120k|   126k|   134k|   143k|   155k|   177k|   210k|   254k|    308k|    374k\n",
       " - cost_maintenance                        22k|    23k|    24k|    25k|    26k|    28k|    31k|    35k|    42k|    50k|     61k|     74k\n",
       " - cost_power                             7.5k|   7.7k|   7.9k|   8.3k|   8.8k|    11k|    14k|    19k|    26k|    36k|     48k|     64k\n",
       " - cost_power_kwh                         0.15|   0.15|   0.15|   0.15|   0.15|   0.15|   0.15|   0.15|   0.15|   0.15|    0.15|    0.15\n",
       " - cost_rack_unit                           12|     12|     12|     12|     12|     12|     12|     12|     12|     12|      12|      12\n",
       " - cost_rackspace                          37k|    38k|    39k|    41k|    44k|    47k|    51k|    58k|    69k|    84k|    102k|    123k\n",
       " - cpr_improve                                |   0.67|    1.3|      2|    2.7|    3.3|      4|    4.7|    5.3|      6|     6.7|     7.3\n",
       " - cpr_sales_price_decline                    |   0.67|    1.3|      2|    2.7|    3.3|      4|    4.7|    5.3|      6|     6.7|     7.3\n",
       " - grid_valuation_margin_usd               64m|    65m|    67m|    69m|    73m|    77m|    83m|    94m|   111m|   133m|    160m|    192m\n",
       " - grid_valuation_rev_usd                  43m|    44m|    45m|    47m|    50m|    53m|    57m|    64m|    76m|    91m|    110m|    133m\n",
       " - investment                             6.9m|   7.0m|   7.2m|   7.6m|   8.1m|   8.6m|   9.3m|    10m|    12m|    15m|     18m|     22m\n",
       " - nrnodes_new                               5|     29|     53|     77|    101|    125|    150|    291|    433|    575|     716|     858\n",
       " - nrnodes_total                         1,500|  1,529|  1,582|  1,660|  1,761|  1,887|  2,037|  2,329|  2,762|  3,337|    4.1k|    4.9k\n",
       " - power_kw                                 69|     70|     73|     76|     81|    104|    135|    181|    245|    334|     451|     601\n",
       " - rackspace_u                           3,150|  3,210|  3,322|  3,483|  3,696|  3,958|   4.3k|   4.9k|   5.8k|   7.0k|    8.5k|     10k\n",
       " - revenue                                    |    15k|    30k|    48k|    68k|    90k|   117k|   156k|   211k|   288k|    389k|    519k\n",
       " - tft_burned                                 |   -75k|  -145k|  -215k|  -287k|  -363k|  -447k|  -568k|  -736k|  -960k| -1,245k| -1,597k\n",
       " - tft_calculated_based_margin_valuation  0.61|   0.58|   0.56|   0.54|   0.54|   0.54|   0.55|    0.6|   0.67|   0.76|    0.88|     1.0\n",
       " - tft_calculated_based_rev_valuation     0.41|   0.39|   0.38|   0.37|   0.37|   0.37|   0.38|   0.41|   0.46|   0.53|    0.61|     0.7\n",
       " - tft_cultivated                             |    94k|   182k|   269k|   359k|   454k|   558k|   710k|   920k| 1,200k|  1,556k|  1,996k\n",
       " - tft_farmed                             706m| 2,045k| 1,992k| 1,975k| 1,988k| 2,027k| 2,089k| 2,291k| 2,615k| 3,050k|  3,582k|    4.2m\n",
       " - tft_farmed_cumul                       706m|   708m|   710m|   712m|   714m|   716m|   718m|   720m|   723m|   726m|    730m|    734m\n",
       " - tft_farmer_income                      705m| 1,705k| 1,752k| 1,825k| 1,926k| 2,043k| 2,186k| 2,484k| 2,936k| 3,538k|    4.3m|    5.2m\n",
       " - tft_farmer_income_cumul                705m|   707m|   709m|   711m|   713m|   715m|   717m|   720m|   723m|   727m|    731m|    737m\n",
       " - tft_farmer_income_cumul_usd            105m|   113m|   120m|   128m|   135m|   143m|   150m|   158m|   166m|   174m|    182m|    191m\n",
       " - tft_marketcap                          105m|   113m|   120m|   128m|   135m|   143m|   150m|   158m|   166m|   174m|    182m|    190m\n",
       " - tft_movement_usd                       105m|   272k|   297k|   328k|   366k|   408k|   459k|   546k|   675k|   849k|  1,072k|  1,348k\n",
       " - tft_sold                              -454k|  -434k|  -423k|  -419k|  -421k|  -437k|  -461k|  -516k|  -600k|  -712k|   -850k| -1,013k\n",
       " - tokenprice                             0.15|   0.16|   0.17|   0.18|   0.19|    0.2|   0.21|   0.22|   0.23|   0.24|    0.25|    0.26\n",
       " - utilization                                |      4|      8|     12|     16|     20|     24|     28|     32|     36|      40|      44"
      ]
     },
     "execution_count": 13,
     "metadata": {},
     "output_type": "execute_result"
    }
   ],
   "source": [
    "simulation"
   ]
  },
  {
   "cell_type": "code",
   "execution_count": null,
   "metadata": {},
   "outputs": [],
   "source": []
  }
 ],
 "metadata": {
  "kernelspec": {
   "display_name": "Python 3",
   "language": "python",
   "name": "python3"
  },
  "language_info": {
   "codemirror_mode": {
    "name": "ipython",
    "version": 3
   },
   "file_extension": ".py",
   "mimetype": "text/x-python",
   "name": "python",
   "nbconvert_exporter": "python",
   "pygments_lexer": "ipython3",
   "version": "3.7.5"
  }
 },
 "nbformat": 4,
 "nbformat_minor": 4
}
