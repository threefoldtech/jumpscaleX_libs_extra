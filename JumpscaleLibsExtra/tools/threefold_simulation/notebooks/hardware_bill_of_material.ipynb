{
 "cells": [
  {
   "cell_type": "markdown",
   "metadata": {},
   "source": [
    "## hardware bill of material (components)"
   ]
  },
  {
   "cell_type": "code",
   "execution_count": 1,
   "metadata": {},
   "outputs": [
    {
     "data": {
      "text/markdown": [
       "```python\n",
       "\n",
       "\n",
       "bom.components.new(\n",
       "    name=\"s1\",\n",
       "    description=\"SuperMicro Chassis 2U, 12 HD's fit inside, 10 gbit dual\",\n",
       "    cost=1800,\n",
       "    rackspace_u=2,\n",
       "    cru=0,\n",
       "    sru=0,\n",
       "    hru=0,\n",
       "    mru=0,\n",
       "    su_perc=0,\n",
       "    cu_perc=0,\n",
       "    power=60,\n",
       ")\n",
       "\n",
       "bom.components.new(\n",
       "    name=\"s2\",\n",
       "    description=\"Chassis for Ryzen 7 (no cpu inside), 4 HD slots, 1 SSD slots, 10 gbit nic\",\n",
       "    cost=450,\n",
       "    rackspace_u=2,\n",
       "    cru=0,\n",
       "    sru=0,\n",
       "    hru=0,\n",
       "    mru=0,\n",
       "    su_perc=0,\n",
       "    cu_perc=0,\n",
       "    power=30,\n",
       ")\n",
       "\n",
       "bom.components.new(\n",
       "    name=\"hd12\", description=\"Seagate Baracuda 12TB (6-8 watt)\", cost=330, hru=12000, power=10, su_perc=100\n",
       ")\n",
       "bom.components.new(\n",
       "    name=\"intel1\",\n",
       "    description=\"Intel Xeon E5-2630 v4 @ 2.20GHz (20 logical cores)\",\n",
       "    cost=600,\n",
       "    cru=20,\n",
       "    power=200,\n",
       "    cu_perc=100,\n",
       "    passmark=13877,\n",
       ")\n",
       "bom.components.new(\n",
       "    name=\"amd1\",\n",
       "    description=\"AMD Ryzen 7 3800X (16 logical cores)\",\n",
       "    cost=377,\n",
       "    cru=16,\n",
       "    power=105,\n",
       "    cu_perc=100,\n",
       "    passmark=24500,\n",
       ")\n",
       "\n",
       "bom.components.new(name=\"ssd1\", description=\"1 TB Samsung Evo\", cost=350, sru=1000, power=5, su_perc=100)\n",
       "bom.components.new(name=\"mem32_ecc\", description=\"mem 32\", cost=300, mru=32, power=8, cu_perc=100)\n",
       "bom.components.new(name=\"mem64_ddr4\", description=\"mem 2x32\", cost=400, mru=64, power=16, cu_perc=100)\n",
       "bom.components.new(\n",
       "    name=\"ng2\",\n",
       "    description=\"48 ports 10 gbit + 4 ports 10 gbit sfp: fs.com + cables\",\n",
       "    cost=4500,\n",
       "    power=100,\n",
       "    rackspace_u=1,\n",
       ")\n",
       "\n",
       "# # create the template for dc1\n",
       "# d = bom.devices.new(name=\"dc1\")\n",
       "# d.components.new(name=\"s1\", nr=1)\n",
       "# d.components.new(name=\"intel1\", nr=2)\n",
       "# d.components.new(name=\"hd12\", nr=12)\n",
       "# d.components.new(name=\"mem32_ecc\", nr=8)\n",
       "# d.components.new(name=\"ssd1\", nr=2)\n",
       "\n",
       "# create the template for edge device 1\n",
       "d = bom.devices.new(name=\"edge1\")\n",
       "d.components.new(name=\"s2\", nr=1)\n",
       "d.components.new(name=\"amd1\", nr=1)\n",
       "d.components.new(name=\"hd12\", nr=5)\n",
       "d.components.new(name=\"mem64_ddr4\", nr=2)\n",
       "d.components.new(name=\"ssd1\", nr=1)\n",
       "\n",
       "d = bom.devices.new(name=\"switch\")\n",
       "d.components.new(name=\"ng2\", nr=1)\n",
       "\n",
       "\n",
       "```"
      ],
      "text/plain": [
       "<IPython.core.display.Markdown object>"
      ]
     },
     "execution_count": 1,
     "metadata": {},
     "output_type": "execute_result"
    }
   ],
   "source": [
    "from lib import *\n",
    "from params.params_environment import *\n",
    "md_code(\"params/params_bom_hardware_components.py\")"
   ]
  },
  {
   "cell_type": "code",
   "execution_count": 2,
   "metadata": {},
   "outputs": [
    {
     "data": {
      "text/markdown": [
       "To edit bill of material for simmulation open [params_bom_hardware_components.py](/edit/params/params_bom_hardware_components.py)"
      ],
      "text/plain": [
       "<IPython.core.display.Markdown object>"
      ]
     },
     "execution_count": 2,
     "metadata": {},
     "output_type": "execute_result"
    }
   ],
   "source": [
    "md(\"To edit bill of material for simulation open [params_bom_hardware_components.py](/edit/params/params_bom_hardware_components.py)\")"
   ]
  },
  {
   "cell_type": "markdown",
   "metadata": {},
   "source": [
    "## Environment Overview (= 20 servers)"
   ]
  },
  {
   "cell_type": "code",
   "execution_count": 3,
   "metadata": {},
   "outputs": [
    {
     "data": {
      "text/plain": [
       "\u001b[0;0m\n",
       "\u001b[0;33m## threefold.simulation.environment\n",
       "\u001b[0;0m - \u001b[0;33mname                : default\n",
       "\u001b[0;0m - description         : \n",
       " - cost_power_kwh      : 0.15\n",
       " - cost_rack_unit      : 12\n",
       " - cost                : 81,540\n",
       " - power               : 4,640\n",
       " - rackspace_u         : 42\n",
       " - cru                 : 320\n",
       " - sru                 : 20000\n",
       " - hru                 : 1200000\n",
       " - mru                 : 2560\n",
       " - su                  : 1166\n",
       " - cu                  : 634\n",
       " - cu_passmark         : 15,420\n",
       " - su_perc             : 62.95%\n",
       " - cu_perc             : 37.05%\n",
       " - cpr                 : 2,118\n",
       " - cost_su_capex       : 44.0\n",
       " - cost_cu_capex       : 47.6\n",
       " - cost_power          : 501\n",
       " - cost_rack           : 504\n",
       " - cost_month          : 2,364\n",
       " - cost_cu_month       : 1.380375169938186\n",
       " - cost_su_month       : 1.275661675435046\n",
       " - bandwidth_mbit      : 20\n",
       " - cost_bandwidth      : 0\n",
       " - nr_devices          : 20\n",
       " - nr_nodes            : 20\n",
       " - sales_price_cu      : 6\n",
       " - sales_price_su      : 4\n",
       " - sales_price_nu      : 0\n",
       " - sales_price_total   : 8,473\n",
       " - sales_price_cpr_unit: 4.000786905886057\n",
       "\u001b[0;0m"
      ]
     },
     "execution_count": 3,
     "metadata": {},
     "output_type": "execute_result"
    }
   ],
   "source": [
    "environment"
   ]
  },
  {
   "cell_type": "markdown",
   "metadata": {},
   "source": [
    "## Node Overview (= 1 server)"
   ]
  },
  {
   "cell_type": "code",
   "execution_count": 4,
   "metadata": {},
   "outputs": [
    {
     "data": {
      "text/plain": [
       "\u001b[0;0m\n",
       "\u001b[0;33m## threefold.simulation.device\n",
       "\u001b[0;0m - \u001b[0;33mname                : default\n",
       "\u001b[0;0m - description         : \n",
       " - device_template_name: edge1\n",
       " - cost                : 4,077\n",
       " - power               : 232\n",
       " - rackspace_u         : 2\n",
       " - cru                 : 16\n",
       " - sru                 : 1000\n",
       " - hru                 : 60000\n",
       " - mru                 : 128\n",
       " - su                  : 58\n",
       " - cu                  : 31\n",
       " - cu_passmark         : 771\n",
       " - su_perc             : 62.95%\n",
       " - cu_perc             : 37.05%\n",
       " - cpr                 : 105\n",
       " - cost_su_capex       : 44.0\n",
       " - cost_cu_capex       : 47.6\n",
       " - cost_power          : 25.1\n",
       " - cost_rack           : 25.2\n",
       " - cost_month          : 118\n",
       " - cost_cu_month       : 1.380375169938186\n",
       " - cost_su_month       : 1.275661675435046\n",
       "\u001b[0;0m"
      ]
     },
     "execution_count": 4,
     "metadata": {},
     "output_type": "execute_result"
    }
   ],
   "source": [
    "environment.device_normalized"
   ]
  },
  {
   "cell_type": "code",
   "execution_count": null,
   "metadata": {},
   "outputs": [],
   "source": []
  },
  {
   "cell_type": "code",
   "execution_count": null,
   "metadata": {},
   "outputs": [],
   "source": []
  }
 ],
 "metadata": {
  "kernelspec": {
   "display_name": "Python 3",
   "language": "python",
   "name": "python3"
  },
  "language_info": {
   "codemirror_mode": {
    "name": "ipython",
    "version": 3
   },
   "file_extension": ".py",
   "mimetype": "text/x-python",
   "name": "python",
   "nbconvert_exporter": "python",
   "pygments_lexer": "ipython3",
   "version": "3.7.6"
  }
 },
 "nbformat": 4,
 "nbformat_minor": 4
}
