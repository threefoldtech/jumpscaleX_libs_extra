{
 "cells": [
  {
   "cell_type": "markdown",
   "metadata": {},
   "source": [
    "## Parameters For Grid Valuation\n",
    "\n",
    "### Pricing For Cloud Capacity As Used In Cloud Index\n",
    "\n",
    "See cloudorado for market price comparison [storage](https://www.cloudorado.com/cloud_storage_comparison.jsp) and [compute](https://www.cloudorado.com/cloud_server_comparison.jsp)\n",
    "\n",
    "- For SU = 1 TB of storage per month\n",
    "    - most cloud vendors use USD20-190 per month\n",
    "- For CU = 4GB Memory and 2 virtual CPU\n",
    "    - most cloud vendors use USD40-200 per month\n",
    "    \n",
    "We suggest to use \n",
    "\n",
    "- 15 USD for CU\n",
    "- 10 USD for SU\n",
    "\n",
    "### role of price erosion and capabilities increase of hardware\n",
    "\n",
    "Over time the price for capacity goes down with a certain percentage\n",
    "\n",
    "- we call this percentage price_erosion\n",
    "- the price erosion has been defined in params and is default 40%\n",
    "\n",
    "Also hardware becomes more powerful and over time can produce more CPR\n",
    "\n",
    "CPR is the cloud production ratio, which is defined as ```1.5*CU+1*SU```\n",
    "\n",
    "- we call this percentage cpr_improve and is default also 40%\n",
    "\n",
    "In other words price erosion +- offsets the increased capabilities of hardware.\n",
    "\n",
    "\n",
    "\n",
    "\n"
   ]
  },
  {
   "cell_type": "code",
   "execution_count": 1,
   "metadata": {},
   "outputs": [
    {
     "data": {
      "application/vnd.jupyter.widget-view+json": {
       "model_id": "15fa6f5050b24b5c920e12311363e543",
       "version_major": 2,
       "version_minor": 0
      },
      "text/plain": [
       "VBox(children=(Label(value='Index Cloud Unit Prices'), HBox(children=(HBox(children=(IntSlider(value=8, descri…"
      ]
     },
     "metadata": {},
     "output_type": "display_data"
    }
   ],
   "source": [
    "import ipywidgets as w\n",
    "from Jumpscale import j\n",
    "debounce = j.servers.notebook.debounce\n",
    "config = j.tools.tfgrid_simulator.simulator_config.cloudindex\n",
    "\n",
    "#define some layout\n",
    "items_layout = w.Layout( width='auto')\n",
    "box_layout = w.Layout(display='flex',flex_flow='column', align_items='stretch',width='50%')\n",
    "\n",
    "# the input box\n",
    "label_prices = w.Label(\"Index Cloud Unit Prices\")\n",
    "price_cu=w.IntSlider(description=\"CU Price\",layout=items_layout,min=8,max=200,step=1,value=config.price_cu)\n",
    "price_su=w.IntSlider(description=\"SU Price\",layout=items_layout,min=5,max=120,step=1,value=config.price_su)\n",
    "price_nu=w.FloatSlider(description=\"NU Price\",layout=items_layout,min=0.00,max=1,step=0.01,value=config.price_nu)\n",
    "\n",
    "label_simulationchoice = w.Label(\"Cloud Valuation Type:\")\n",
    "simulation_type = w.Dropdown(\n",
    "    options=[\"revenue\",\"margin\"],\n",
    "    value=config.indextype,\n",
    "    description='Type:',\n",
    "    disabled=False,\n",
    "layout=w.Layout( width='85%')\n",
    ")\n",
    "\n",
    "\n",
    "\n",
    "multiplier_revenue=w.IntSlider(description=\"Multiplier\",layout=items_layout,min=12,max=200,step=1,\n",
    "                        value=config.revenue_months)\n",
    "multiplier_margin=w.IntSlider(description=\"Multiplier\",layout=items_layout,min=12,max=200,step=1,\n",
    "                        value=config.margin_months)\n",
    "\n",
    "if config.indextype==\"revenue\":\n",
    "    multiplier=multiplier_revenue\n",
    "else:\n",
    "    multiplier=multiplier_margin\n",
    "\n",
    "label_is_months = w.Label(\"is in months.\",layout=w.Layout(align_items=\"center\",width='90%'))\n",
    "# label_is_months.align_items=\"center\"\n",
    "# label_is_months.layout.justify_content = \"flex-end\"\n",
    "#TODO: want to align right, can't find it\n",
    "    \n",
    "box_layout_input = w.Layout(display='flex',flex_flow='column',\n",
    "    align_items='stretch',width='100%')\n",
    "\n",
    "box_left=w.HBox(children=[price_cu,price_su,price_nu,label_simulationchoice,\n",
    "                          simulation_type,multiplier,label_is_months],layout=box_layout_input)\n",
    "\n",
    "inputbox = w.HBox(children=[box_left])\n",
    "\n",
    "button_run=w.Button(description=\"SAVE\", layout=w.Layout(width='100px'), \n",
    "    button_style='danger')\n",
    "# button_clear=w.Button(description=\"Clear\", layout=w.Layout(width='100px'), \n",
    "#     button_style='danger')\n",
    "buttons = w.HBox(children=[button_run])\n",
    "\n",
    "#now add all under neith each other\n",
    "mainbox= w.VBox(children=[label_prices,inputbox,buttons])\n",
    "\n",
    "#will store it in redis\n",
    "def save(*args):\n",
    "    config.price_cu = price_cu.value\n",
    "    config.price_su = price_su.value\n",
    "    config.price_nu = price_nu.value\n",
    "    \n",
    "    indextype=str(simulation_type.value)\n",
    "    print(simulation_type.value)\n",
    "    config.indextype = indextype\n",
    "    \n",
    "    if indextype == \"revenue\":\n",
    "        config.revenue_months = int(multiplier.value)\n",
    "    else:\n",
    "        config.margin_months = int(multiplier.value)\n",
    "        \n",
    "    #doesn't work, idea is to replace it\n",
    "#     box_left.children[5]=multiplier #TODO:\n",
    "\n",
    "    j.tools.tfgrid_simulator.simulator_config.tft_pricing_type=\"AUTO\"\n",
    "\n",
    "    j.tools.tfgrid_simulator.simulator_config.save()\n",
    "    \n",
    "button_run.on_click(save)\n",
    "\n",
    "def simulation_type_change(change):\n",
    "    print(\"simulation change:%s\"%simulation_type.value)\n",
    "    if simulation_type.value==\"revenue\":\n",
    "        multiplier.value=value=config.revenue_months        \n",
    "    else:\n",
    "        multiplier.value=value=config.margin_months \n",
    "\n",
    "simulation_type.observe(simulation_type_change)\n",
    "        \n",
    "mainbox"
   ]
  },
  {
   "cell_type": "code",
   "execution_count": 2,
   "metadata": {},
   "outputs": [],
   "source": [
    "j.tools.tfgrid_simulator.simulator_config.load()\n",
    "j.tools.tfgrid_simulator.simulator_config;\n"
   ]
  },
  {
   "cell_type": "markdown",
   "metadata": {},
   "source": [
    "## Some remarks\n",
    "\n",
    "A baseline is being established of 4% growth for TFT per month, we do this to allow forward looking estimation of grid in beginning.\n",
    "\n",
    "Once the calculated TFT price based on chosen index valuation mechanism is higher than the baseline we will switch over to that baseline."
   ]
  },
  {
   "cell_type": "code",
   "execution_count": null,
   "metadata": {},
   "outputs": [],
   "source": []
  }
 ],
 "metadata": {
  "kernelspec": {
   "display_name": "Python 3",
   "language": "python",
   "name": "python3"
  },
  "language_info": {
   "codemirror_mode": {
    "name": "ipython",
    "version": 3
   },
   "file_extension": ".py",
   "mimetype": "text/x-python",
   "name": "python",
   "nbconvert_exporter": "python",
   "pygments_lexer": "ipython3",
   "version": "3.7.5"
  }
 },
 "nbformat": 4,
 "nbformat_minor": 4
}
