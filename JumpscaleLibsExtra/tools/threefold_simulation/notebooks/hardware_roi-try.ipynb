{
 "cells": [
  {
   "cell_type": "markdown",
   "metadata": {},
   "source": [
    "# Simulation Normalized Node Batch\n"
   ]
  },
  {
   "cell_type": "markdown",
   "metadata": {},
   "source": [
    "## input arguments"
   ]
  },
  {
   "cell_type": "code",
   "execution_count": 1,
   "metadata": {},
   "outputs": [],
   "source": [
    "startmonth = 1\n",
    "\n",
    "#define how the nodes will grow\n",
    "node_growth=\"0:5,6:150,12:1000,18:2000,24:8000,36:12000,48:20000,60:20000\"\n",
    "# node_growth=\"0:5,6:150,12:1000,24:5000\"\n",
    "# node_growth=\"0:1000\"\n",
    "\n",
    "#tft price in 5 years, has impact on return\n",
    "tft_price=3\n",
    "\n",
    "#bill of material name\n",
    "# bom_name = \"CH_archive\"\n",
    "bom_name = \"A_dc_rack\"\n",
    "# bom_name = \"hpe_dl385_amd\"\n",
    "# bom_name = \"amd\"\n",
    "\n",
    "from lib import *\n",
    "\n",
    "simulation = j.tools.tfgrid_simulator.simulation_get(\n",
    "            name=\"default\",\n",
    "            tokencreator_name=\"optimized\",\n",
    "            bom_name=\"amd\", #dont change here, this is the growth calc\n",
    "            node_growth=node_growth,\n",
    "            tft_growth=tft_price,\n",
    "            reload=True,\n",
    "        )\n",
    "\n",
    "#parameters for simulation\n",
    "# choose your hardware profile (other choices in stead of amd or supermicro or hpe)\n",
    "bom, environment2 = j.tools.tfgrid_simulator.bom_environment_get(bom_name)\n",
    "nb = simulation.nodesbatch_get_environment(month=startmonth, environment=environment2)\n",
    "server=environment2.node_normalized\n"
   ]
  },
  {
   "cell_type": "markdown",
   "metadata": {},
   "source": [
    "- To change token creation params [default.py](/edit/params/default.py)\n",
    "- To edit token creation open [token_creators](/tree/token_creators)"
   ]
  },
  {
   "cell_type": "markdown",
   "metadata": {},
   "source": [
    "## Node Overview (= 1 server)"
   ]
  },
  {
   "cell_type": "code",
   "execution_count": 2,
   "metadata": {},
   "outputs": [
    {
     "data": {
      "text/plain": [
       "\u001b[0;0m\n",
       "\u001b[0;33m## threefold.simulation.device\n",
       "\u001b[0;0m - \u001b[0;33mname                : hpe_storage_server\n",
       "\u001b[0;0m - description         : \n",
       " - device_template_name: hpe_storage_server\n",
       " - cost                : 55,574\n",
       " - power               : 1,004\n",
       " - rackspace_u         : 4\n",
       " - cru                 : 32\n",
       " - sru                 : 5760\n",
       " - hru                 : 672000\n",
       " - mru                 : 256\n",
       " - su                  : 608\n",
       " - cu                  : 63\n",
       " - cu_passmark         : 377\n",
       " - su_perc             : 90.98%\n",
       " - cu_perc             : 9.02%\n",
       " - cpr                 : 703\n",
       " - cost_su_capex       : 83.2\n",
       " - cost_cu_capex       : 78.7\n",
       " - cost_power          : 108\n",
       " - cost_rack           : 48\n",
       " - cost_month          : 1,082\n",
       " - cost_cu_month       : 1.5322397146735522\n",
       " - cost_su_month       : 1.6200412031626554\n",
       "\u001b[0;0m"
      ]
     },
     "execution_count": 2,
     "metadata": {},
     "output_type": "execute_result"
    }
   ],
   "source": [
    "server"
   ]
  },
  {
   "cell_type": "code",
   "execution_count": 3,
   "metadata": {},
   "outputs": [
    {
     "data": {
      "text/plain": [
       "(11,\n",
       " \u001b[0;0m\n",
       " \u001b[0;33m## threefold.simulation.device\n",
       " \u001b[0;0m - \u001b[0;33mname                : hpe_compute_server\n",
       " \u001b[0;0m - description         : \n",
       "  - device_template_name: hpe_compute_server\n",
       "  - cost                : 20,120\n",
       "  - power               : 698\n",
       "  - rackspace_u         : 2\n",
       "  - cru                 : 64\n",
       "  - sru                 : 7680\n",
       "  - hru                 : 96000\n",
       "  - mru                 : 512\n",
       "  - su                  : 144\n",
       "  - cu                  : 127\n",
       "  - cu_passmark         : 283\n",
       "  - su_perc             : 57.46%\n",
       "  - cu_perc             : 42.54%\n",
       "  - cpr                 : 335\n",
       "  - cost_su_capex       : 80.3\n",
       "  - cost_cu_capex       : 67.0\n",
       "  - cost_power          : 75.4\n",
       "  - cost_rack           : 24\n",
       "  - cost_month          : 434\n",
       "  - cost_cu_month       : 1.4477442092390211\n",
       "  - cost_su_month       : 1.7345000736322804\n",
       " \u001b[0;0m,\n",
       " 'n')"
      ]
     },
     "execution_count": 3,
     "metadata": {},
     "output_type": "execute_result"
    }
   ],
   "source": [
    "environment2.devices.compute"
   ]
  },
  {
   "cell_type": "code",
   "execution_count": 4,
   "metadata": {},
   "outputs": [],
   "source": [
    "if hasattr(environment2.devices,\"storage\"):\n",
    "    environment2.devices.storage"
   ]
  },
  {
   "cell_type": "code",
   "execution_count": 5,
   "metadata": {},
   "outputs": [
    {
     "data": {
      "text/plain": [
       "\u001b[0;0m\n",
       "\u001b[0;33m## threefold.simulation.environment\n",
       "\u001b[0;0m - \u001b[0;33mname                : A_dc_rack\n",
       "\u001b[0;0m - description         : \n",
       " - cost_power_kwh      : 0.15\n",
       " - cost_rack_unit      : 12\n",
       " - cost                : 508,190\n",
       " - power               : 12,898\n",
       " - rackspace_u         : 44\n",
       " - cru                 : 864\n",
       " - sru                 : 113280\n",
       " - hru                 : 4416000\n",
       " - mru                 : 6912\n",
       " - su                  : 4624\n",
       " - cu                  : 1724\n",
       " - cu_passmark         : 4,998\n",
       " - su_perc             : 76.12%\n",
       " - cu_perc             : 23.88%\n",
       " - cpr                 : 7,210\n",
       " - cost_su_capex       : 83.7\n",
       " - cost_cu_capex       : 70.4\n",
       " - cost_power          : 1,392\n",
       " - cost_rack           : 528\n",
       " - cost_month          : 10,390\n",
       " - cost_cu_month       : 1.4394545381615664\n",
       " - cost_su_month       : 1.7102898737477206\n",
       " - nr_devices          : 18\n",
       " - nr_nodes            : 16\n",
       " - sales_price_total   : 0\n",
       " - sales_price_cpr_unit: 0\n",
       "\u001b[0;0m"
      ]
     },
     "execution_count": 5,
     "metadata": {},
     "output_type": "execute_result"
    }
   ],
   "source": [
    "environment2"
   ]
  },
  {
   "cell_type": "code",
   "execution_count": 6,
   "metadata": {},
   "outputs": [
    {
     "data": {
      "text/markdown": [
       "\n",
       "### Device Details\n",
       "\n",
       "- nr of TB netto usable = 608.0 TB\n",
       "- nr of cpu cores = 32.0 Cores\n",
       "- power used = 1004 watt\n",
       "- performance in passmark = 24034\n",
       "\n"
      ],
      "text/plain": [
       "<IPython.core.display.Markdown object>"
      ]
     },
     "execution_count": 6,
     "metadata": {},
     "output_type": "execute_result"
    }
   ],
   "source": [
    "md(f\"\"\"\n",
    "### Device Details\n",
    "\n",
    "- nr of TB netto usable = {round(server.su,0)} TB\n",
    "- nr of cpu cores = {round(server.cru,1)} Cores\n",
    "- power used = {server.power} watt\n",
    "- performance in passmark = {round(server.cu_passmark*server.cu)}\n",
    "\n",
    "\"\"\")"
   ]
  },
  {
   "cell_type": "code",
   "execution_count": 7,
   "metadata": {},
   "outputs": [
    {
     "data": {
      "text/plain": [
       "\u001b[0;33m## threefold.simulation.nodesbatch\n",
       "\u001b[0;0m - \u001b[0;33mname                : custom\n",
       "\u001b[0;0m - batch_nr            : 1\n",
       " - nrnodes             : 16\n",
       " - month_start         : 1\n",
       " - months_left         : 60\n",
       " - tft_farmed_before_simulation: 0\n",
       "\n",
       "    \u001b[0;33m## threefold.simulation.nodesbatch.node\n",
       "    \u001b[0;0m - rackspace_u         : 4\n",
       "     - cost_hardware       : 55,574\n",
       "     - cpr                 : 403\n",
       "     - power               : 1004\n",
       "    \u001b[0;0m\n",
       "\n",
       " - simulated_months    : []\n",
       "\u001b[0;0m"
      ]
     },
     "execution_count": 7,
     "metadata": {},
     "output_type": "execute_result"
    }
   ],
   "source": [
    "nb.simulated_months=[]\n",
    "nb._data"
   ]
  },
  {
   "cell_type": "code",
   "execution_count": 8,
   "metadata": {},
   "outputs": [
    {
     "data": {
      "text/markdown": [
       "\n",
       "- Hardware Investment Cost for the node batch : USD 889,184\n",
       "- ROI In Months                 : 14\n"
      ],
      "text/plain": [
       "<IPython.core.display.Markdown object>"
      ]
     },
     "execution_count": 8,
     "metadata": {},
     "output_type": "execute_result"
    }
   ],
   "source": [
    "md(f\"\"\"\n",
    "- Hardware Investment Cost for the node batch : USD {nb.cost_hardware}\n",
    "- ROI In Months                 : {nb.roi_months}\n",
    "\"\"\")"
   ]
  },
  {
   "cell_type": "code",
   "execution_count": 9,
   "metadata": {},
   "outputs": [
    {
     "data": {
      "application/vnd.jupyter.widget-view+json": {
       "model_id": "818596db74f14b3eb2873e828657d535",
       "version_major": 2,
       "version_minor": 0
      },
      "text/plain": [
       "FigureWidget({\n",
       "    'data': [{'name': 'farmed',\n",
       "              'type': 'scatter',\n",
       "              'uid': '86e736cf…"
      ]
     },
     "metadata": {},
     "output_type": "display_data"
    }
   ],
   "source": [
    "nb.graph_tft(single=True)"
   ]
  },
  {
   "cell_type": "code",
   "execution_count": 10,
   "metadata": {},
   "outputs": [
    {
     "data": {
      "application/vnd.jupyter.widget-view+json": {
       "model_id": "6bc9781b0b784057acda62a79c1a0560",
       "version_major": 2,
       "version_minor": 0
      },
      "text/plain": [
       "FigureWidget({\n",
       "    'data': [{'connectgaps': False,\n",
       "              'name': 'farmed',\n",
       "              'type': 'scat…"
      ]
     },
     "metadata": {},
     "output_type": "display_data"
    }
   ],
   "source": [
    "nb.graph_usd(single=True)"
   ]
  },
  {
   "cell_type": "code",
   "execution_count": 11,
   "metadata": {},
   "outputs": [
    {
     "data": {
      "application/vnd.jupyter.widget-view+json": {
       "model_id": "d3ede840b075492e95ff12738c4692cd",
       "version_major": 2,
       "version_minor": 0
      },
      "text/plain": [
       "FigureWidget({\n",
       "    'data': [{'connectgaps': False,\n",
       "              'name': 'farmed',\n",
       "              'type': 'scat…"
      ]
     },
     "metadata": {},
     "output_type": "display_data"
    }
   ],
   "source": [
    "nb.graph_usd(single=True,cumul=True)"
   ]
  },
  {
   "cell_type": "code",
   "execution_count": 1,
   "metadata": {},
   "outputs": [
    {
     "ename": "NameError",
     "evalue": "name 'md' is not defined",
     "output_type": "error",
     "traceback": [
      "\u001b[0;31m---------------------------------------------------------------------------\u001b[0m",
      "\u001b[0;31mNameError\u001b[0m                                 Traceback (most recent call last)",
      "\u001b[0;32m<ipython-input-1-7be791f2adfa>\u001b[0m in \u001b[0;36m<module>\u001b[0;34m\u001b[0m\n\u001b[0;32m----> 1\u001b[0;31m md(f\"\"\"\n\u001b[0m\u001b[1;32m      2\u001b[0m \u001b[0;34m-\u001b[0m \u001b[0mThe\u001b[0m \u001b[0mReturn\u001b[0m \u001b[0mOn\u001b[0m \u001b[0minvestment\u001b[0m \u001b[0;32mis\u001b[0m \u001b[0mcompared\u001b[0m \u001b[0mto\u001b[0m \u001b[0mcost\u001b[0m \u001b[0mto\u001b[0m \u001b[0mbuy\u001b[0m \u001b[0mall\u001b[0m \u001b[0mthe\u001b[0m \u001b[0mhardware\u001b[0m\u001b[0;34m.\u001b[0m\u001b[0;34m\u001b[0m\u001b[0;34m\u001b[0m\u001b[0m\n\u001b[1;32m      3\u001b[0m \u001b[0;34m-\u001b[0m \u001b[0mThe\u001b[0m \u001b[0mcosts\u001b[0m \u001b[0mof\u001b[0m \u001b[0mthe\u001b[0m \u001b[0mrackspace\u001b[0m \u001b[0;32mand\u001b[0m \u001b[0mpower\u001b[0m \u001b[0mhave\u001b[0m \u001b[0mbeen\u001b[0m \u001b[0mpaid\u001b[0m \u001b[0;32mwith\u001b[0m \u001b[0mincome\u001b[0m \u001b[0mof\u001b[0m \u001b[0mTFT\u001b[0m\u001b[0;34m,\u001b[0m \u001b[0mso\u001b[0m \u001b[0mits\u001b[0m \u001b[0mthe\u001b[0m \u001b[0mnet\u001b[0m \u001b[0mresult\u001b[0m \u001b[0mwhich\u001b[0m \u001b[0;32mis\u001b[0m \u001b[0mshown\u001b[0m\u001b[0;34m.\u001b[0m\u001b[0;34m\u001b[0m\u001b[0;34m\u001b[0m\u001b[0m\n\u001b[1;32m      4\u001b[0m \u001b[0;34m-\u001b[0m \u001b[0mROI\u001b[0m \u001b[0;32mis\u001b[0m \u001b[0;32min\u001b[0m \u001b[0;34m**\u001b[0m\u001b[0;34m{\u001b[0m\u001b[0mnb\u001b[0m\u001b[0;34m.\u001b[0m\u001b[0mroi_months\u001b[0m\u001b[0;34m}\u001b[0m\u001b[0;34m**\u001b[0m \u001b[0mmonths\u001b[0m \u001b[0;34m(\u001b[0m\u001b[0mstarting\u001b[0m \u001b[0mmonth\u001b[0m\u001b[0;34m:\u001b[0m\u001b[0;34m{\u001b[0m\u001b[0mstartmonth\u001b[0m\u001b[0;34m}\u001b[0m\u001b[0;34m)\u001b[0m\u001b[0;34m.\u001b[0m\u001b[0;34m\u001b[0m\u001b[0;34m\u001b[0m\u001b[0m\n\u001b[1;32m      5\u001b[0m \u001b[0;34m-\u001b[0m \u001b[0mthe\u001b[0m \u001b[0mROI\u001b[0m \u001b[0mafter\u001b[0m \u001b[0;36m60\u001b[0m \u001b[0mmonths\u001b[0m\u001b[0;31m'\u001b[0m \u001b[0;32mis\u001b[0m\u001b[0;34m:\u001b[0m  \u001b[0;34m**\u001b[0m\u001b[0;34m{\u001b[0m\u001b[0mround\u001b[0m\u001b[0;34m(\u001b[0m\u001b[0mnb\u001b[0m\u001b[0;34m.\u001b[0m\u001b[0mroi_end\u001b[0m\u001b[0;34m,\u001b[0m\u001b[0;36m1\u001b[0m\u001b[0;34m)\u001b[0m\u001b[0;34m}\u001b[0m\u001b[0;34m**\u001b[0m\u001b[0;34m\u001b[0m\u001b[0;34m\u001b[0m\u001b[0m\n",
      "\u001b[0;31mNameError\u001b[0m: name 'md' is not defined"
     ]
    }
   ],
   "source": [
    "\n",
    "md(f\"\"\"\n",
    "- The Return On investment is compared to cost to buy all the hardware.\n",
    "- The costs of the rackspace and power have been paid with income of TFT, so its the net result which is shown.\n",
    "- ROI is in **{nb.roi_months}** months (starting month:{startmonth}).\n",
    "- the ROI after 60 months' is:  **{round(nb.roi_end,1)}**\n",
    "\"\"\")"
   ]
  },
  {
   "cell_type": "markdown",
   "metadata": {},
   "source": [
    "### Token price per month"
   ]
  },
  {
   "cell_type": "code",
   "execution_count": 13,
   "metadata": {},
   "outputs": [
    {
     "data": {
      "application/vnd.jupyter.widget-view+json": {
       "model_id": "4eb40faf7c4c4ecf8f4890c387c95567",
       "version_major": 2,
       "version_minor": 0
      },
      "text/plain": [
       "FigureWidget({\n",
       "    'data': [{'type': 'scatter',\n",
       "              'uid': '22e104db-c611-4afd-854d-cf98ad425f99',\n",
       " …"
      ]
     },
     "metadata": {},
     "output_type": "display_data"
    }
   ],
   "source": [
    "simulation.graph_token_price()"
   ]
  },
  {
   "cell_type": "code",
   "execution_count": 14,
   "metadata": {},
   "outputs": [
    {
     "data": {
      "application/vnd.jupyter.widget-view+json": {
       "model_id": "d90f988ffe594b72b5d67019558531f2",
       "version_major": 2,
       "version_minor": 0
      },
      "text/plain": [
       "FigureWidget({\n",
       "    'data': [{'name': 'new nodes',\n",
       "              'type': 'scatter',\n",
       "              'uid': 'c3916…"
      ]
     },
     "metadata": {},
     "output_type": "display_data"
    }
   ],
   "source": [
    "simulation.graph_nr_nodes()"
   ]
  }
 ],
 "metadata": {
  "kernelspec": {
   "display_name": "Python 3",
   "language": "python",
   "name": "python3"
  },
  "language_info": {
   "codemirror_mode": {
    "name": "ipython",
    "version": 3
   },
   "file_extension": ".py",
   "mimetype": "text/x-python",
   "name": "python",
   "nbconvert_exporter": "python",
   "pygments_lexer": "ipython3",
   "version": "3.7.5"
  }
 },
 "nbformat": 4,
 "nbformat_minor": 4
}
