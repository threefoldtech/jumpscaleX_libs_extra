{
 "cells": [
  {
   "cell_type": "markdown",
   "metadata": {},
   "source": [
    "# Parameters\n",
    "\n",
    "- parameters used:\n"
   ]
  },
  {
   "cell_type": "code",
   "execution_count": 2,
   "metadata": {},
   "outputs": [
    {
     "data": {
      "text/plain": [
       "\u001b[0;0m\n",
       "\u001b[0;33m## threefold.simulation.config\n",
       "\u001b[0;0m - \u001b[0;33mname                : default\n",
       "\u001b[0;0m - tft_pricing_type    : FIXED\n",
       " - tft_price_5y        : 3.00\n",
       " - node_growth         : 600,000\n",
       " - startmonth          : 1\n",
       " - hardwareconfig      : A_dc_rack\n",
       "\n",
       "    \u001b[0;33m## threefold.simulation.pricing\n",
       "    \u001b[0;0m - price_cu            : 15.00\n",
       "     - price_su            : 10.00\n",
       "     - price_nu            : 0.10\n",
       "    \u001b[0;0m\n",
       "\n",
       "\n",
       "    \u001b[0;33m## threefold.simulation.cloudindexconfig\n",
       "    \u001b[0;0m - price_cu            : 8.00\n",
       "     - price_su            : 5.00\n",
       "     - price_nu            : 0.01\n",
       "     - revenue_months      : 50\n",
       "     - margin_months       : 30\n",
       "     - indextype           : MARGIN\n",
       "     - tft_price_5y_baseline: 3\n",
       "    \u001b[0;0m\n",
       "\n",
       "\n",
       "    \u001b[0;33m## threefold.simulation.network\n",
       "    \u001b[0;0m - nu_multiplier_from_cu: 10\n",
       "     - nu_multiplier_from_su: 40\n",
       "    \u001b[0;0m\n",
       "\n",
       "\u001b[0;0m"
      ]
     },
     "execution_count": 2,
     "metadata": {},
     "output_type": "execute_result"
    }
   ],
   "source": [
    "from lib import *\n",
    "j.tools.tfgrid_simulator.simulator_config"
   ]
  },
  {
   "cell_type": "code",
   "execution_count": null,
   "metadata": {},
   "outputs": [],
   "source": []
  }
 ],
 "metadata": {
  "kernelspec": {
   "display_name": "Python 3",
   "language": "python",
   "name": "python3"
  },
  "language_info": {
   "codemirror_mode": {
    "name": "ipython",
    "version": 3
   },
   "file_extension": ".py",
   "mimetype": "text/x-python",
   "name": "python",
   "nbconvert_exporter": "python",
   "pygments_lexer": "ipython3",
   "version": "3.7.5"
  }
 },
 "nbformat": 4,
 "nbformat_minor": 4
}
