{
 "cells": [
  {
   "cell_type": "code",
   "execution_count": 1,
   "metadata": {},
   "outputs": [],
   "source": [
    "startmonth = 10\n",
    "\n",
    "#define how the nodes will grow\n",
    "# node_growth=\"0:5,6:150,12:1000,18:2000,24:8000,36:12000,48:20000,60:20000\"\n",
    "# node_growth=\"0:5,6:150,12:1000,24:5000\"\n",
    "node_growth=\"0:1000\"\n",
    "\n",
    "#tft price in 5 years, has impact on return\n",
    "tft_price=1\n",
    "\n",
    "#bill of material name\n",
    "bom_name = \"supermicro_compute\"\n",
    "\n",
    "from lib import *\n",
    "simulation = j.tools.tfgrid_simulator.simulation_get(\n",
    "            name=\"default\",\n",
    "            tokencreator_name=\"optimized\",\n",
    "            bom_name=\"amd\", #dont change here, this is the growth calc\n",
    "            node_growth=node_growth,\n",
    "            tft_growth=tft_price,\n",
    "            reload=False,\n",
    "        )\n",
    "\n",
    "#parameters for simulation\n",
    "# choose your hardware profile (other choices in stead of amd or supermicro or hpe)\n",
    "bom, environment2 = j.tools.tfgrid_simulator.bom_environment_get(bom_name)\n",
    "nb = simulation.nodesbatch_get_environment(month=startmonth, environment=environment2)\n",
    "server=environment2.node_normalized\n"
   ]
  },
  {
   "cell_type": "code",
   "execution_count": 2,
   "metadata": {},
   "outputs": [
    {
     "data": {
      "text/plain": [
       "0.0 * ## threefold.simulation.component\n",
       " - name                : hd12\n",
       " - description         : Seagate Baracuda 12TB (6-8 watt)\n",
       " - cost                : 350\n",
       " - power               : 10\n",
       " - rackspace_u         : 0\n",
       " - cru                 : 0\n",
       " - sru                 : 0\n",
       " - hru                 : 12000\n",
       " - mru                 : 0\n",
       " - su_perc             : 10000.00%\n",
       " - cu_perc             : 0.00%\n",
       " - link                : \n",
       " - passmark            : 0"
      ]
     },
     "execution_count": 2,
     "metadata": {},
     "output_type": "execute_result"
    }
   ],
   "source": [
    "server.components[\"hd12\"]"
   ]
  },
  {
   "cell_type": "code",
   "execution_count": 3,
   "metadata": {},
   "outputs": [
    {
     "ename": "TypeError",
     "evalue": "load() takes 1 positional argument but 2 were given",
     "output_type": "error",
     "traceback": [
      "\u001b[0;31m---------------------------------------------------------------------------\u001b[0m",
      "\u001b[0;31mTypeError\u001b[0m                                 Traceback (most recent call last)",
      "\u001b[0;32m<ipython-input-3-87f3aacb9981>\u001b[0m in \u001b[0;36m<module>\u001b[0;34m\u001b[0m\n\u001b[0;32m----> 1\u001b[0;31m \u001b[0menvironment2\u001b[0m\u001b[0;34m.\u001b[0m\u001b[0mdevices\u001b[0m\u001b[0;34m.\u001b[0m\u001b[0mserver\u001b[0m\u001b[0;34m[\u001b[0m\u001b[0;36m1\u001b[0m\u001b[0;34m]\u001b[0m\u001b[0;34m.\u001b[0m\u001b[0mload\u001b[0m\u001b[0;34m(\u001b[0m\u001b[0msimulation\u001b[0m\u001b[0;34m)\u001b[0m\u001b[0;34m\u001b[0m\u001b[0;34m\u001b[0m\u001b[0m\n\u001b[0m\u001b[1;32m      2\u001b[0m \u001b[0;34m\u001b[0m\u001b[0m\n",
      "\u001b[0;31mTypeError\u001b[0m: load() takes 1 positional argument but 2 were given"
     ]
    }
   ],
   "source": [
    "environment2.devices.server[1].load(simulation)\n",
    "\n"
   ]
  },
  {
   "cell_type": "code",
   "execution_count": null,
   "metadata": {},
   "outputs": [],
   "source": []
  }
 ],
 "metadata": {
  "kernelspec": {
   "display_name": "Python 3",
   "language": "python",
   "name": "python3"
  },
  "language_info": {
   "codemirror_mode": {
    "name": "ipython",
    "version": 3
   },
   "file_extension": ".py",
   "mimetype": "text/x-python",
   "name": "python",
   "nbconvert_exporter": "python",
   "pygments_lexer": "ipython3",
   "version": "3.7.5"
  }
 },
 "nbformat": 4,
 "nbformat_minor": 4
}
