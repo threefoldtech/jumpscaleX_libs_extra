{
 "cells": [
  {
   "cell_type": "code",
   "execution_count": 5,
   "metadata": {},
   "outputs": [],
   "source": [
    "import ipymaterialui as mui\n",
    "import ipywidgets as widgets"
   ]
  },
  {
   "cell_type": "code",
   "execution_count": 6,
   "metadata": {},
   "outputs": [],
   "source": [
    "text1 = \"Jupyter\"\n",
    "text2 = \"Jupyter Widgets\"\n",
    "text3 = \"Material UI\"\n",
    "text4 = \"React\"\n",
    "texts = [text1, text2, text3, text4]"
   ]
  },
  {
   "cell_type": "code",
   "execution_count": 7,
   "metadata": {},
   "outputs": [],
   "source": [
    "chip = mui.Chip(label=text1)"
   ]
  },
  {
   "cell_type": "code",
   "execution_count": 8,
   "metadata": {},
   "outputs": [
    {
     "data": {
      "application/vnd.jupyter.widget-view+json": {
       "model_id": "5558d10ca81f4ba591c1a0b344da5b29",
       "version_major": 2,
       "version_minor": 0
      },
      "text/plain": [
       "Chip(label='Jupyter')"
      ]
     },
     "metadata": {},
     "output_type": "display_data"
    }
   ],
   "source": [
    "chip"
   ]
  },
  {
   "cell_type": "code",
   "execution_count": 9,
   "metadata": {},
   "outputs": [
    {
     "data": {
      "application/vnd.jupyter.widget-view+json": {
       "model_id": "12183b094bfa44c1bd7f42dc073552c7",
       "version_major": 2,
       "version_minor": 0
      },
      "text/plain": [
       "Html(children=[Chip(label='Jupyter'), Chip(label='Jupyter Widgets'), Chip(label='Material UI'), Chip(label='Re…"
      ]
     },
     "metadata": {},
     "output_type": "display_data"
    }
   ],
   "source": [
    "# the baseclass is just a \n",
    "chips = [mui.Chip(label=text) for text in texts]\n",
    "chips_div = mui.Html(tag='div', children=chips)\n",
    "chips_div"
   ]
  },
  {
   "cell_type": "code",
   "execution_count": 10,
   "metadata": {},
   "outputs": [
    {
     "data": {
      "application/vnd.jupyter.widget-view+json": {
       "model_id": "63c4b4f2d35943b2b8fbf894d353d58f",
       "version_major": 2,
       "version_minor": 0
      },
      "text/plain": [
       "VBox(children=(Button(children='Jupyter Widgets'), Output()))"
      ]
     },
     "metadata": {},
     "output_type": "display_data"
    }
   ],
   "source": [
    "out = widgets.Output()\n",
    "b = mui.Button(children=text2)\n",
    "@out.capture()\n",
    "def click(button, event, data):\n",
    "    print(text3)\n",
    "b.on_event('onClick', click)\n",
    "widgets.VBox([b, out])"
   ]
  },
  {
   "cell_type": "code",
   "execution_count": 11,
   "metadata": {},
   "outputs": [
    {
     "data": {
      "application/vnd.jupyter.widget-view+json": {
       "model_id": "fbf44e0bfeb94d9588b489c9c48aa342",
       "version_major": 2,
       "version_minor": 0
      },
      "text/plain": [
       "VBox(children=(Checkbox(value=False, description='Jupyter'), Checkbox(checked=True, component=None)))"
      ]
     },
     "metadata": {},
     "output_type": "display_data"
    }
   ],
   "source": [
    "# seems like the checkbox does not support children\n",
    "checkbox_mui = mui.Checkbox(checked=True, description=text4)\n",
    "checkbox_classic = widgets.Checkbox(description=text1)\n",
    "widgets.jslink((checkbox_mui, 'checked'), (checkbox_classic, 'value'))\n",
    "widgets.VBox([checkbox_classic, checkbox_mui])"
   ]
  },
  {
   "cell_type": "code",
   "execution_count": 12,
   "metadata": {},
   "outputs": [
    {
     "data": {
      "application/vnd.jupyter.widget-view+json": {
       "model_id": "e8fa23d91f1f4ce29e16a81ae14660bb",
       "version_major": 2,
       "version_minor": 0
      },
      "text/plain": [
       "ToggleButton(children='Jupyter Widgets', selected=True, value='dummy')"
      ]
     },
     "metadata": {},
     "output_type": "display_data"
    }
   ],
   "source": [
    "toggle_button = mui.ToggleButton(children=text2, selected=True, value='dummy')\n",
    "widgets.jslink((toggle_button, 'selected'), (checkbox_classic, 'value'))\n",
    "toggle_button"
   ]
  },
  {
   "cell_type": "code",
   "execution_count": 13,
   "metadata": {},
   "outputs": [],
   "source": [
    "menuitems = [\n",
    "    mui.MenuItem(children=text1, value='1'),\n",
    "    mui.MenuItem(children=text2, value='2'),\n",
    "    mui.MenuItem(children=text3, value='3')\n",
    "]\n",
    "menu = mui.Menu(children=menuitems)"
   ]
  },
  {
   "cell_type": "code",
   "execution_count": 17,
   "metadata": {},
   "outputs": [
    {
     "data": {
      "application/vnd.jupyter.widget-view+json": {
       "model_id": "b10a6b40d46440c69a64680181d2563f",
       "version_major": 2,
       "version_minor": 0
      },
      "text/plain": [
       "List(children=[ListItem(children=[ListItemText(primary='Jupyter', secondary='Material UI')], divider=True), Li…"
      ]
     },
     "metadata": {},
     "output_type": "display_data"
    }
   ],
   "source": [
    "# Nice looking lists, the 3rd acting like a button\n",
    "list_items = [\n",
    "    mui.ListItem(children=[mui.ListItemText(primary=text1, secondary=text3)], divider=True),\n",
    "    mui.ListItem(children=[mui.ListItemText(primary=text2, secondary=text4)], divider=True),\n",
    "    mui.ListItem(children=[mui.ListItemText(primary=text3, secondary=text1)], divider=True, button=True),\n",
    "    mui.ListItem(children=[mui.ListItemText(primary=text4, secondary=text2)], divider=True)\n",
    "]\n",
    "mui.List(children=list_items)"
   ]
  },
  {
   "cell_type": "code",
   "execution_count": 18,
   "metadata": {},
   "outputs": [
    {
     "data": {
      "application/vnd.jupyter.widget-view+json": {
       "model_id": "af9bdbf66c9e4f2094972d338f86fdff",
       "version_major": 2,
       "version_minor": 0
      },
      "text/plain": [
       "ListItem(button=True, children=[ListItemText(primary='React', secondary='Jupyter')])"
      ]
     },
     "metadata": {},
     "output_type": "display_data"
    }
   ],
   "source": [
    "# For the moment only list items can be used for popup menus\n",
    "# This needs a more generic solution?\n",
    "list_item_text = mui.ListItemText(primary=text4, secondary=text1, button=True)\n",
    "list_item = mui.ListItem(children=[list_item_text], button=True, menu=menu)\n",
    "list_item"
   ]
  },
  {
   "cell_type": "code",
   "execution_count": 23,
   "metadata": {},
   "outputs": [
    {
     "data": {
      "application/vnd.jupyter.widget-view+json": {
       "model_id": "3fe7fba7b88943c989520866fb48e59e",
       "version_major": 2,
       "version_minor": 0
      },
      "text/plain": [
       "ToggleButtonGroup(children=[ToggleButton(children='v1', value=Chip(label='Jupyter')), ToggleButton(children='v…"
      ]
     },
     "metadata": {},
     "output_type": "display_data"
    }
   ],
   "source": [
    "# Unlike standard ipywidgets (controls) values can be often be widgets\n",
    "toggle_buttons = [\n",
    "    mui.ToggleButton(children='v1', value=chips[0]),\n",
    "    mui.ToggleButton(children='v2', value=chips[1]),\n",
    "    mui.ToggleButton(children='v3', value=chips[2]),\n",
    "    mui.ToggleButton(children='v4', value=chips[3]),\n",
    "]\n",
    "toggle_button_group = mui.ToggleButtonGroup(\n",
    "    value=[chips[2]],\n",
    "    children=toggle_buttons,\n",
    "    exclusive=False)\n",
    "toggle_button_group"
   ]
  },
  {
   "cell_type": "code",
   "execution_count": 24,
   "metadata": {},
   "outputs": [
    {
     "data": {
      "application/vnd.jupyter.widget-view+json": {
       "model_id": "e9c6bc1b992745309310f4b93aff0b79",
       "version_major": 2,
       "version_minor": 0
      },
      "text/plain": [
       "Html(tag='div')"
      ]
     },
     "metadata": {},
     "output_type": "display_data"
    }
   ],
   "source": [
    "# these values can be jslinked, to create dynamic layout easy\n",
    "div = mui.Html(tag='div')\n",
    "widgets.jslink((toggle_button_group, 'value'), (div, 'children'))\n",
    "div"
   ]
  },
  {
   "cell_type": "code",
   "execution_count": 25,
   "metadata": {},
   "outputs": [],
   "source": [
    "div.children = [chips[2]]"
   ]
  },
  {
   "cell_type": "code",
   "execution_count": 26,
   "metadata": {},
   "outputs": [
    {
     "data": {
      "application/vnd.jupyter.widget-view+json": {
       "model_id": "b6f0477cf7d24b58b6cac2e0db4fb4a4",
       "version_major": 2,
       "version_minor": 0
      },
      "text/plain": [
       "ToggleButtonGroup(children=[ToggleButton(children='v1', value=Chip(label='Jupyter')), ToggleButton(children='v…"
      ]
     },
     "metadata": {},
     "output_type": "display_data"
    }
   ],
   "source": [
    "# similar for an exclusive toggle button\n",
    "toggle_buttons = [\n",
    "    mui.ToggleButton(children='v1', value=chips[0]),\n",
    "    mui.ToggleButton(children='v2', value=chips[1]),\n",
    "    mui.ToggleButton(children='v3', value=chips[2]),\n",
    "    mui.ToggleButton(children='v4', value=chips[3]),\n",
    "]\n",
    "toggle_button_group = mui.ToggleButtonGroup(\n",
    "    value=chips[2],\n",
    "    children=toggle_buttons,\n",
    "    exclusive=True)\n",
    "toggle_button_group"
   ]
  },
  {
   "cell_type": "code",
   "execution_count": 27,
   "metadata": {},
   "outputs": [
    {
     "data": {
      "application/vnd.jupyter.widget-view+json": {
       "model_id": "2e4635fdda8847bd8561cb48c6e0794e",
       "version_major": 2,
       "version_minor": 0
      },
      "text/plain": [
       "Html(tag='div')"
      ]
     },
     "metadata": {},
     "output_type": "display_data"
    }
   ],
   "source": [
    "# here we use the convenience attribute 'child'\n",
    "div = mui.Html(tag='div')\n",
    "widgets.jslink((toggle_button_group, 'value'), (div, 'children'))\n",
    "div"
   ]
  },
  {
   "cell_type": "code",
   "execution_count": 30,
   "metadata": {},
   "outputs": [
    {
     "data": {
      "application/vnd.jupyter.widget-view+json": {
       "model_id": "73a272518b81464db565099df169d477",
       "version_major": 2,
       "version_minor": 0
      },
      "text/plain": [
       "Select(children=[MenuItem(children='Jupyter', value=Chip(label='Jupyter')), MenuItem(children='Jupyter Widgets…"
      ]
     },
     "metadata": {},
     "output_type": "display_data"
    }
   ],
   "source": [
    "# Most controls, like select come without a label\n",
    "menu_items = [\n",
    "    mui.MenuItem(children=text1, value=chips[0]),\n",
    "    mui.MenuItem(children=text2, value=chips[1]),\n",
    "    mui.MenuItem(children=text3, value=chips[2])\n",
    "]\n",
    "# No selection is equivalent to '' (idea: use None for Python and undefined in js)\n",
    "select = mui.Select(value='', children=menu_items, multiple=False)\n",
    "select"
   ]
  },
  {
   "cell_type": "code",
   "execution_count": 31,
   "metadata": {},
   "outputs": [
    {
     "data": {
      "application/vnd.jupyter.widget-view+json": {
       "model_id": "bf1e30d2bcf24ecd8c877b499caf51f6",
       "version_major": 2,
       "version_minor": 0
      },
      "text/plain": [
       "FormControl(children=[InputLabel(children='Text value'), Select(children=[MenuItem(children='Jupyter', value=C…"
      ]
     },
     "metadata": {},
     "output_type": "display_data"
    }
   ],
   "source": [
    "# Using it in combination with InputLabel and FormControl\n",
    "input_label = mui.InputLabel(children='Text value', placeholder='lala')\n",
    "# style is a dict with css key/values\n",
    "form_control = mui.FormControl(children=[input_label, select], style_={'width': '198px'})\n",
    "form_control"
   ]
  },
  {
   "cell_type": "code",
   "execution_count": 32,
   "metadata": {},
   "outputs": [
    {
     "data": {
      "application/vnd.jupyter.widget-view+json": {
       "model_id": "3e90e9b292224379bc349236a0bbb1b4",
       "version_major": 2,
       "version_minor": 0
      },
      "text/plain": [
       "FormControl(children=[InputLabel(children='Selection'), Select(children=[MenuItem(children='Jupyter', value=0)…"
      ]
     },
     "metadata": {},
     "output_type": "display_data"
    }
   ],
   "source": [
    "# Select can also be used to select multiple values\n",
    "# values can be heterogeneous, ints, floats, strings, or widgets are supported\n",
    "menu_items = [\n",
    "    mui.MenuItem(children=text1, value=0),\n",
    "    mui.MenuItem(children=text2, value='1'),\n",
    "    mui.MenuItem(children=text3, value=3.14)\n",
    "]\n",
    "select_multiple = mui.Select(value=['1', 3.14], children=menu_items, multiple=True, style_={'width': '248px'})\n",
    "menu = mui.Menu(children=menuitems)\n",
    "input_label = mui.InputLabel(children='Selection')\n",
    "form_control = mui.FormControl(children=[input_label, select_multiple])\n",
    "form_control"
   ]
  },
  {
   "cell_type": "code",
   "execution_count": 33,
   "metadata": {},
   "outputs": [],
   "source": [
    "select_multiple.value = []\n",
    "input_label.description = 'New selection'"
   ]
  },
  {
   "cell_type": "code",
   "execution_count": 34,
   "metadata": {},
   "outputs": [
    {
     "data": {
      "application/vnd.jupyter.widget-view+json": {
       "model_id": "815b057564364ffeadcdd5b6449af129",
       "version_major": 2,
       "version_minor": 0
      },
      "text/plain": [
       "TextField(label='Name', placeholder='e.g. Maarten Breddels')"
      ]
     },
     "metadata": {},
     "output_type": "display_data"
    }
   ],
   "source": [
    "text_field = mui.TextField(placeholder='e.g. Maarten Breddels', label='Name')\n",
    "text_field"
   ]
  },
  {
   "cell_type": "code",
   "execution_count": 35,
   "metadata": {},
   "outputs": [
    {
     "data": {
      "application/vnd.jupyter.widget-view+json": {
       "model_id": "53f0f045b0a74ec8aa33c15e9051eb07",
       "version_major": 2,
       "version_minor": 0
      },
      "text/plain": [
       "Tabs(children=[Tab(component=None, label='Tab: Jupyter', value=Chip(label='Jupyter')), Tab(component=None, lab…"
      ]
     },
     "metadata": {},
     "output_type": "display_data"
    }
   ],
   "source": [
    "# Tabs/Tab in MaterialUI are only the 'header' of tabs, use the .value together with \n",
    "# jslink and a Div widget to implement a real tab\n",
    "tabs = mui.Tabs(children=[mui.Tab(label='Tab: ' +chip.label, value=chip) for chip in chips], value=chips[2])\n",
    "tabs"
   ]
  },
  {
   "cell_type": "code",
   "execution_count": 36,
   "metadata": {},
   "outputs": [
    {
     "data": {
      "application/vnd.jupyter.widget-view+json": {
       "model_id": "b3e49b64676148ecafcec264eb9751f3",
       "version_major": 2,
       "version_minor": 0
      },
      "text/plain": [
       "Html(tag='div')"
      ]
     },
     "metadata": {},
     "output_type": "display_data"
    }
   ],
   "source": [
    "tabDiv = mui.Html(tag='div')\n",
    "widgets.jslink((tabs, 'value'), (tabDiv, 'children'))\n",
    "tabDiv"
   ]
  },
  {
   "cell_type": "code",
   "execution_count": 37,
   "metadata": {},
   "outputs": [
    {
     "data": {
      "application/vnd.jupyter.widget-view+json": {
       "model_id": "59739257aca04432b091cd914a9f6f44",
       "version_major": 2,
       "version_minor": 0
      },
      "text/plain": [
       "Html(children=[Tabs(children=[Tab(component=None, label='Tab: Jupyter', value=Html(children='Jupyter', tag='di…"
      ]
     },
     "metadata": {},
     "output_type": "display_data"
    }
   ],
   "source": [
    "# putting this together with some Div placeholders\n",
    "divs = [mui.Html(tag='div', children=text) for text in texts]\n",
    "tabs = mui.Tabs(children=[mui.Tab(label='Tab: ' +text, value=div) for div, text in zip(divs, texts)], value=divs[1])\n",
    "div = mui.Html(tag='div')\n",
    "widgets.jslink((tabs, 'value'),(div, 'children'))\n",
    "mui.Html(tag='div', children=[tabs, div])"
   ]
  },
  {
   "cell_type": "code",
   "execution_count": 38,
   "metadata": {},
   "outputs": [],
   "source": [
    "# again, styling with style dict\n",
    "for k, color in enumerate('red green blue orange'.split()):\n",
    "    divs[k].style_ = {'color': color}\n",
    "#     tabs.children[k].style = {'backgroundColor': color}"
   ]
  },
  {
   "cell_type": "code",
   "execution_count": 39,
   "metadata": {},
   "outputs": [
    {
     "data": {
      "application/vnd.jupyter.widget-view+json": {
       "model_id": "ec6d66d4fdaf4b75a1d4c804bd61d619",
       "version_major": 2,
       "version_minor": 0
      },
      "text/plain": [
       "Switch(checked=False, component=None)"
      ]
     },
     "metadata": {},
     "output_type": "display_data"
    }
   ],
   "source": [
    "switch = mui.Switch(checked=False)\n",
    "switch"
   ]
  },
  {
   "cell_type": "code",
   "execution_count": 40,
   "metadata": {},
   "outputs": [
    {
     "data": {
      "text/plain": [
       "False"
      ]
     },
     "execution_count": 40,
     "metadata": {},
     "output_type": "execute_result"
    }
   ],
   "source": [
    "switch.checked"
   ]
  },
  {
   "cell_type": "code",
   "execution_count": 41,
   "metadata": {},
   "outputs": [],
   "source": [
    "switch.checked = False"
   ]
  },
  {
   "cell_type": "code",
   "execution_count": 42,
   "metadata": {},
   "outputs": [
    {
     "data": {
      "application/vnd.jupyter.widget-view+json": {
       "model_id": "02dcd68ef602446798a496427a9da6a7",
       "version_major": 2,
       "version_minor": 0
      },
      "text/plain": [
       "FormControlLabel(control=Switch(checked=False, component=None), label='Multiple selection')"
      ]
     },
     "metadata": {},
     "output_type": "display_data"
    }
   ],
   "source": [
    "switch_form = mui.FormControlLabel(control=switch, label='Multiple selection')\n",
    "switch_form"
   ]
  },
  {
   "cell_type": "code",
   "execution_count": null,
   "metadata": {},
   "outputs": [],
   "source": []
  },
  {
   "cell_type": "code",
   "execution_count": 43,
   "metadata": {},
   "outputs": [
    {
     "data": {
      "application/vnd.jupyter.widget-view+json": {
       "model_id": "50019dfa5c384681b0dda7b3bb9c1556",
       "version_major": 2,
       "version_minor": 0
      },
      "text/plain": [
       "FormControl(children=[InputLabel(children='Selection'), Select(children=[MenuItem(button=False, children=FormC…"
      ]
     },
     "metadata": {},
     "output_type": "display_data"
    }
   ],
   "source": [
    "# Select can also be used to select multiple values\n",
    "# values can be heterogeneous, ints, floats, strings, or widgets are supported\n",
    "menu_items = [\n",
    "    mui.MenuItem(children=switch_form, button=False),\n",
    "    mui.MenuItem(children=text1, value=0),\n",
    "    mui.MenuItem(children=text2, value='1'),\n",
    "    mui.MenuItem(children=text3, value=3.14)\n",
    "]\n",
    "select_multiple = mui.Select(value=['1', 3.14], children=menu_items, multiple=True, style_={'width': '248px'})\n",
    "menu = mui.Menu(children=menu_items)\n",
    "input_label = mui.InputLabel(children='Selection')\n",
    "form_control = mui.FormControl(children=[input_label, select_multiple])\n",
    "form_control"
   ]
  },
  {
   "cell_type": "code",
   "execution_count": 44,
   "metadata": {},
   "outputs": [],
   "source": [
    "menuitems = [\n",
    "    mui.MenuItem(children=switch_form),\n",
    "    mui.MenuItem(children=text1),\n",
    "    mui.MenuItem(children=text2),\n",
    "    mui.MenuItem(children=text3)\n",
    "]\n"
   ]
  },
  {
   "cell_type": "code",
   "execution_count": 45,
   "metadata": {},
   "outputs": [
    {
     "data": {
      "application/vnd.jupyter.widget-view+json": {
       "model_id": "0d29872d991e487981bd87ff2563417a",
       "version_major": 2,
       "version_minor": 0
      },
      "text/plain": [
       "List(children=[ListItem(button=True, children=[ListItemText(primary='React', secondary='Jupyter')]), Menu(anch…"
      ]
     },
     "metadata": {},
     "output_type": "display_data"
    }
   ],
   "source": [
    "# For the moment only list items can be used for popup menus\n",
    "# This needs a more generic solution?\n",
    "def toggle_menu(widget, event, data):\n",
    "    menu2.open_ = not menu2.open_\n",
    "\n",
    "for item in menuitems:\n",
    "    item.on_event('onClick', toggle_menu)\n",
    "    \n",
    "list_item_text = mui.ListItemText(primary=text4, secondary=text1, button=True)\n",
    "list_item = mui.ListItem(children=[list_item_text], button=True)\n",
    "list_item.on_event('onClick', toggle_menu)\n",
    "\n",
    "menu2 = mui.Menu(anchor_el=list_item, keep_mounted=True, open_=False, children=menuitems)\n",
    "menu2.on_event('onClose', toggle_menu)\n",
    "mui.List(children=[list_item, menu2])"
   ]
  },
  {
   "cell_type": "code",
   "execution_count": null,
   "metadata": {},
   "outputs": [],
   "source": []
  },
  {
   "cell_type": "code",
   "execution_count": null,
   "metadata": {
    "slideshow": {
     "slide_type": "slide"
    }
   },
   "outputs": [],
   "source": []
  }
 ],
 "metadata": {
  "kernelspec": {
   "display_name": "Python 3",
   "language": "python",
   "name": "python3"
  },
  "language_info": {
   "codemirror_mode": {
    "name": "ipython",
    "version": 3
   },
   "file_extension": ".py",
   "mimetype": "text/x-python",
   "name": "python",
   "nbconvert_exporter": "python",
   "pygments_lexer": "ipython3",
   "version": "3.6.8"
  }
 },
 "nbformat": 4,
 "nbformat_minor": 4
}
