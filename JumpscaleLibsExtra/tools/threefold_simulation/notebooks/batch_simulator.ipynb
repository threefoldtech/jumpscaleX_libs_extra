{
 "cells": [
  {
   "cell_type": "markdown",
   "metadata": {},
   "source": [
    "# Simulation for 1 batch of 20 nodes, starting month 1"
   ]
  },
  {
   "cell_type": "code",
   "execution_count": 1,
   "metadata": {},
   "outputs": [],
   "source": [
    "from lib import *\n",
    "from params_bom_hardware_components import *\n",
    "startmonth = 24"
   ]
  },
  {
   "cell_type": "markdown",
   "metadata": {},
   "source": [
    "## input arguments"
   ]
  },
  {
   "cell_type": "code",
   "execution_count": 2,
   "metadata": {},
   "outputs": [
    {
     "data": {
      "text/markdown": [
       "```python\n",
       "\n",
       "\n",
       "environment.cost_power_kwh = \"0.15 USD\"\n",
       "environment.cost_rack_unit = \"12 USD\"\n",
       "environment.bandwidth_mbit = 20\n",
       "\n",
       "# sales arguments\n",
       "environment.sales_price_cu = \"10 USD\"\n",
       "environment.sales_price_su = \"6 USD\"\n",
       "\n",
       "device_edge = simulation.device_get(\"edge1\")\n",
       "# print(d1)\n",
       "\n",
       "switch = simulation.device_get(\"switch\")\n",
       "\n",
       "environment.device_add(\"edge1\", device_edge, 20)\n",
       "environment.device_add(\"switch\", switch, 2)\n",
       "\n",
       "# month:growth_percent of nodes being added\n",
       "simulation.growth_percent_set(\"3:5,11:8,24:10,36:12,48:10,60:10,61:0\")\n",
       "\n",
       "# means at end of period we produce 40% more cpr (*1.4)\n",
       "# cpr = capacity production rate (is like hashrate of bitcoin)\n",
       "simulation.cpr_improve_set(\"71:40\")\n",
       "\n",
       "# price of a capacity unit goes down over time, here we say it will go down 40%\n",
       "# means we expect price to be lowered by X e.g. 40 (*0.6)\n",
       "simulation.cpr_sales_price_decline_set(\"0:0,71:40\")\n",
       "\n",
       "# utilization of the nodes, strating with 0\n",
       "simulation.utilization_set(\"20:80,40:90\")\n",
       "\n",
       "# super important factor, how does token price goes up, this is ofcourse complete speculation, no-one knows\n",
       "simulation.tokenprice_set(\"0:0.15,71:2\")\n",
       "\n",
       "# simulation.difficulty_level_set(\"0:2,71:50\")\n",
       "simulation.difficulty_level_set(\"0:2,71:2\")\n",
       "\n",
       "```"
      ],
      "text/plain": [
       "<IPython.core.display.Markdown object>"
      ]
     },
     "execution_count": 2,
     "metadata": {},
     "output_type": "execute_result"
    }
   ],
   "source": [
    "from params_environment import *\n",
    "md_code(\"params_environment.py\")"
   ]
  },
  {
   "cell_type": "markdown",
   "metadata": {},
   "source": [
    "## Template Environment Overview (20 servers)"
   ]
  },
  {
   "cell_type": "code",
   "execution_count": 3,
   "metadata": {},
   "outputs": [
    {
     "data": {
      "text/plain": [
       "\u001b[0;0m\n",
       "\u001b[0;33m## threefold.simulation.environment\n",
       "\u001b[0;0m - \u001b[0;33mname                : default\n",
       "\u001b[0;0m - description         : \n",
       " - cost_power_kwh      : 0.15\n",
       " - cost_rack_unit      : 12\n",
       " - cost                : 81,540\n",
       " - power               : 4,640\n",
       " - rackspace_u         : 402\n",
       " - cru                 : 320\n",
       " - sru                 : 20000\n",
       " - hru                 : 1200000\n",
       " - mru                 : 2560\n",
       " - su                  : 1166\n",
       " - cu                  : 634\n",
       " - cu_passmark         : 771\n",
       " - su_perc             : 62.95%\n",
       " - cu_perc             : 37.05%\n",
       " - cpr                 : 2,118\n",
       " - cost_su_capex       : 44.0\n",
       " - cost_cu_capex       : 47.6\n",
       " - cost_power          : 501\n",
       " - cost_rack           : 4,824\n",
       " - cost_month          : 6,684\n",
       " - cost_cu_month       : 3.9\n",
       " - cost_su_month       : 3.61\n",
       " - bandwidth_mbit      : 20\n",
       " - cost_bandwidth      : 0\n",
       " - nr_devices          : 20\n",
       " - sales_price_cu      : 10\n",
       " - sales_price_su      : 6\n",
       " - sales_price_nu      : 0\n",
       " - sales_price_total   : 13,345\n",
       " - sales_price_cpr_unit: 6.3\n",
       "\u001b[0;0m"
      ]
     },
     "execution_count": 3,
     "metadata": {},
     "output_type": "execute_result"
    }
   ],
   "source": [
    "environment"
   ]
  },
  {
   "cell_type": "markdown",
   "metadata": {},
   "source": [
    "## Node Overview (= 1 server)"
   ]
  },
  {
   "cell_type": "code",
   "execution_count": 4,
   "metadata": {
    "jupyter": {
     "source_hidden": true
    }
   },
   "outputs": [
    {
     "data": {
      "text/plain": [
       "\u001b[0;0m\n",
       "\u001b[0;33m## threefold.simulation.device\n",
       "\u001b[0;0m - \u001b[0;33mname                : edge1\n",
       "\u001b[0;0m - description         : \n",
       " - device_template_name: edge1\n",
       " - cost                : 3,627\n",
       " - power               : 222\n",
       " - rackspace_u         : 20\n",
       " - cru                 : 16\n",
       " - sru                 : 1000\n",
       " - hru                 : 60000\n",
       " - mru                 : 128\n",
       " - su                  : 58\n",
       " - cu                  : 31\n",
       " - cu_passmark         : 771\n",
       " - su_perc             : 62.95%\n",
       " - cu_perc             : 37.05%\n",
       " - cpr                 : 105\n",
       " - cost_su_capex       : 39.1\n",
       " - cost_cu_capex       : 42.3\n",
       " - cost_power          : 0\n",
       " - cost_rack           : 0\n",
       " - cost_month          : 60.5\n",
       " - cost_cu_month       : 0.71\n",
       " - cost_su_month       : 0.65\n",
       "\u001b[0;0m"
      ]
     },
     "execution_count": 4,
     "metadata": {},
     "output_type": "execute_result"
    }
   ],
   "source": [
    "device_edge"
   ]
  },
  {
   "cell_type": "code",
   "execution_count": 5,
   "metadata": {},
   "outputs": [
    {
     "data": {
      "text/markdown": [
       "\n",
       "### Device Details\n",
       "\n",
       "- nr of TB netto usable = 58.3 TB\n",
       "- nr of cpu cores = 16.0 Cores\n",
       "- power used = 222 watt\n",
       "- performance in passmark = 24479\n",
       "\n"
      ],
      "text/plain": [
       "<IPython.core.display.Markdown object>"
      ]
     },
     "execution_count": 5,
     "metadata": {},
     "output_type": "execute_result"
    }
   ],
   "source": [
    "md(f\"\"\"\n",
    "### Device Details\n",
    "\n",
    "- nr of TB netto usable = {round(device_edge.su,1)} TB\n",
    "- nr of cpu cores = {round(device_edge.cru,1)} Cores\n",
    "- power used = {device_edge.power} watt\n",
    "- performance in passmark = {round(device_edge.cu_passmark*device_edge.cu)}\n",
    "\n",
    "\"\"\")"
   ]
  },
  {
   "cell_type": "code",
   "execution_count": 6,
   "metadata": {},
   "outputs": [
    {
     "data": {
      "text/markdown": [
       "## Simulate Return of 20 Nodes starting at month 24"
      ],
      "text/plain": [
       "<IPython.core.display.Markdown object>"
      ]
     },
     "execution_count": 6,
     "metadata": {},
     "output_type": "execute_result"
    }
   ],
   "source": [
    "md(f\"## Simulate Return of 20 Nodes starting at month {startmonth}\")"
   ]
  },
  {
   "cell_type": "code",
   "execution_count": 7,
   "metadata": {},
   "outputs": [
    {
     "data": {
      "text/plain": [
       "\u001b[0;33m## threefold.simulation.nodesbatch\n",
       "\u001b[0;0m - batch_nr            : 24\n",
       " - nrnodes             : 20\n",
       " - month_start         : 24\n",
       " - months_left         : 60\n",
       " - tft_farmed_before_simulation: 0\n",
       "\n",
       "    \u001b[0;33m## threefold.simulation.nodesbatch.node\n",
       "    \u001b[0;0m - rackspace_u         : 20\n",
       "     - cost_hardware       : 4,077\n",
       "     - cpr                 : 120\n",
       "     - power               : 232\n",
       "    \u001b[0;0m\n",
       "\n",
       "\u001b[0;0m"
      ]
     },
     "execution_count": 7,
     "metadata": {},
     "output_type": "execute_result"
    }
   ],
   "source": [
    "nb=simulation.nodesbatch_calc(month=startmonth, nrnodes_new=20)\n",
    "nb._data"
   ]
  },
  {
   "cell_type": "code",
   "execution_count": 8,
   "metadata": {},
   "outputs": [
    {
     "data": {
      "text/markdown": [
       "\n",
       "- Hardware Investment Cost for the node batch : USD 81,540\n",
       "- ROI In Months                 : 9\n"
      ],
      "text/plain": [
       "<IPython.core.display.Markdown object>"
      ]
     },
     "execution_count": 8,
     "metadata": {},
     "output_type": "execute_result"
    }
   ],
   "source": [
    "md(f\"\"\"\n",
    "- Hardware Investment Cost for the node batch : USD {nb.cost_hardware}\n",
    "- ROI In Months                 : {nb.roi_months}\n",
    "\"\"\")"
   ]
  },
  {
   "cell_type": "code",
   "execution_count": 9,
   "metadata": {},
   "outputs": [
    {
     "data": {
      "application/vnd.jupyter.widget-view+json": {
       "model_id": "b39c00f07c0d4622a95d58d21755e8c8",
       "version_major": 2,
       "version_minor": 0
      },
      "text/plain": [
       "VBox(children=(Figure(axes=[Axis(scale=LinearScale()), Axis(orientation='vertical', scale=LinearScale())], fig…"
      ]
     },
     "metadata": {},
     "output_type": "display_data"
    }
   ],
   "source": [
    "plt.figure(title='TFT Farmed, Cultivated, Sold, Burned')\n",
    "names=[\"farmed\",\"cultivated\",\"sold\",\"burned\",\"total\"]\n",
    "colors=[\"orange\",\"green\",\"blue\",\"yellow\",\"red\"]\n",
    "pos=[1,1,-1,-1,1]\n",
    "x=30\n",
    "for i in range(5):\n",
    "    name=names[i]\n",
    "    color=colors[i]\n",
    "    cells=[]\n",
    "    for x in range(startmonth,60+startmonth):\n",
    "        y=nb.sheet.rows[\"tft_%s\"%name].cells[x]*pos[i]\n",
    "        cells.append(y)    \n",
    "    line=plt.plot(np.arange(60),cells,colors=[color])\n",
    "    label = plt.label([name], x=[30],y=[cells[30]+100], colors=[color])\n",
    "\n",
    "plt.show()"
   ]
  },
  {
   "cell_type": "code",
   "execution_count": 10,
   "metadata": {},
   "outputs": [
    {
     "data": {
      "application/vnd.jupyter.widget-view+json": {
       "model_id": "832f6ebefe22453ea94df0a1d4358874",
       "version_major": 2,
       "version_minor": 0
      },
      "text/plain": [
       "VBox(children=(Figure(axes=[Axis(scale=LinearScale()), Axis(orientation='vertical', scale=LinearScale())], fig…"
      ]
     },
     "metadata": {},
     "output_type": "display_data"
    }
   ],
   "source": [
    "plt.figure(title='Income in USD for the tokens')\n",
    "names=[\"farmed\",\"cultivated\",\"sold\",\"burned\",\"total\"]\n",
    "colors=[\"orange\",\"green\",\"blue\",\"yellow\",\"red\"]\n",
    "pos=[1,1,-1,-1,1]\n",
    "for i in range(5):\n",
    "    name=names[i]\n",
    "    color=colors[i]\n",
    "    cells=[]\n",
    "    for x in range(startmonth,60+startmonth):\n",
    "        y=nb.sheet.rows[\"tft_%s\"%name].cells[x]*float(simulation.tft_price_get(x))*pos[i]  \n",
    "        cells.append(y)\n",
    "    line=plt.plot(np.arange(60),cells,colors=[color])\n",
    "    label = plt.label([name], x=[30],y=[cells[30]+100], colors=[color])\n",
    "\n",
    "plt.show()"
   ]
  },
  {
   "cell_type": "code",
   "execution_count": 11,
   "metadata": {},
   "outputs": [
    {
     "data": {
      "application/vnd.jupyter.widget-view+json": {
       "model_id": "97efb3bbda9f4d3f971ee0d5d3511c56",
       "version_major": 2,
       "version_minor": 0
      },
      "text/plain": [
       "VBox(children=(Figure(axes=[Axis(scale=LinearScale()), Axis(orientation='vertical', scale=LinearScale())], fig…"
      ]
     },
     "metadata": {},
     "output_type": "display_data"
    },
    {
     "data": {
      "application/vnd.jupyter.widget-view+json": {
       "model_id": "ea452f6c0177491f9e2b3a505f86ca0a",
       "version_major": 2,
       "version_minor": 0
      },
      "text/plain": [
       "VBox(children=(Figure(axes=[Axis(scale=LinearScale()), Axis(orientation='vertical', scale=LinearScale())], fig…"
      ]
     },
     "metadata": {},
     "output_type": "display_data"
    },
    {
     "data": {
      "text/markdown": [
       "\n",
       "- The Return On investment is compared to cost to buy all the hardware.\n",
       "- The costs of the rackspace and power have been paid with income of TFT, so its the net result which is shown.\n",
       "- ROI is in **9** months (starting month:24).\n",
       "- the ROI after 60 months' is:  **8.1**\n"
      ],
      "text/plain": [
       "<IPython.core.display.Markdown object>"
      ]
     },
     "execution_count": 11,
     "metadata": {},
     "output_type": "execute_result"
    }
   ],
   "source": [
    "plt.figure(title='Income in USD Cumulated')\n",
    "line=plt.bar(np.arange(60),nb.sheet.rows[\"tft_cumul_value_usd\"].cells[startmonth:60+startmonth])\n",
    "plt.show()\n",
    "plt.figure(title='ROI = Return On Investment')\n",
    "line=plt.plot(np.arange(60),nb.sheet.rows[\"roi\"].cells[startmonth:60+startmonth])\n",
    "plt.show()\n",
    "md(f\"\"\"\n",
    "- The Return On investment is compared to cost to buy all the hardware.\n",
    "- The costs of the rackspace and power have been paid with income of TFT, so its the net result which is shown.\n",
    "- ROI is in **{nb.roi_months}** months (starting month:{startmonth}).\n",
    "- the ROI after 60 months' is:  **{round(nb.roi_end,1)}**\n",
    "\"\"\")"
   ]
  },
  {
   "cell_type": "code",
   "execution_count": null,
   "metadata": {},
   "outputs": [],
   "source": []
  }
 ],
 "metadata": {
  "kernelspec": {
   "display_name": "Python 3",
   "language": "python",
   "name": "python3"
  },
  "language_info": {
   "codemirror_mode": {
    "name": "ipython",
    "version": 3
   },
   "file_extension": ".py",
   "mimetype": "text/x-python",
   "name": "python",
   "nbconvert_exporter": "python",
   "pygments_lexer": "ipython3",
   "version": "3.7.6"
  }
 },
 "nbformat": 4,
 "nbformat_minor": 4
}
